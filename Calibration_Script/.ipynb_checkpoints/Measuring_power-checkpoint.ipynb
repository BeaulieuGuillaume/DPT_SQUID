{
 "cells": [
  {
   "cell_type": "markdown",
   "id": "9884cfcc-6bf6-489c-8a22-0d11a6ef7b58",
   "metadata": {},
   "source": [
    "# Import package"
   ]
  },
  {
   "cell_type": "code",
   "execution_count": 1,
   "id": "b242ae51-61de-4e0b-9ae2-f6185fc964c3",
   "metadata": {},
   "outputs": [],
   "source": [
    "from qm.QuantumMachinesManager import QuantumMachinesManager\n",
    "from qm.octave import *\n",
    "from qm.qua import *\n",
    "from qm import generate_qua_script\n",
    "\n",
    "#General os library \n",
    "import os\n",
    "import time\n",
    "import sys\n",
    "\n",
    "sys.path.append(r\"C:\\Users\\HQClabo\\Documents\\Code\\QuantumMachine\\Guillaume\\NonLinearRes_calib_30_03_2023\\QM_NonLinRes\\Calibration_Script\")\n",
    "dll_path=r\"C:\\\\Program Files\\\\Signal Hound\\\\Spike\\\\sa_api.dll\"\n",
    "\n",
    "import matplotlib.pyplot as plt\n",
    "from qualang_tools.units import unit\n",
    "from set_octave import get_L0_and_IF\n",
    "from configuration import *\n",
    "from qm import SimulationConfig, LoopbackInterface\n",
    "from qualang_tools.units import unit\n",
    "from qualang_tools.loops import from_array\n",
    "u = unit()\n",
    "from qualang_tools.plot import interrupt_on_close\n",
    "from qualang_tools.results import progress_counter, fetching_tool\n",
    "from qualang_tools.addons.variables import assign_variables_to_element\n",
    "\n",
    "#Path for HQCPC7 \n",
    "sys.path.append(r'C:\\Users\\HQClabo\\Documents\\Code\\QuantumMachine\\Guillaume\\NonLinearRes_calib_30_03_2023\\Analysis_Function\\NonLinearRes')\n",
    "sys.path.append(r'C:\\Users\\HQClabo\\Documents\\Code\\QuantumMachine\\Guillaume\\NonLinearRes_calib_30_03_2023\\Drivers\\Drivers') #path for the analysis function\n",
    "\n",
    "\n",
    "#from Signal_hound_driver import Signalhound \n",
    "from lmfit.models import LinearModel\n",
    "from Signal_hound_driver import Signalhound \n",
    "import Calibration_function as calib\n",
    "import update_config as cfg\n",
    "\n",
    "#Path for HQC PC15 \n",
    "# sys.path.append(r'C:\\Users\\hqclabo\\Documents\\Code\\gbeaulieu\\Analysis_Function\\NonLinearRes')\n",
    "# sys.path.append(r'C:\\Users\\hqclabo\\Documents\\Code\\gbeaulieu\\Drivers')\n",
    "import AnFunc as an # analysis function\n",
    "#import AnFunc as an \n",
    "import scipy.io\n",
    "from scipy import signal \n",
    "from scipy.optimize import curve_fit"
   ]
  },
  {
   "cell_type": "code",
   "execution_count": 6,
   "id": "95d19ca7-f89e-4277-a069-7045498c3de5",
   "metadata": {},
   "outputs": [],
   "source": [
    "def update_readout_lenght(Readout_Len,config,qmm):\n",
    "    \"\"\" Macro to update the readout length in the configuration file\"\"\"\n",
    "    \n",
    "\n",
    "    config[\"pulses\"][\"const\"][\"length\"]=Readout_Len\n",
    "    config[\"pulses\"][\"zero_pulse\"][\"length\"]=Readout_Len\n",
    "    config[\"integration_weights\"][\"cosine_weights\"][\"cosine\"][0]=(1.0, Readout_Len)\n",
    "    config[\"integration_weights\"][\"cosine_weights\"][\"sine\"][0]=(0.0, Readout_Len)\n",
    "    config[\"integration_weights\"][\"sine_weights\"][\"cosine\"][0]=(0.0, Readout_Len)\n",
    "    config[\"integration_weights\"][\"sine_weights\"][\"sine\"][0]=(1.0, Readout_Len)\n",
    "    config[\"integration_weights\"][\"minus_sine_weights\"][\"cosine\"][0]=(0.0, Readout_Len)\n",
    "    config[\"integration_weights\"][\"minus_sine_weights\"][\"sine\"][0]=(-1.0, Readout_Len)\n",
    "\n",
    "\n",
    "    #Update the config with the modified values above \n",
    "    qm = qmm.open_qm(config)\n",
    "    \n",
    "    return config, qm\n",
    "\n",
    "\n",
    "def update_time_of_flight(time_of_flight,config,qmm):\n",
    "    \"\"\" Update the time_of_flight of the qm in the configuration file \"\"\"\n",
    "    config[\"elements\"][\"resonator\"][\"time_of_flight\"]=time_of_flight\n",
    "    \n",
    "    qm=qmm.open_qm(config)\n",
    "    \n",
    "    return config, qm"
   ]
  },
  {
   "cell_type": "markdown",
   "id": "3ba61965-a304-41ae-89cf-a68ddad4f08c",
   "metadata": {},
   "source": [
    "# Setting"
   ]
  },
  {
   "cell_type": "code",
   "execution_count": 19,
   "id": "9ccd6bc1-5a47-46ae-952c-7338d2db8dbe",
   "metadata": {},
   "outputs": [
    {
     "name": "stdout",
     "output_type": "stream",
     "text": [
      "2023-08-17 19:11:09,603 - qm - INFO - Performing health check\n",
      "2023-08-17 19:11:09,614 - qm - WARNING -   HC Warning: Potential hardware issue with QSync in controller con1, multiple controllers sync cannot be guaranteed, please inform QM\n",
      "2023-08-17 19:11:09,615 - qm - INFO - Health check passed\n"
     ]
    }
   ],
   "source": [
    "#Octave & OPX configuration \n",
    "Saving_Path=r\"\\\\sb1files\\HQC\\Users\\beaulieu\\Data\\Run01\\131\\\\\"\n",
    "Cooldown_Date=\"2023_07_10\"\n",
    "\n",
    "calibration_path='C:\\\\Users\\\\HQClabo\\\\Documents\\\\Code\\\\QuantumMachine\\\\Guillaume\\\\NonLinearRes_calib_30_03_2023\\\\QM_NonLinRes\\\\Calibration_Script'\n",
    "\n",
    "\n",
    "opx_ip = '128.178.175.167'\n",
    "opx_port = 81\n",
    "octave_ip = '128.178.175.167'\n",
    "octave_port = 53\n",
    "\n",
    "\n",
    "octave_config = QmOctaveConfig()\n",
    "octave_config.set_calibration_db(calibration_path) #Path to the calibration database \n",
    "\n",
    "octave_config.add_device_info('octave1', octave_ip, octave_port) #Add a device refered to as octave 1\n",
    "octave_config.set_opx_octave_mapping([('con1', 'octave1')])  # set default mapping between analog outputs of OPX and the octave\n",
    "\n",
    "\n",
    "qmm = QuantumMachinesManager(host=opx_ip, port=opx_port, octave=octave_config)\n",
    "qm = qmm.open_qm(config)\n",
    "\n",
    "\n",
    "#Mixers for the fluxline \n",
    "octave_output_gain=-10\n",
    "\n",
    "#Mixers for the fluxline \n",
    "qmm.octave_manager.set_clock(\"octave1\", ClockType.External, ClockFrequency.MHZ_10) # External clock on the octave \n",
    "\n",
    "qm.octave.set_lo_source(\"fluxline\", OctaveLOSource.Internal) # Use internal LO for the fluxline \n",
    "qm.octave.set_lo_frequency(\"fluxline\", LO_fluxline)  # Set the frequency of the LO \n",
    "qm.octave.set_rf_output_gain(\"fluxline\", octave_output_gain)  # can set gain from -10dB to 20dB\n",
    "qm.octave.set_rf_output_mode(\"fluxline\", RFOutputMode.on)  # The LO output is always on (could change to a trigger)  #RFOutputMode.trig_normal\n",
    "\n",
    "#Mixers for the resonator \n",
    "qm.octave.set_qua_element_octave_rf_in_port(\"resonator\", \"octave1\", 1) #input port 1 is set for the resonator \n",
    "qm.octave.set_downconversion(\"resonator\", lo_source=RFInputLOSource.Internal)  # The LO for the demodulation is the interal LO  \n",
    "\n",
    "qm.octave.set_lo_source(\"resonator\", OctaveLOSource.Internal) # Use internal LO for the fluxline \n",
    "qm.octave.set_lo_frequency(\"resonator\", LO_readout)  # Set the frequency of the LO \n",
    "qm.octave.set_rf_output_gain(\"resonator\", octave_output_gain)  # can set gain from -10dB to 20dB\n",
    "qm.octave.set_rf_output_mode(\"resonator\", RFOutputMode.on)  # The LO output is always on (could change to a trigger)RFOutputMode.trig_normal\n",
    "\n",
    "\n",
    "offset_1= 0.01783981341796875\n",
    "offset_2= 0.01553899095214844\n",
    "config,qm=cfg.update_offset(offset_1, offset_2,config,qmm)"
   ]
  },
  {
   "cell_type": "code",
   "execution_count": 21,
   "id": "08e6c082-aa22-4a71-9837-faf2f47332de",
   "metadata": {},
   "outputs": [
    {
     "name": "stdout",
     "output_type": "stream",
     "text": [
      "LO of resonator : 4.2 GHz\n",
      "IF of resonator : 0.1 GHz\n",
      "Time of flight of resonator : 296 ns\n",
      "Readout time resonator : 1000 ns\n",
      "LO of fluxline: 8.6 GHz\n",
      "IF of fluxline : 0.0995 GHz\n",
      "Fluxline pulse time : 10000 ns\n",
      "Fluxline amplitude : 0.185 V\n"
     ]
    }
   ],
   "source": [
    "print(\"LO of resonator : {} GHz\".format(config['elements']['resonator'][\"mixInputs\"][\"lo_frequency\"]/1e9))\n",
    "print(\"IF of resonator : {} GHz\".format(config['elements']['resonator']['intermediate_frequency']/1e9))\n",
    "print(\"Time of flight of resonator : {} ns\".format(config['elements']['resonator']['time_of_flight']))\n",
    "print(\"Readout time resonator : {} ns\".format(config[\"pulses\"][\"zero_pulse\"][\"length\"]))\n",
    "print(\"LO of fluxline: {} GHz\".format(config['elements']['fluxline'][\"mixInputs\"][\"lo_frequency\"]/1e9))\n",
    "print(\"IF of fluxline : {} GHz\".format(config['elements']['fluxline']['intermediate_frequency']/1e9))\n",
    "print(\"Fluxline pulse time : {} ns\".format(config[\"pulses\"][\"twoPhoton\"][\"length\"]))\n",
    "print(\"Fluxline amplitude : {} V\".format(config[\"waveforms\"][\"twoPhoton_wf\"]['sample']))"
   ]
  },
  {
   "cell_type": "markdown",
   "id": "624ad69e-be85-4ac5-b419-2506d011ef8a",
   "metadata": {},
   "source": [
    "# Infinite pump"
   ]
  },
  {
   "cell_type": "code",
   "execution_count": 5,
   "id": "f4a0765e-c5c6-4e50-8c13-70ff90253917",
   "metadata": {},
   "outputs": [
    {
     "name": "stdout",
     "output_type": "stream",
     "text": [
      "2023-08-17 18:24:53,229 - qm - INFO - Flags: \n",
      "2023-08-17 18:24:53,230 - qm - INFO - Sending program to QOP\n",
      "2023-08-17 18:24:53,451 - qm - INFO - Executing program\n"
     ]
    }
   ],
   "source": [
    "amp_factor=0.05\n",
    "\n",
    "with program() as hello_octave:\n",
    "    with infinite_loop_():\n",
    "        play(\"cw\"*amp(amp_factor), \"resonator\")\n",
    "        \n",
    "job = qm.execute(hello_octave)"
   ]
  },
  {
   "cell_type": "code",
   "execution_count": 22,
   "id": "93933c96-7ac9-41a8-86fa-f2a78e785e5b",
   "metadata": {},
   "outputs": [
    {
     "data": {
      "text/plain": [
       "True"
      ]
     },
     "execution_count": 22,
     "metadata": {},
     "output_type": "execute_result"
    }
   ],
   "source": [
    "job.halt()"
   ]
  },
  {
   "cell_type": "code",
   "execution_count": 23,
   "id": "34a7cbfb-48cd-4e08-a8c2-946068c785ed",
   "metadata": {},
   "outputs": [
    {
     "name": "stdout",
     "output_type": "stream",
     "text": [
      "2023-08-17 19:12:28,940 - qm - INFO - Flags: \n",
      "2023-08-17 19:12:28,941 - qm - INFO - Sending program to QOP\n",
      "2023-08-17 19:12:30,500 - qm - INFO - Executing program\n",
      "The SNR on I : -4092.8711277396483\n",
      "The SNR on Q : 1114.0240806604902\n",
      "The SNR on total : 4166.258434925046\n"
     ]
    }
   ],
   "source": [
    "%matplotlib qt\n",
    "\n",
    "#Sets the pulse length and the pulse amplitude at the resonator \n",
    "pulse_len=100_000\n",
    "config,qm=update_readout_lenght(pulse_len,config,qmm)\n",
    "\n",
    "time_of_flight=298//4*4 # minimum 24\n",
    "config,qm=update_time_of_flight(time_of_flight,config,qmm)\n",
    "\n",
    "\n",
    "amp_factor=0.05#Amplitude factor of the resonator \n",
    "n_avg = 100  # Number of averaging loops\n",
    "cooldown_time = 100_000 // 4 #cooldown time between the averages in ns\n",
    "\n",
    "with program() as raw_trace_prog:\n",
    "   \n",
    "    n = declare(int)\n",
    "    I = declare(fixed)\n",
    "    Q = declare(fixed)\n",
    "    I_st = declare_stream()\n",
    "    Q_st = declare_stream()\n",
    "    \n",
    "    with for_(n, 0, n < n_avg, n + 1):\n",
    "        measure(\n",
    "            \"cw\"*amp(amp_factor),\n",
    "            \"resonator\",\n",
    "            None,\n",
    "            dual_demod.full(\"cos\", \"out1\", \"sin\", \"out2\", I),\n",
    "            dual_demod.full(\"minus_sin\", \"out1\", \"cos\", \"out2\", Q),\n",
    "        )\n",
    "\n",
    "        wait(cooldown_time, \"resonator\")\n",
    "        \n",
    "        save(I, I_st)\n",
    "        save(Q, Q_st)\n",
    "            \n",
    "    with stream_processing():\n",
    "\n",
    "        I_st.save_all(\"I\")\n",
    "        Q_st.save_all(\"Q\")\n",
    "\n",
    "qm = qmm.open_qm(config)\n",
    "job = qm.execute(raw_trace_prog)\n",
    "\n",
    "results = fetching_tool(job, data_list=[\"I\",\"Q\"], mode=\"wait_for_all\")\n",
    "\n",
    "I, Q = results.fetch_all()\n",
    "\n",
    "I = u.demod2volts(I, pulse_len)\n",
    "Q = u.demod2volts(Q, pulse_len)\n",
    "\n",
    "plt.figure()\n",
    "plt.subplot(121)\n",
    "plt.title(\"Single run\")\n",
    "plt.plot(I, label=\"I\")\n",
    "plt.plot(Q, label=\"Q\")\n",
    "plt.plot(np.sqrt(I**2+Q**2), label=\"Norm\")\n",
    "plt.xlabel(\"Time [ns]\")\n",
    "plt.ylabel(\"Signal amplitude [V]\")\n",
    "plt.legend()\n",
    "\n",
    "print(\"The SNR on I : {}\".format(np.mean(I)/np.sqrt(np.var(I))))\n",
    "print(\"The SNR on Q : {}\".format(np.mean(Q)/np.sqrt(np.var(Q))))\n",
    "print(\"The SNR on total : {}\".format(np.mean(np.sqrt(Q**2+I**2))/np.sqrt(np.var(np.sqrt(Q**2+I**2)))))"
   ]
  },
  {
   "cell_type": "code",
   "execution_count": 28,
   "id": "72162c0a-ed99-41f1-b68e-ad99320d9d8f",
   "metadata": {},
   "outputs": [],
   "source": [
    "#Sets the pulse length and the pulse amplitude at the resonator \n",
    "pulse_len=50_000\n",
    "config,qm=update_readout_lenght(pulse_len,config,qmm)\n",
    "\n",
    "amp_factor=0.05\n",
    "n_avg=500\n",
    "\n",
    "cooldown_time=100_000"
   ]
  },
  {
   "cell_type": "code",
   "execution_count": 35,
   "id": "43117b5b-58da-4717-ab1a-9273f7c6a2b5",
   "metadata": {},
   "outputs": [
    {
     "name": "stdout",
     "output_type": "stream",
     "text": [
      "2023-08-17 18:30:46,754 - qm - INFO - Flags: \n",
      "2023-08-17 18:30:46,755 - qm - INFO - Sending program to QOP\n",
      "2023-08-17 18:30:47,527 - qm - INFO - Executing program\n",
      "0.00013480587354952825#######################################] 100.2% (n=501/500) --> elapsed time: 0.06s\n"
     ]
    },
    {
     "data": {
      "text/plain": [
       "<Figure size 432x288 with 0 Axes>"
      ]
     },
     "metadata": {},
     "output_type": "display_data"
    },
    {
     "data": {
      "image/png": "[encoded data removed]",
      "text/plain": [
       "<Figure size 432x288 with 1 Axes>"
      ]
     },
     "metadata": {
      "needs_background": "light"
     },
     "output_type": "display_data"
    }
   ],
   "source": [
    "with program() as resonator_spec:\n",
    "\n",
    "    n = declare(int)\n",
    "    f = declare(int)\n",
    "    I = declare(fixed)\n",
    "    Q = declare(fixed)\n",
    "    I_st = declare_stream()\n",
    "    Q_st = declare_stream()\n",
    "    n_st= declare_stream()\n",
    "\n",
    "    with for_(n, 0, n < n_avg, n + 1):\n",
    "        \n",
    "\n",
    "        measure(\n",
    "            \"cw\"*amp(amp_factor),\n",
    "            \"resonator\",\n",
    "            None,\n",
    "            dual_demod.full(\"cos\", \"out1\", \"sin\", \"out2\", I),\n",
    "            dual_demod.full(\"minus_sin\", \"out1\", \"cos\", \"out2\", Q),\n",
    "        )\n",
    "\n",
    "        wait(cooldown_time, \"resonator\") #Waiting time between sucessive measure \n",
    "\n",
    "        save(I, I_st)\n",
    "        save(Q, Q_st)\n",
    "\n",
    "    save(n, n_st)\n",
    "\n",
    "    with stream_processing():\n",
    "\n",
    "        I_st.save_all(\"I\") #Fills all the buffer frequency and then average the sucessive \n",
    "        Q_st.save_all(\"Q\")\n",
    "        n_st.save(\"iteration\")\n",
    "\n",
    "simulate = False\n",
    "\n",
    "if simulate:\n",
    "\n",
    "    simulation_config = SimulationConfig(duration=10000)\n",
    "    job = qmm.simulate(config, resonator_spec, simulation_config)\n",
    "    job.get_simulated_samples().con1.plot(analog_ports={'1','2'},digital_ports={'1'})\n",
    "\n",
    "else:\n",
    "\n",
    "    qm = qmm.open_qm(config)\n",
    "    job = qm.execute(resonator_spec)\n",
    "\n",
    "    # Get results from QUA program\n",
    "    results = fetching_tool(job, data_list=[\"I\", \"Q\", \"iteration\"], mode=\"live\")\n",
    "\n",
    "    # Live plotting\n",
    "    fig = plt.figure()\n",
    "\n",
    "    while results.is_processing():\n",
    "        # Fetch results\n",
    "        I, Q, iteration = results.fetch_all()\n",
    "\n",
    "            # Convert I & Q to Volts\n",
    "        I = u.demod2volts(I, pulse_len)\n",
    "        Q = u.demod2volts(Q, pulse_len)\n",
    "\n",
    "        progress_counter(iteration, n_avg, start_time=results.get_start_time())\n",
    "\n",
    "        # Plot results\n",
    "        fig, ax = plt.subplots()\n",
    "        ax.cla()\n",
    "        ax.set_title(\"resonator spectroscopy amplitude\")\n",
    "        ax.plot(I, Q, \".\")\n",
    "        ax.set_xlabel(\"frequency [MHz]\")\n",
    "        ax.set_aspect('equal', 'box')\n",
    "        print(np.mean(I**2+Q**2))\n",
    "        \n",
    "        # plt.ylabel(r\"$\\sqrt{I^2 + Q^2}$ [a.u.]\")\n",
    "        # plt.subplot(212)\n",
    "        # plt.cla()\n",
    "        # # detrend removes the linear increase of phase\n",
    "        # phase = signal.detrend(np.unwrap(np.angle(I + 1j * Q)))\n",
    "        # plt.title(\"resonator spectroscopy phase\")\n",
    "        # plt.plot(freqs / u.MHz, phase, \".\")\n",
    "        # plt.xlabel(\"frequency [MHz]\")\n",
    "        # plt.ylabel(\"Phase [rad]\")\n",
    "        # plt.pause(0.1)\n",
    "        # plt.tight_layout()\n",
    "\n"
   ]
  },
  {
   "cell_type": "code",
   "execution_count": 10,
   "id": "672b0c80-a28c-4160-aa3e-ec188b3da91a",
   "metadata": {},
   "outputs": [
    {
     "data": {
      "text/plain": [
       "0.00014002993304870287"
      ]
     },
     "execution_count": 10,
     "metadata": {},
     "output_type": "execute_result"
    }
   ],
   "source": [
    "np.mean(I**2+Q**2)"
   ]
  },
  {
   "cell_type": "markdown",
   "id": "0c73e46a-2a3b-44f8-a87c-65914e6e3f0c",
   "metadata": {},
   "source": [
    "## Time of fligh"
   ]
  },
  {
   "cell_type": "code",
   "execution_count": 26,
   "id": "676e2a4a-559d-4fc6-b6fe-c63c4789af2f",
   "metadata": {},
   "outputs": [
    {
     "name": "stdout",
     "output_type": "stream",
     "text": [
      "2023-08-17 19:13:44,070 - qm - INFO - Flags: \n",
      "2023-08-17 19:13:44,072 - qm - INFO - Sending program to QOP\n",
      "2023-08-17 19:13:44,109 - qm - INFO - Executing program\n",
      "The mean offset of port 1 is: 6.677490234374997e-05\n",
      "The mean offset of port 2 is: 0.00023855957031250003\n"
     ]
    }
   ],
   "source": [
    "%matplotlib qt\n",
    "\n",
    "#Sets the pulse length and the pulse amplitude at the resonator \n",
    "pulse_len=1_000\n",
    "config,qm=update_readout_lenght(pulse_len,config,qmm)\n",
    "amp_factor=0.05\n",
    "\n",
    "time_of_flight=298//4*4# minimum \n",
    "config,qm=update_time_of_flight(time_of_flight,config,qmm)\n",
    "\n",
    "\n",
    "n_avg = 100  # Number of averaging loops\n",
    "cooldown_time = 50_000 // 4 #cooldown time between the averages\n",
    "\n",
    "with program() as raw_trace_prog:\n",
    "    n = declare(int)\n",
    "    adc_st = declare_stream(adc_trace=True)\n",
    "\n",
    "    with for_(n, 0, n < n_avg, n + 1):\n",
    "        reset_phase(\"resonator\")\n",
    "        measure(\"cw\"*amp(amp_factor), \"resonator\", adc_st)\n",
    "        wait(cooldown_time, \"resonator\")\n",
    "\n",
    "    with stream_processing():\n",
    "        \n",
    "        # Will save average:\n",
    "        adc_st.input1().average().save(\"adc1\")\n",
    "        adc_st.input2().average().save(\"adc2\")\n",
    "        \n",
    "        # Will save only last run:\n",
    "        adc_st.input1().save(\"adc1_single_run\")\n",
    "        adc_st.input2().save(\"adc2_single_run\")\n",
    "\n",
    "#Execute the program     \n",
    "qm = qmm.open_qm(config)\n",
    "job = qm.execute(raw_trace_prog)\n",
    "\n",
    "results = fetching_tool(job, data_list=[\"adc1\", \"adc2\", \"adc1_single_run\",\"adc2_single_run\"], mode=\"wait_for_all\")\n",
    "\n",
    "adc1, adc2, adc1_single_run, adc2_single_run = results.fetch_all()\n",
    "\n",
    "adc1 = u.raw2volts(adc1)\n",
    "adc2 = u.raw2volts(adc2)\n",
    "adc1_single_run = u.raw2volts(adc1_single_run)\n",
    "adc2_single_run = u.raw2volts(adc2_single_run)\n",
    "\n",
    "#Plotting \n",
    "plt.figure()\n",
    "plt.subplot(121)\n",
    "plt.title(\"Single run\")\n",
    "plt.plot(adc1_single_run, label=\"Input 1\")\n",
    "plt.plot(adc2_single_run, label=\"Input 2\")\n",
    "plt.xlabel(\"Time [ns]\")\n",
    "plt.ylabel(\"Signal amplitude [V]\")\n",
    "plt.legend()\n",
    "\n",
    "plt.subplot(122)\n",
    "plt.title(\"Averaged run\")\n",
    "plt.plot(adc1, label=\"Input 1\")\n",
    "plt.plot(adc2, label=\"Input 2\")\n",
    "plt.xlabel(\"Time [ns]\")\n",
    "plt.legend()\n",
    "plt.tight_layout()\n",
    "\n",
    "print(\"The mean offset of port 1 is: {}\".format(np.mean(adc1)))\n",
    "print(\"The mean offset of port 2 is: {}\".format(np.mean(adc2)))"
   ]
  },
  {
   "cell_type": "code",
   "execution_count": 25,
   "id": "832f49a0-51e6-45b4-9314-77ae63f3ad85",
   "metadata": {},
   "outputs": [
    {
     "data": {
      "text/plain": [
       "{'version': 1,\n",
       " 'controllers': {'con1': {'analog_outputs': {1: {'offset': -0.00860595703125},\n",
       "    2: {'offset': 0.054534912109375},\n",
       "    3: {'offset': -0.263916015625},\n",
       "    4: {'offset': 0.0362548828125},\n",
       "    5: {'offset': 0.0},\n",
       "    6: {'offset': 0.0},\n",
       "    7: {'offset': 0.0},\n",
       "    8: {'offset': 0.0},\n",
       "    9: {'offset': 0.0},\n",
       "    10: {'offset': 0.0}},\n",
       "   'digital_outputs': {1: {}, 2: {}, 3: {}, 4: {}, 5: {}},\n",
       "   'analog_inputs': {1: {'offset': 0.01783981341796875, 'gain_db': 0},\n",
       "    2: {'offset': 0.01553899095214844, 'gain_db': 0}}}},\n",
       " 'elements': {'resonator': {'mixInputs': {'I': ('con1', 1),\n",
       "    'Q': ('con1', 2),\n",
       "    'lo_frequency': 4200000000.0,\n",
       "    'mixer': 'octave_octave1_1'},\n",
       "   'intermediate_frequency': 100000000.0,\n",
       "   'operations': {'cw': 'const', 'fake_readout': 'zero_pulse'},\n",
       "   'digitalInputs': {'switch': {'port': ('con1', 1),\n",
       "     'delay': 126,\n",
       "     'buffer': 0}},\n",
       "   'outputs': {'out1': ('con1', 1), 'out2': ('con1', 2)},\n",
       "   'time_of_flight': 296,\n",
       "   'smearing': 0},\n",
       "  'fluxline': {'mixInputs': {'I': ('con1', 3),\n",
       "    'Q': ('con1', 4),\n",
       "    'lo_frequency': 8600000000.0,\n",
       "    'mixer': 'octave_octave1_2'},\n",
       "   'intermediate_frequency': 99500000.0,\n",
       "   'operations': {'pumping': 'twoPhoton'},\n",
       "   'digitalInputs': {'switch': {'port': ('con1', 3),\n",
       "     'delay': 0,\n",
       "     'buffer': 0}}}},\n",
       " 'pulses': {'const': {'operation': 'measurement',\n",
       "   'length': 1000,\n",
       "   'waveforms': {'I': 'const_wf', 'Q': 'zero_wf'},\n",
       "   'integration_weights': {'cos': 'cosine_weights',\n",
       "    'sin': 'sine_weights',\n",
       "    'minus_sin': 'minus_sine_weights'},\n",
       "   'digital_marker': 'ON'},\n",
       "  'zero_pulse': {'operation': 'measurement',\n",
       "   'length': 1000,\n",
       "   'waveforms': {'I': 'zero_wf', 'Q': 'zero_wf'},\n",
       "   'integration_weights': {'cos': 'cosine_weights',\n",
       "    'sin': 'sine_weights',\n",
       "    'minus_sin': 'minus_sine_weights'},\n",
       "   'digital_marker': 'ON'},\n",
       "  'twoPhoton': {'operation': 'measurement',\n",
       "   'length': 10000,\n",
       "   'waveforms': {'I': 'twoPhoton_wf', 'Q': 'zero_wf'},\n",
       "   'integration_weights': {'cos': 'cosine_weights',\n",
       "    'sin': 'sine_weights',\n",
       "    'minus_sin': 'minus_sine_weights'},\n",
       "   'digital_marker': 'ON'}},\n",
       " 'waveforms': {'zero_wf': {'type': 'constant', 'sample': 0.0},\n",
       "  'const_wf': {'type': 'constant', 'sample': 0.125},\n",
       "  'twoPhoton_wf': {'type': 'constant', 'sample': 0.185}},\n",
       " 'digital_waveforms': {'ON': {'samples': [(1, 0)]},\n",
       "  'OFF': {'samples': [(0, 0)]}},\n",
       " 'integration_weights': {'cosine_weights': {'cosine': [(1.0, 1000)],\n",
       "   'sine': [(0.0, 1000)]},\n",
       "  'sine_weights': {'cosine': [(0.0, 1000)], 'sine': [(1.0, 1000)]},\n",
       "  'minus_sine_weights': {'cosine': [(0.0, 1000)], 'sine': [(-1.0, 1000)]}},\n",
       " 'mixers': {'octave_octave1_1': [{'intermediate_frequency': 100000000,\n",
       "    'lo_frequency': 4200000000,\n",
       "    'correction': [0.9921703785657883,\n",
       "     0.09780342131853104,\n",
       "     0.09369117766618729,\n",
       "     1.0357181951403618]}],\n",
       "  'octave_octave1_2': [{'intermediate_frequency': 99500000,\n",
       "    'lo_frequency': 8600000000,\n",
       "    'correction': [1.0096100196242332,\n",
       "     -0.11023616790771484,\n",
       "     -0.10852718353271484,\n",
       "     1.0255084112286568]}]}}"
      ]
     },
     "execution_count": 25,
     "metadata": {},
     "output_type": "execute_result"
    }
   ],
   "source": [
    "config"
   ]
  },
  {
   "cell_type": "code",
   "execution_count": 15,
   "id": "a5b225ea-e14a-4dc1-a5d0-a7c58ebb3cd4",
   "metadata": {},
   "outputs": [
    {
     "name": "stdout",
     "output_type": "stream",
     "text": [
      "8.912509381337455e-05\n"
     ]
    }
   ],
   "source": [
    "P_dbm=-10.50\n",
    "P_W=10**(P_dbm/10)*1e-3\n",
    "print(P_W)"
   ]
  },
  {
   "cell_type": "markdown",
   "id": "69a100fe-8e8e-4f95-b6a1-5f21088a06a7",
   "metadata": {},
   "source": [
    "## from output to input"
   ]
  },
  {
   "cell_type": "markdown",
   "id": "87122d1d-c37e-446b-b3f0-9162cb1022f1",
   "metadata": {},
   "source": [
    "Amplitude  0.01\n",
    "octave_output_gain=-10\n",
    "\n",
    "We measure here, the signal from the QM into the qm with 10 averages (did'nt really influence) and vayring readout time. The cooldown is 100_000"
   ]
  },
  {
   "cell_type": "code",
   "execution_count": 150,
   "id": "e03b46be-5256-4431-aa66-83ef2d9187e8",
   "metadata": {},
   "outputs": [],
   "source": [
    "Length_arr=[5000,10_000,50_000,100_000,250_000, 500_000]\n",
    "            \n",
    "value=[2.714855017361231e-06,2.8694800448648162e-06,2.999169958548127e-06,3.0118753340846953e-06,3.0236096981556156e-06, 3.018718997051703e-06]\n"
   ]
  },
  {
   "cell_type": "code",
   "execution_count": 152,
   "id": "63ef2486-3d7f-4538-92bb-cf1270ff4691",
   "metadata": {},
   "outputs": [
    {
     "data": {
      "text/plain": [
       "Text(0, 0.5, '$<I^2>+<Q^2>$')"
      ]
     },
     "execution_count": 152,
     "metadata": {},
     "output_type": "execute_result"
    },
    {
     "data": {
      "image/png": "[encoded data removed]",
      "text/plain": [
       "<Figure size 432x288 with 1 Axes>"
      ]
     },
     "metadata": {
      "needs_background": "light"
     },
     "output_type": "display_data"
    }
   ],
   "source": [
    "plt.plot(Length_arr, value,\".-\")\n",
    "plt.xlabel(\"Readout time\")\n",
    "plt.ylabel(r\"$<I^2>+<Q^2>$\")"
   ]
  },
  {
   "cell_type": "markdown",
   "id": "11daeed9-a247-4247-b832-54e864ef0a3d",
   "metadata": {},
   "source": [
    "## from output to input with time of flight"
   ]
  },
  {
   "cell_type": "code",
   "execution_count": 230,
   "id": "de027cea-4977-4fe3-91ce-fab8ce2be107",
   "metadata": {},
   "outputs": [],
   "source": [
    "Length_arr=[5000,10_000,50_000]\n",
    "            \n",
    "value=[3.0211282816249567e-06,3.022260570219558e-06,3.023617200436483e-06]"
   ]
  },
  {
   "cell_type": "code",
   "execution_count": 231,
   "id": "205ed908-6d87-436a-9f6e-e62fc4d3cf04",
   "metadata": {},
   "outputs": [
    {
     "data": {
      "text/plain": [
       "Text(0, 0.5, '$<I^2>+<Q^2>$')"
      ]
     },
     "execution_count": 231,
     "metadata": {},
     "output_type": "execute_result"
    },
    {
     "data": {
      "image/png": "[encoded data removed]",
      "text/plain": [
       "<Figure size 432x288 with 1 Axes>"
      ]
     },
     "metadata": {
      "needs_background": "light"
     },
     "output_type": "display_data"
    }
   ],
   "source": [
    "%matplotlib inline\n",
    "plt.plot(Length_arr, value,\".-\")\n",
    "plt.xlabel(\"Readout time\")\n",
    "plt.ylabel(r\"$<I^2>+<Q^2>$\")"
   ]
  },
  {
   "cell_type": "markdown",
   "id": "7130e225-4d95-467d-8e79-c4a413c626e8",
   "metadata": {},
   "source": [
    "## noise "
   ]
  },
  {
   "cell_type": "markdown",
   "id": "cb5e7885-0931-4203-a0fa-61a0dde1d359",
   "metadata": {},
   "source": [
    "Then, we measure te noise, that is for an amplitude of 0. \n",
    "\n",
    "For 10_000 averages "
   ]
  },
  {
   "cell_type": "code",
   "execution_count": 170,
   "id": "adf93309-ef8b-49af-88e2-27061439f077",
   "metadata": {},
   "outputs": [],
   "source": [
    "Length_arr=[500, 5000,10_000,50_000]\n",
    "\n",
    "value=[1.572326499921605e-05, 1.4981785611866545e-06, 7.590447925652006e-07, 1.5403545448880595e-07]"
   ]
  },
  {
   "cell_type": "code",
   "execution_count": 172,
   "id": "653c5dfd-641d-4441-9960-270afd92c24a",
   "metadata": {},
   "outputs": [
    {
     "data": {
      "text/plain": [
       "Text(0.5, 1.0, 'vaccuum')"
      ]
     },
     "execution_count": 172,
     "metadata": {},
     "output_type": "execute_result"
    },
    {
     "data": {
      "image/png": "[encoded data removed]",
      "text/plain": [
       "<Figure size 432x288 with 1 Axes>"
      ]
     },
     "metadata": {
      "needs_background": "light"
     },
     "output_type": "display_data"
    }
   ],
   "source": [
    "plt.plot(Length_arr, value,\".-\")\n",
    "plt.xlabel(\"Readout time\")\n",
    "plt.ylabel(r\"$<I^2>+<Q^2>$\")\n",
    "plt.title(\"vaccuum\")"
   ]
  },
  {
   "cell_type": "markdown",
   "id": "264bbbda-e741-4624-9ae2-20868e4124d2",
   "metadata": {},
   "source": [
    "## Through the fridge\n",
    "\n",
    "With an amplitude of 0.1 of amp_factor"
   ]
  },
  {
   "cell_type": "code",
   "execution_count": 191,
   "id": "2273a6fb-3838-423b-843f-bf24d45e68d3",
   "metadata": {},
   "outputs": [],
   "source": [
    "Length_arr=[1000,5000,10_000,50_000,100_000]\n",
    "\n",
    "value=[4.524681782229233e-05,7.46495062956552e-05, 7.902331721925492e-05,8.28229345370132e-05,8.343689207781229e-05]"
   ]
  },
  {
   "cell_type": "code",
   "execution_count": 192,
   "id": "e144a960-2cdd-4141-a8ba-334821859952",
   "metadata": {},
   "outputs": [
    {
     "data": {
      "text/plain": [
       "Text(0, 0.5, '$<I^2>+<Q^2>$')"
      ]
     },
     "execution_count": 192,
     "metadata": {},
     "output_type": "execute_result"
    },
    {
     "data": {
      "image/png": "[encoded data removed]",
      "text/plain": [
       "<Figure size 432x288 with 1 Axes>"
      ]
     },
     "metadata": {
      "needs_background": "light"
     },
     "output_type": "display_data"
    }
   ],
   "source": [
    "plt.plot(Length_arr, value,\".-\")\n",
    "plt.xlabel(\"Readout time\")\n",
    "plt.ylabel(r\"$<I^2>+<Q^2>$\")"
   ]
  },
  {
   "cell_type": "markdown",
   "id": "add971db-10ef-4e63-a4b4-280c9298b48d",
   "metadata": {},
   "source": [
    "## Conversion :"
   ]
  },
  {
   "cell_type": "markdown",
   "id": "8471074e-4792-43c0-b139-414a7e2fe112",
   "metadata": {},
   "source": [
    "We measuse the signal at the spectrum analyzer and then we measure the <I^2> + <Q^2> at the QM and find the conversion factor "
   ]
  },
  {
   "cell_type": "markdown",
   "id": "ac3710bf-6879-4158-ac59-61142be69f6c",
   "metadata": {},
   "source": [
    "For the -60 dbm from the source at the Spectrum analyzer,we measured \n",
    "\n",
    " At the spectrum analyzer, we get -63.08 dbm \n",
    " \n",
    " For 10_000 : 1.6782355134937838e-06\n",
    " For 50_000: 1.6757923940010675e-06\n",
    " For 100_000 : 1.678669353024087e-06\n",
    " For 500_000 : 1.6726132757149207e-06"
   ]
  },
  {
   "cell_type": "code",
   "execution_count": 283,
   "id": "2029c652-a973-4425-84fe-697bb7bef9f1",
   "metadata": {},
   "outputs": [
    {
     "data": {
      "text/plain": [
       "1.6726132757149205e-08"
      ]
     },
     "execution_count": 283,
     "metadata": {},
     "output_type": "execute_result"
    }
   ],
   "source": [
    "1.6726132757149207e-06/(50*2)"
   ]
  },
  {
   "cell_type": "code",
   "execution_count": null,
   "id": "36aefccd-4286-41e7-935d-4685c0a872be",
   "metadata": {},
   "outputs": [],
   "source": [
    "#with, amp_factor=0.05  we get -44.50 dbm \n"
   ]
  }
 ],
 "metadata": {
  "kernelspec": {
   "display_name": "Python 3 (ipykernel)",
   "language": "python",
   "name": "python3"
  },
  "language_info": {
   "codemirror_mode": {
    "name": "ipython",
    "version": 3
   },
   "file_extension": ".py",
   "mimetype": "text/x-python",
   "name": "python",
   "nbconvert_exporter": "python",
   "pygments_lexer": "ipython3",
   "version": "3.7.13"
  }
 },
 "nbformat": 4,
 "nbformat_minor": 5
}
