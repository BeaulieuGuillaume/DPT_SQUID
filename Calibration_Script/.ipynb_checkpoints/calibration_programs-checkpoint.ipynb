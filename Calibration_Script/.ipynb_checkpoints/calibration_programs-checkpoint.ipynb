{
 "cells": [
  {
   "cell_type": "code",
   "execution_count": 1,
   "id": "e4e0d5bd-2b96-4a54-b28f-42221325d366",
   "metadata": {},
   "outputs": [],
   "source": [
    "from qm.qua import *\n",
    "from qm.QuantumMachinesManager import QuantumMachinesManager\n",
    "from configuration import *\n",
    "import matplotlib.pyplot as plt\n",
    "import numpy as np\n",
    "from scipy import signal\n",
    "from qm import SimulationConfig, LoopbackInterface\n",
    "import Labber\n",
    "\n",
    "\n",
    "from qm.octave import *\n",
    "from qm.qua import *\n",
    "import os\n",
    "import time\n",
    "from qualang_tools.units import unit\n",
    "from set_octave import get_L0_and_IF\n",
    "\n",
    "\n",
    "from qualang_tools.loops import from_array,get_equivalent_log_array\n",
    "from qualang_tools.plot import interrupt_on_close\n",
    "from qualang_tools.results import progress_counter, fetching_tool\n",
    "from resonator_tools import circuit \n",
    "\n",
    "import sys\n",
    "#Path for HQCPC7 \n",
    "sys.path.append(r'C:\\Users\\HQClabo\\Documents\\Code\\QuantumMachine\\Guillaume\\NonLinearRes_calib_30_03_2023\\Analysis_Function\\NonLinearRes')\n",
    "sys.path.append(r'C:\\Users\\HQClabo\\Documents\\Code\\QuantumMachine\\Guillaume\\NonLinearRes_calib_30_03_2023\\Drivers\\Drivers') #path for the analysis function\n",
    "sys.path.append(r\"\\C:\\Users\\HQClabo\\Documents\\Code\\QuantumMachine\\Guillaume\\NonLinearRes_calib_30_03_2023\\QM_NonLinRes\\Calibration_Script\")\n",
    "\n",
    "# #Path for HQC PC15 \n",
    "# sys.path.append(r'C:\\Users\\hqclabo\\Documents\\Code\\gbeaulieu\\Analysis_Function\\NonLinearRes')\n",
    "# sys.path.append(r'C:\\Users\\hqclabo\\Documents\\Code\\gbeaulieu\\Drivers')\n",
    "import AnFunc as an # analysis function\n",
    "import imageio\n",
    "from Signal_hound_driver import Signalhound \n",
    "from lmfit.models import LinearModel\n",
    "\n",
    "from qualang_tools.units import unit\n",
    "u = unit()\n",
    "\n"
   ]
  },
  {
   "cell_type": "code",
   "execution_count": 3,
   "id": "1bfeed5e-8196-4f97-89ae-e32e7a34a2eb",
   "metadata": {},
   "outputs": [],
   "source": [
    "def update_offset(offset_1, offset_2,config,qmm):\n",
    "    \"\"\" Update the input offsets of the qm in the configuration file \"\"\"\n",
    "    \n",
    "    config['controllers'][\"con1\"][\"analog_inputs\"][1]['offset']=offset_1\n",
    "    config['controllers'][\"con1\"][\"analog_inputs\"][2]['offset']=offset_2\n",
    "    \n",
    "    \n",
    "    qm=qmm.open_qm(config)\n",
    "    \n",
    "    return config, qm\n",
    "\n",
    "def update_readout_lenght(Readout_Len,config,qmm):\n",
    "    \"\"\" Macro to update the readout length in the configuration file\"\"\"\n",
    "    \n",
    "    config[\"pulses\"][\"zero_pulse\"][\"length\"]=Readout_Len\n",
    "    config[\"integration_weights\"][\"cosine_weights\"][\"cosine\"][0]=(1.0, Readout_Len)\n",
    "    config[\"integration_weights\"][\"cosine_weights\"][\"sine\"][0]=(0.0, Readout_Len)\n",
    "    config[\"integration_weights\"][\"sine_weights\"][\"cosine\"][0]=(0.0, Readout_Len)\n",
    "    config[\"integration_weights\"][\"sine_weights\"][\"sine\"][0]=(1.0, Readout_Len)\n",
    "    config[\"integration_weights\"][\"minus_sine_weights\"][\"cosine\"][0]=(0.0, Readout_Len)\n",
    "    config[\"integration_weights\"][\"minus_sine_weights\"][\"sine\"][0]=(-1.0, Readout_Len)\n",
    "\n",
    "\n",
    "    #Update the config with the modified values above \n",
    "    qm = qmm.open_qm(config)\n",
    "    \n",
    "    return config, qm\n",
    "\n",
    "\n",
    "def update_pulse_amplitude(pulse_amp,config,qmm):\n",
    "    config[\"waveforms\"][\"twoPhoton_wf\"]['sample']=pulse_amp\n",
    "    \n",
    "    #Update the config with the modified values above \n",
    "    qm = qmm.open_qm(config)\n",
    "    \n",
    "    return config, qm\n",
    "\n",
    "def update_two_photon_lenght(twoPhoton_len,config,qmm):\n",
    "    \"\"\" Update the length of the fluxline pulse in the configuration file\"\"\"\n",
    "    config[\"pulses\"][\"twoPhoton\"][\"length\"]=twoPhoton_len\n",
    "\n",
    "\n",
    "    #Update the config with the modified values above \n",
    "    qm = qmm.open_qm(config)\n",
    "    \n",
    "    return config, qm\n",
    "\n",
    "def update_resonator_pulse_length(resonator_len,config,qmm):\n",
    "        \n",
    "    config[\"pulses\"][\"const\"][\"length\"]=resonator_len #Length of the pumping pulse=twoPhoton_len\n",
    "\n",
    "\n",
    "    #Update the config with the modified values above \n",
    "    qm = qmm.open_qm(config)\n",
    "    \n",
    "    return config, qm\n",
    "\n",
    "\n",
    "def Resonator_Power_Monitoring(amplitude_array, n_points):\n",
    "    \n",
    "    Spec_amp=np.zeros(len(amplitude_array))\n",
    "    pulse_time=2_000_000_000//4\n",
    "    \n",
    "    amplitude_array=amplitude_array.tolist()\n",
    "    \n",
    "    #defines the program \n",
    "    with program() as calib_amp:\n",
    "\n",
    "        a=declare(fixed)\n",
    "\n",
    "        with for_each_(a,amplitude_array):\n",
    "\n",
    "            play(\"cw\"*amp(a), \"resonator\",duration=pulse_time) #Plays the pump pulse on the flux line \n",
    "            pause() # pause to collect the data from the trigger \n",
    "\n",
    "\n",
    "    job = qm.execute( calib_amp)  # Execute QUA program  \n",
    "\n",
    "\n",
    "    for j in range(len(amplitude_array)):\n",
    "        while not job.is_paused():\n",
    "            time.sleep(0.001)\n",
    "\n",
    "\n",
    "        print(j)\n",
    "        #time.sleep()\n",
    "        sgh.IQ(n_points)\n",
    "        time.sleep(0.5)\n",
    "\n",
    "\n",
    "        b=sgh.iqArr[0:].reshape(int(len(sgh.iqArr[0:])/2),2)\n",
    "        Spec_amp[j]=np.mean(np.sqrt(b[:,0]**2+b[:,1]**2))*1000\n",
    "\n",
    "        job.resume()  # Resume to the program\n",
    "        \n",
    "   \n",
    "\n",
    "    return Spec_amp\n",
    "\n",
    "\n",
    "def Pump_Power_Monitoring(amplitude_array, n_points):\n",
    "    \n",
    "    Spec_amp=np.zeros(len(amplitude_array))\n",
    "    pulse_time=2_000_000_000//4\n",
    "    \n",
    "    #defines the program \n",
    "    with program() as calib_amp:\n",
    "\n",
    "        a=declare(fixed)\n",
    "\n",
    "        with for_(*from_array(a,amplitude_array)):\n",
    "\n",
    "            play(\"pumping\"*amp(a), \"fluxline\",duration=pulse_time) #Plays the pump pulse on the flux line \n",
    "            pause() # pause to collect the data from the trigger \n",
    "\n",
    "\n",
    "    job = qm.execute( calib_amp)  # Execute QUA program  \n",
    "\n",
    "\n",
    "    for j in range(len(amplitude_array)):\n",
    "        while not job.is_paused():\n",
    "            time.sleep(0.001)\n",
    "\n",
    "\n",
    "        print(j)\n",
    "        #time.sleep()\n",
    "        sgh.IQ(n_points)\n",
    "        time.sleep(0.5)\n",
    "\n",
    "\n",
    "        b=sgh.iqArr[0:].reshape(int(len(sgh.iqArr[0:])/2),2)\n",
    "        Spec_amp[j]=np.mean(np.sqrt(b[:,0]**2+b[:,1]**2))*1000\n",
    "\n",
    "        job.resume()  # Resume to the program\n",
    "        \n",
    "   \n",
    "\n",
    "    return Spec_amp\n",
    "\n",
    "\n",
    "def SingleResonatorSpec(n_avg, cooldown_time, f_min, f_max, df, amp_factor,plot=True): \n",
    "    \n",
    "    freqs = np.arange(f_min, f_max + 0.1, df)\n",
    "    \n",
    "    with program() as resonator_spec:\n",
    "\n",
    "        n = declare(int)\n",
    "        f = declare(int)\n",
    "        I = declare(fixed)\n",
    "        Q = declare(fixed)\n",
    "        I_st = declare_stream()\n",
    "        Q_st = declare_stream()\n",
    "        n_st= declare_stream()\n",
    "\n",
    "        with for_(n, 0, n < n_avg, n + 1):\n",
    "\n",
    "            with for_(f, f_min, f <= f_max, f + df):  # Notice it's <= to include f_max (This is only for integers!)\n",
    "\n",
    "                update_frequency(\"resonator\", f)\n",
    "\n",
    "                measure(\n",
    "                    \"cw\"*amp(amp_factor),\n",
    "                    \"resonator\",\n",
    "                    None,\n",
    "                    dual_demod.full(\"cos\", \"out1\", \"sin\", \"out2\", I),\n",
    "                    dual_demod.full(\"minus_sin\", \"out1\", \"cos\", \"out2\", Q),\n",
    "                )\n",
    "\n",
    "                wait(cooldown_time, \"resonator\") #Waiting time between sucessive measure \n",
    "\n",
    "                save(I, I_st)\n",
    "                save(Q, Q_st)\n",
    "\n",
    "            save(n, n_st)\n",
    "\n",
    "        with stream_processing():\n",
    "\n",
    "            I_st.buffer(len(freqs)).average().save(\"I\") #Fills all the buffer frequency and then average the sucessive \n",
    "            Q_st.buffer(len(freqs)).average().save(\"Q\")\n",
    "            n_st.save(\"iteration\")\n",
    "\n",
    "    simulate = False\n",
    "\n",
    "    if simulate:\n",
    "\n",
    "        simulation_config = SimulationConfig(duration=10000)\n",
    "        job = qmm.simulate(config, resonator_spec, simulation_config)\n",
    "        job.get_simulated_samples().con1.plot(analog_ports={'1','2'},digital_ports={'1'})\n",
    "\n",
    "    else:\n",
    "\n",
    "        qm = qmm.open_qm(config)\n",
    "        job = qm.execute(resonator_spec)\n",
    "\n",
    "        # Get results from QUA program\n",
    "        results = fetching_tool(job, data_list=[\"I\", \"Q\", \"iteration\"], mode=\"live\")\n",
    "\n",
    "        # Live plotting\n",
    "        fig = plt.figure()\n",
    "        interrupt_on_close(fig, job)  # Interrupts the job when closing the figure\n",
    "\n",
    "        while results.is_processing():\n",
    "            # Fetch results\n",
    "            I, Q, iteration = results.fetch_all()\n",
    "            \n",
    "                # Convert I & Q to Volts\n",
    "            I = u.demod2volts(I, pulse_len)\n",
    "            Q = u.demod2volts(Q, pulse_len)\n",
    "            \n",
    "            progress_counter(iteration, n_avg, start_time=results.get_start_time())\n",
    "\n",
    "            # Plot results\n",
    "            plt.subplot(211)\n",
    "            plt.cla()\n",
    "            plt.title(\"resonator spectroscopy amplitude\")\n",
    "            plt.plot(freqs / u.MHz, 20*np.log10(np.sqrt(I**2 + Q**2)/(amp_factor)), \".\")\n",
    "            plt.xlabel(\"frequency [MHz]\")\n",
    "            plt.ylabel(r\"$\\sqrt{I^2 + Q^2}$ [a.u.]\")\n",
    "            plt.subplot(212)\n",
    "            plt.cla()\n",
    "            # detrend removes the linear increase of phase\n",
    "            phase = signal.detrend(np.unwrap(np.angle(I + 1j * Q)))\n",
    "            plt.title(\"resonator spectroscopy phase\")\n",
    "            plt.plot(freqs / u.MHz, phase, \".\")\n",
    "            plt.xlabel(\"frequency [MHz]\")\n",
    "            plt.ylabel(\"Phase [rad]\")\n",
    "            plt.pause(0.1)\n",
    "            plt.tight_layout()\n",
    "            \n",
    "            \n",
    "    \n",
    "    f=freqs+LO_readout \n",
    "    \n",
    "    port=circuit.notch_port()\n",
    "    port.add_data(f,I+ 1j*Q)\n",
    "    port.autofit()\n",
    "    \n",
    "    if plot==True : \n",
    "\n",
    "        fig, axs = plt.subplots( nrows=1, ncols=3, figsize=(26/2.54, 6/2.54),dpi=200)\n",
    "        figsize=(8/2.54, 6/2.54)\n",
    "        dpi=300\n",
    "        fontsize=5\n",
    "\n",
    "        #fig.suptitle(\"Output VNA power \"+str(y_0[idx]) +\" dB\", fontsize=8)\n",
    "\n",
    "\n",
    "\n",
    "        ax=axs[0]\n",
    "        ax.plot(port.z_data_raw.real, port.z_data_raw.imag,\"o\", ms=0.5)\n",
    "        ax.plot(port.z_data_sim.real, port.z_data_sim.imag,\"-\")\n",
    "        ax.set_title(\"S21\",fontsize=fontsize)\n",
    "        ax.set_xlabel(\"Real value [S21]\",fontsize=fontsize)\n",
    "        ax.set_ylabel(\"Imag value [S21]\",fontsize=fontsize)\n",
    "        ax.tick_params(axis='x', labelsize=fontsize)\n",
    "        ax.tick_params(axis='y', labelsize=fontsize)\n",
    "\n",
    "\n",
    "        ax=axs[1]\n",
    "        ax.plot(f/1e9, np.abs(port.z_data_raw),\"o\", ms=0.5)\n",
    "        ax.plot(f/1e9, np.abs(port.z_data_sim),\"-\")\n",
    "        ax.set_title(\"Amplitude\",fontsize=fontsize)\n",
    "        ax.set_xlabel(\"Frequency [GHz]\",fontsize=fontsize)\n",
    "        ax.set_ylabel(\"Amplitude \",fontsize=fontsize)\n",
    "        ax.tick_params(axis='x', labelsize=fontsize)\n",
    "        ax.tick_params(axis='y', labelsize=fontsize)\n",
    "\n",
    "\n",
    "\n",
    "        ax=axs[2]\n",
    "        ax.plot(f/1e9, np.angle(port.z_data_raw),\"o\", ms=0.5)\n",
    "        ax.plot(f/1e9, np.angle(port.z_data_sim),\"-\")\n",
    "        ax.set_title(\"Phase\",fontsize=fontsize)\n",
    "        ax.set_xlabel(\"Frequency [GHz]\",fontsize=fontsize)\n",
    "        ax.set_ylabel(\"Phase [rad]\",fontsize=fontsize)\n",
    "        ax.tick_params(axis='x', labelsize=fontsize)\n",
    "        ax.tick_params(axis='y', labelsize=fontsize)\n",
    "\n",
    "    resonance_frequency=port.fitresults[\"fr\"]\n",
    "    error_frequency=port.fitresults['fr_err']\n",
    "\n",
    "\n",
    "    print(\"The measured resonance frequency is {} GHz with an error of {} GHz\".format(port.fitresults[\"fr\"]/1e9,port.fitresults['fr_err']/1e9))\n",
    "\n",
    " \n",
    "    return freqs,I,Q,resonance_frequency, error_frequency"
   ]
  },
  {
   "cell_type": "code",
   "execution_count": 4,
   "id": "d2108cf6-3ba8-4c15-9d96-a39ad1e5de29",
   "metadata": {},
   "outputs": [
    {
     "name": "stdout",
     "output_type": "stream",
     "text": [
      "2023-07-09 15:29:16,307 - qm - INFO - Performing health check\n",
      "2023-07-09 15:29:16,318 - qm - WARNING -   HC Warning: Potential hardware issue with QSync in controller con1, multiple controllers sync cannot be guaranteed, please inform QM\n",
      "2023-07-09 15:29:16,319 - qm - INFO - Health check passed\n"
     ]
    }
   ],
   "source": [
    "#Octave & OPX configuration \n",
    "Saving_Path=r\"\\\\sb1files\\HQC\\Users\\beaulieu\\Data\\Run01\\131\\\\\"\n",
    "Cooldown_Date=\"2023_07_08\"\n",
    "\n",
    "calibration_path='C:\\\\Users\\\\HQClabo\\\\Documents\\\\Code\\\\QuantumMachine\\\\Guillaume\\\\NonLinearRes_calib_30_03_2023\\\\QM_NonLinRes\\\\Calibration_Script'\n",
    "\n",
    "opx_ip = '128.178.175.167'\n",
    "opx_port = 81\n",
    "octave_ip = '128.178.175.167'\n",
    "octave_port = 53\n",
    "\n",
    "octave_config = QmOctaveConfig()\n",
    "octave_config.set_calibration_db(calibration_path) #Path to the calibration database \n",
    "\n",
    "octave_config.add_device_info('octave1', octave_ip, octave_port) #Add a device refered to as octave 1\n",
    "octave_config.set_opx_octave_mapping([('con1', 'octave1')])  # set default mapping between analog outputs of OPX and the octave\n",
    "\n",
    "qmm = QuantumMachinesManager(host=opx_ip, port=opx_port, octave=octave_config)\n",
    "qm = qmm.open_qm(config)\n",
    "\n",
    "octave_output_gain=-10\n",
    "\n",
    "#Mixers for the fluxline \n",
    "qmm.octave_manager.set_clock(\"octave1\", ClockType.External, ClockFrequency.MHZ_10) # External clock on the octave \n",
    "\n",
    "qm.octave.set_lo_source(\"fluxline\", OctaveLOSource.Internal) # Use internal LO for the fluxline \n",
    "qm.octave.set_lo_frequency(\"fluxline\", LO_fluxline)  # Set the frequency of the LO \n",
    "qm.octave.set_rf_output_gain(\"fluxline\", octave_output_gain)  # can set gain from -10dB to 20dB\n",
    "qm.octave.set_rf_output_mode(\"fluxline\", RFOutputMode.trig_normal)  # The LO output is always on (could change to a trigger)  #RFOutputMode.trig_normal\n",
    "\n",
    "#Mixers for the resonator \n",
    "qm.octave.set_qua_element_octave_rf_in_port(\"resonator\", \"octave1\", 1) #input port 1 is set for the resonator \n",
    "qm.octave.set_downconversion(\"resonator\", lo_source=RFInputLOSource.Internal)  # The LO for the demodulation is the interal LO  \n",
    "\n",
    "qm.octave.set_lo_source(\"resonator\", OctaveLOSource.Internal) # Use internal LO for the fluxline \n",
    "qm.octave.set_lo_frequency(\"resonator\", LO_readout)  # Set the frequency of the LO \n",
    "qm.octave.set_rf_output_gain(\"resonator\", octave_output_gain)  # can set gain from -10dB to 20dB\n",
    "qm.octave.set_rf_output_mode(\"resonator\", RFOutputMode.on)  # The LO output is always on (could change to a trigger)RFOutputMode.trig_normal\n"
   ]
  },
  {
   "cell_type": "markdown",
   "id": "db6f897d-4068-481d-9004-1e7195489f0a",
   "metadata": {},
   "source": [
    "# Calibration at the octave "
   ]
  },
  {
   "cell_type": "code",
   "execution_count": 55,
   "id": "b39ff3f0-cb80-4f6c-b3c7-05c17d0f95f0",
   "metadata": {},
   "outputs": [
    {
     "name": "stdout",
     "output_type": "stream",
     "text": [
      "2023-07-08 18:26:58,894 - qm - INFO - Flags: \n",
      "2023-07-08 18:26:58,896 - qm - INFO - Compiling program\n",
      "2023-07-08 18:27:01,540 - qm - INFO - Sending pre-compiled program to QOP\n",
      "2023-07-08 18:27:05,189 - qm - INFO - Flags: \n",
      "2023-07-08 18:27:05,190 - qm - INFO - Compiling program\n",
      "2023-07-08 18:27:07,622 - qm - INFO - Sending pre-compiled program to QOP\n"
     ]
    }
   ],
   "source": [
    "#Calibration of resonator frequency and pump at the octave \n",
    "qm.octave.calibrate_element(\"fluxline\", [get_L0_and_IF(config, \"fluxline\")])  \n",
    "qm = qmm.open_qm(config)\n",
    "\n",
    "qm.octave.calibrate_element(\"resonator\", [get_L0_and_IF(config, \"resonator\")])  \n",
    "qm = qmm.open_qm(config)"
   ]
  },
  {
   "cell_type": "markdown",
   "id": "969a0b14-1dff-4051-be09-f4f0a5af07c3",
   "metadata": {},
   "source": [
    "# ADC & time of flight calibration\n",
    "\n",
    "This allows checking that the ADC is not saturated to set a proper gain, correct for DC offsets and define the time of flight.\n",
    "For this, we send a Twophoton pulse and look at the the raw adc \n",
    "\n"
   ]
  },
  {
   "cell_type": "code",
   "execution_count": 6,
   "id": "a4ec5f19-7c63-48fb-952e-a6260b23994f",
   "metadata": {},
   "outputs": [],
   "source": [
    "#Sets the pulse length and the pulse amplitude at the resonator \n",
    "Readout_Len=100_000\n",
    "config,qm=update_readout_lenght(Readout_Len,config,qmm)\n",
    "\n",
    "twoPhoton_len=100_000\n",
    "config,qm=update_two_photon_lenght(twoPhoton_len,config,qmm)\n",
    "\n",
    "\n",
    "amp_factor=1.05 #Amplitude factor of the pump \n",
    "\n",
    "n_avg = 1000  # Number of averaging loops\n",
    "\n",
    "IF_pump=99471960 # if to be at twice the resoance frequency \n",
    "IF_resonator=(LO_fluxline+IF_pump)/2-LO_readout\n",
    "\n",
    "Readout_Delay=10_000//4 # Delay before the first readout in ns (convert from clockcycle)\n",
    "points_delay=16//4\n",
    "\n",
    "offset_1=0.01783981341796875\n",
    "offset_2=0.01553899095214844\n",
    "config,qm=update_offset(offset_1, offset_2,config,qmm)"
   ]
  },
  {
   "cell_type": "code",
   "execution_count": 7,
   "id": "9cc7df46-2d34-41a7-a0ae-46191001516a",
   "metadata": {},
   "outputs": [
    {
     "name": "stdout",
     "output_type": "stream",
     "text": [
      "2023-07-09 15:29:57,904 - qm - INFO - Flags: \n",
      "2023-07-09 15:29:57,905 - qm - INFO - Sending program to QOP\n",
      "2023-07-09 15:29:57,986 - qm - INFO - Executing program\n",
      "The mean offset of port 1 is: -1.45000634765625e-05\n",
      "The mean offset of port 2 is: 8.85349072265625e-05\n"
     ]
    }
   ],
   "source": [
    "%matplotlib qt\n",
    "\n",
    "with program() as raw_trace_prog:\n",
    "    \n",
    "    n = declare(int)\n",
    "    adc_st = declare_stream(adc_trace=True)\n",
    "    i = declare(int)\n",
    "    \n",
    "    update_frequency(\"resonator\",IF_resonator) \n",
    "    update_frequency(\"fluxline\",IF_pump)\n",
    "\n",
    "    \n",
    "    wait(Readout_Delay,\"resonator\")\n",
    "    \n",
    "    \n",
    "\n",
    "    with for_(i, 0, i < np.round((n_avg*(Readout_Len+300+points_delay*4)+Readout_Delay*4)/twoPhoton_len)+1, i + 1): # the 300 is added because there is a time delay associated to saving the data in the steam. The *4 is necessary because the waiting time is in clockcycle \n",
    "        play(\"pumping\" * amp(amp_factor), 'fluxline')  # Play the pulse on the fluxline\n",
    "        \n",
    "    with for_(n, 0, n < n_avg, n + 1):\n",
    "        \n",
    "        #play(\"pumping\"*amp(amp_factor), 'fluxline')\n",
    "        #Delay time before the first readout \n",
    "        measure(\"fake_readout\", \"resonator\", adc_st)\n",
    "        \n",
    "        wait(points_delay,\"resonator\")\n",
    "\n",
    "    with stream_processing():\n",
    "        \n",
    "        # Will save average:\n",
    "        adc_st.input1().average().save(\"adc1\")\n",
    "        adc_st.input2().average().save(\"adc2\")\n",
    "        \n",
    "        # Will save only last run:\n",
    "        adc_st.input1().save(\"adc1_single_run\")\n",
    "        adc_st.input2().save(\"adc2_single_run\")\n",
    "\n",
    "        \n",
    "simulation = False\n",
    "if simulation:\n",
    "    \n",
    "    simulation_config = SimulationConfig(\n",
    "        duration=80000, simulation_interface=LoopbackInterface([(\"con1\", 3, \"con1\", 1)])\n",
    "    )\n",
    "    job = qmm.simulate(config, raw_trace_prog, simulation_config)\n",
    "    job.get_simulated_samples().con1.plot(analog_ports={'1','2','3','4' },digital_ports={'1','3'})\n",
    "    \n",
    "    \n",
    "    \n",
    "else: \n",
    "    #Execute the program     \n",
    "    qm = qmm.open_qm(config)\n",
    "    job = qm.execute(raw_trace_prog)\n",
    "\n",
    "    results = fetching_tool(job, data_list=[\"adc1\", \"adc2\", \"adc1_single_run\",\"adc2_single_run\"], mode=\"wait_for_all\")\n",
    "\n",
    "    adc1, adc2, adc1_single_run, adc2_single_run = results.fetch_all()\n",
    "\n",
    "    adc1 = u.raw2volts(adc1)\n",
    "    adc2 = u.raw2volts(adc2)\n",
    "    adc1_single_run = u.raw2volts(adc1_single_run)\n",
    "    adc2_single_run = u.raw2volts(adc2_single_run)\n",
    "\n",
    "    #Plotting \n",
    "    plt.figure()\n",
    "    plt.subplot(121)\n",
    "    plt.title(\"Single run\")\n",
    "    plt.plot(adc1_single_run, label=\"Input 1\")\n",
    "    plt.plot(adc2_single_run, label=\"Input 2\")\n",
    "    plt.xlabel(\"Time [ns]\")\n",
    "    plt.ylabel(\"Signal amplitude [V]\")\n",
    "    plt.legend()\n",
    "\n",
    "    plt.subplot(122)\n",
    "    plt.title(\"Averaged run\")\n",
    "    plt.plot(adc1, label=\"Input 1\")\n",
    "    plt.plot(adc2, label=\"Input 2\")\n",
    "    plt.xlabel(\"Time [ns]\")\n",
    "    plt.legend()\n",
    "    plt.tight_layout()\n",
    "\n",
    "    print(\"The mean offset of port 1 is: {}\".format(np.mean(adc1)))\n",
    "    print(\"The mean offset of port 2 is: {}\".format(np.mean(adc2)))"
   ]
  },
  {
   "cell_type": "markdown",
   "id": "dc5804a0-04ff-44cb-be30-3ec1ba657fbe",
   "metadata": {},
   "source": [
    "# Resonator Measurement "
   ]
  },
  {
   "cell_type": "code",
   "execution_count": 116,
   "id": "ac4cbb6e-9aa5-47f5-a21c-500df9a91bc6",
   "metadata": {},
   "outputs": [
    {
     "name": "stdout",
     "output_type": "stream",
     "text": [
      "Execution stopped by user!\n"
     ]
    }
   ],
   "source": [
    "%matplotlib qt\n",
    "\n",
    "#Sets the pulse length and the pulse amplitude at the resonator \n",
    "pulse_len=50_000\n",
    "config,qm=update_readout_lenght(pulse_len,config,qmm)\n",
    "\n",
    "#number of average \n",
    "n_avg = 1000\n",
    "\n",
    "#Waiting time before succesive readout \n",
    "cooldown_time = 50_000 // 4\n",
    "\n",
    "#If frequency sweep of the resonator \n",
    "\n",
    "f_min =149.75e6-0.25e6\n",
    "f_max =149.75e6+0.25e6\n",
    "df = 0.0025e6   #0.001e6 #0.001e6\n",
    "\n",
    "\n",
    "amp_factor=0.02 #amplitude factor "
   ]
  },
  {
   "cell_type": "code",
   "execution_count": 117,
   "id": "8535db23-7805-4941-95d8-901fdd3c7898",
   "metadata": {},
   "outputs": [
    {
     "name": "stdout",
     "output_type": "stream",
     "text": [
      "2023-07-09 15:14:06,337 - qm - INFO - Flags: \n",
      "2023-07-09 15:14:06,338 - qm - INFO - Sending program to QOP\n",
      "2023-07-09 15:14:07,198 - qm - INFO - Executing program\n",
      "Progress: [##################################################] 100.0% (n=1000/1000) --> elapsed time: 12.16s\n",
      "The measured resonance frequency is 4.349737500920462 GHz with an error of 2.84034585654467e-06 GHz\n"
     ]
    }
   ],
   "source": [
    "freqs,I,Q,resonance_frequency, error_frequency=SingleResonatorSpec(n_avg, cooldown_time, f_min, f_max, df, amp_factor)"
   ]
  },
  {
   "cell_type": "markdown",
   "id": "f2b8c723-420e-4715-abff-410a71c87312",
   "metadata": {},
   "source": [
    "# Calibration test pump"
   ]
  },
  {
   "cell_type": "code",
   "execution_count": 118,
   "id": "46774c25-45ca-4e3c-942f-b94020f76e9c",
   "metadata": {},
   "outputs": [],
   "source": [
    "dll_path=r\"C:\\\\Program Files\\\\Signal Hound\\\\Spike\\\\sa_api.dll\"\n",
    "sgh=Signalhound()\n",
    "#open the device\n",
    "sgh.performOpen(dll_path)"
   ]
  },
  {
   "cell_type": "code",
   "execution_count": 119,
   "id": "2685dab7-460c-4454-b836-43fffa1b066e",
   "metadata": {},
   "outputs": [],
   "source": [
    "center_freq=LO_fluxline\n",
    "span=500e6\n",
    "ref_level=-20\n",
    "rbw=100e3\n",
    "vbw=rbw\n",
    "\n",
    "sgh.setSweepParameters(center_freq,span)\n",
    "sgh.setRefLevel(ref_level)\n",
    "sgh.setGainAtten()\n",
    "sgh.setSweepCoupling(rbw,vbw)\n",
    "sgh.setProcUnit(\"dbm\")\n",
    "sgh.setSweepMode(\"sweeping\")"
   ]
  },
  {
   "cell_type": "code",
   "execution_count": 120,
   "id": "bd043495-aa97-4901-8b1e-8d4553dd4be5",
   "metadata": {},
   "outputs": [
    {
     "ename": "_InactiveRpcError",
     "evalue": "<_InactiveRpcError of RPC that terminated with:\n\tstatus = StatusCode.UNKNOWN\n\tdetails = \"\"\n\tdebug_error_string = \"{\"created\":\"@1688908482.127000000\",\"description\":\"Error received from peer ipv4:128.178.175.167:81\",\"file\":\"src/core/lib/surface/call.cc\",\"file_line\":967,\"grpc_message\":\"\",\"grpc_status\":2}\"\n>",
     "output_type": "error",
     "traceback": [
      "\u001b[1;31m---------------------------------------------------------------------------\u001b[0m",
      "\u001b[1;31m_InactiveRpcError\u001b[0m                         Traceback (most recent call last)",
      "\u001b[1;32m~\\AppData\\Local\\Temp\\ipykernel_25608\\3812512156.py\u001b[0m in \u001b[0;36m<module>\u001b[1;34m\u001b[0m\n\u001b[0;32m      6\u001b[0m         \u001b[0mplay\u001b[0m\u001b[1;33m(\u001b[0m\u001b[1;34m\"pumping\"\u001b[0m\u001b[1;33m*\u001b[0m\u001b[0mamp\u001b[0m\u001b[1;33m(\u001b[0m\u001b[0mamp_factor\u001b[0m\u001b[1;33m)\u001b[0m\u001b[1;33m,\u001b[0m \u001b[1;34m\"fluxline\"\u001b[0m\u001b[1;33m)\u001b[0m\u001b[1;33m\u001b[0m\u001b[1;33m\u001b[0m\u001b[0m\n\u001b[0;32m      7\u001b[0m \u001b[1;33m\u001b[0m\u001b[0m\n\u001b[1;32m----> 8\u001b[1;33m \u001b[0mjob\u001b[0m \u001b[1;33m=\u001b[0m \u001b[0mqm\u001b[0m\u001b[1;33m.\u001b[0m\u001b[0mexecute\u001b[0m\u001b[1;33m(\u001b[0m\u001b[0mhello_octave\u001b[0m\u001b[1;33m)\u001b[0m\u001b[1;33m\u001b[0m\u001b[1;33m\u001b[0m\u001b[0m\n\u001b[0m\u001b[0;32m      9\u001b[0m \u001b[1;33m\u001b[0m\u001b[0m\n",
      "\u001b[1;32m~\\Anaconda3\\envs\\Labber\\lib\\site-packages\\qm\\QuantumMachine.py\u001b[0m in \u001b[0;36mexecute\u001b[1;34m(self, program, duration_limit, data_limit, force_execution, dry_run, **kwargs)\u001b[0m\n\u001b[0;32m    152\u001b[0m             )\n\u001b[0;32m    153\u001b[0m \u001b[1;33m\u001b[0m\u001b[0m\n\u001b[1;32m--> 154\u001b[1;33m         \u001b[0mself\u001b[0m\u001b[1;33m.\u001b[0m\u001b[0m_queue\u001b[0m\u001b[1;33m.\u001b[0m\u001b[0mclear\u001b[0m\u001b[1;33m(\u001b[0m\u001b[1;33m)\u001b[0m\u001b[1;33m\u001b[0m\u001b[1;33m\u001b[0m\u001b[0m\n\u001b[0m\u001b[0;32m    155\u001b[0m         \u001b[0mcurrent_running_job\u001b[0m \u001b[1;33m=\u001b[0m \u001b[0mself\u001b[0m\u001b[1;33m.\u001b[0m\u001b[0mget_running_job\u001b[0m\u001b[1;33m(\u001b[0m\u001b[1;33m)\u001b[0m\u001b[1;33m\u001b[0m\u001b[1;33m\u001b[0m\u001b[0m\n\u001b[0;32m    156\u001b[0m         \u001b[1;32mif\u001b[0m \u001b[0mcurrent_running_job\u001b[0m \u001b[1;32mis\u001b[0m \u001b[1;32mnot\u001b[0m \u001b[1;32mNone\u001b[0m\u001b[1;33m:\u001b[0m\u001b[1;33m\u001b[0m\u001b[1;33m\u001b[0m\u001b[0m\n",
      "\u001b[1;32m~\\Anaconda3\\envs\\Labber\\lib\\site-packages\\qm\\QmQueue.py\u001b[0m in \u001b[0;36mclear\u001b[1;34m(self)\u001b[0m\n\u001b[0;32m    317\u001b[0m         \u001b[1;33m:\u001b[0m\u001b[1;32mreturn\u001b[0m\u001b[1;33m:\u001b[0m \u001b[0mThe\u001b[0m \u001b[0mnumber\u001b[0m \u001b[0mof\u001b[0m \u001b[0mjobs\u001b[0m \u001b[0mremoved\u001b[0m\u001b[1;33m\u001b[0m\u001b[1;33m\u001b[0m\u001b[0m\n\u001b[0;32m    318\u001b[0m         \"\"\"\n\u001b[1;32m--> 319\u001b[1;33m         \u001b[1;32mreturn\u001b[0m \u001b[0mself\u001b[0m\u001b[1;33m.\u001b[0m\u001b[0m_remove\u001b[0m\u001b[1;33m(\u001b[0m\u001b[1;33m)\u001b[0m\u001b[1;33m\u001b[0m\u001b[1;33m\u001b[0m\u001b[0m\n\u001b[0m",
      "\u001b[1;32m~\\Anaconda3\\envs\\Labber\\lib\\site-packages\\qm\\QmQueue.py\u001b[0m in \u001b[0;36m_remove\u001b[1;34m(self, job_id, position, user_id)\u001b[0m\n\u001b[0;32m    305\u001b[0m             \u001b[0mrequest\u001b[0m\u001b[1;33m.\u001b[0m\u001b[0muserId\u001b[0m\u001b[1;33m.\u001b[0m\u001b[0mCopyFrom\u001b[0m\u001b[1;33m(\u001b[0m\u001b[0muser_query_value_matcher\u001b[0m\u001b[1;33m)\u001b[0m\u001b[1;33m\u001b[0m\u001b[1;33m\u001b[0m\u001b[0m\n\u001b[0;32m    306\u001b[0m \u001b[1;33m\u001b[0m\u001b[0m\n\u001b[1;32m--> 307\u001b[1;33m         \u001b[0mresponse\u001b[0m \u001b[1;33m=\u001b[0m \u001b[0mself\u001b[0m\u001b[1;33m.\u001b[0m\u001b[0m_qmm\u001b[0m\u001b[1;33m.\u001b[0m\u001b[0m_frontend\u001b[0m\u001b[1;33m.\u001b[0m\u001b[0mRemovePendingJobs\u001b[0m\u001b[1;33m(\u001b[0m\u001b[0mrequest\u001b[0m\u001b[1;33m)\u001b[0m\u001b[1;33m\u001b[0m\u001b[1;33m\u001b[0m\u001b[0m\n\u001b[0m\u001b[0;32m    308\u001b[0m         \u001b[1;32mreturn\u001b[0m \u001b[0mresponse\u001b[0m\u001b[1;33m.\u001b[0m\u001b[0mnumbersOfJobsRemoved\u001b[0m\u001b[1;33m\u001b[0m\u001b[1;33m\u001b[0m\u001b[0m\n\u001b[0;32m    309\u001b[0m \u001b[1;33m\u001b[0m\u001b[0m\n",
      "\u001b[1;32m~\\Anaconda3\\envs\\Labber\\lib\\site-packages\\grpc\\_interceptor.py\u001b[0m in \u001b[0;36m__call__\u001b[1;34m(self, request, timeout, metadata, credentials, wait_for_ready, compression)\u001b[0m\n\u001b[0;32m    219\u001b[0m                                                  \u001b[0mcredentials\u001b[0m\u001b[1;33m=\u001b[0m\u001b[0mcredentials\u001b[0m\u001b[1;33m,\u001b[0m\u001b[1;33m\u001b[0m\u001b[1;33m\u001b[0m\u001b[0m\n\u001b[0;32m    220\u001b[0m                                                  \u001b[0mwait_for_ready\u001b[0m\u001b[1;33m=\u001b[0m\u001b[0mwait_for_ready\u001b[0m\u001b[1;33m,\u001b[0m\u001b[1;33m\u001b[0m\u001b[1;33m\u001b[0m\u001b[0m\n\u001b[1;32m--> 221\u001b[1;33m                                                  compression=compression)\n\u001b[0m\u001b[0;32m    222\u001b[0m         \u001b[1;32mreturn\u001b[0m \u001b[0mresponse\u001b[0m\u001b[1;33m\u001b[0m\u001b[1;33m\u001b[0m\u001b[0m\n\u001b[0;32m    223\u001b[0m \u001b[1;33m\u001b[0m\u001b[0m\n",
      "\u001b[1;32m~\\Anaconda3\\envs\\Labber\\lib\\site-packages\\grpc\\_interceptor.py\u001b[0m in \u001b[0;36m_with_call\u001b[1;34m(self, request, timeout, metadata, credentials, wait_for_ready, compression)\u001b[0m\n\u001b[0;32m    255\u001b[0m                                                        \u001b[0mclient_call_details\u001b[0m\u001b[1;33m,\u001b[0m\u001b[1;33m\u001b[0m\u001b[1;33m\u001b[0m\u001b[0m\n\u001b[0;32m    256\u001b[0m                                                        request)\n\u001b[1;32m--> 257\u001b[1;33m         \u001b[1;32mreturn\u001b[0m \u001b[0mcall\u001b[0m\u001b[1;33m.\u001b[0m\u001b[0mresult\u001b[0m\u001b[1;33m(\u001b[0m\u001b[1;33m)\u001b[0m\u001b[1;33m,\u001b[0m \u001b[0mcall\u001b[0m\u001b[1;33m\u001b[0m\u001b[1;33m\u001b[0m\u001b[0m\n\u001b[0m\u001b[0;32m    258\u001b[0m \u001b[1;33m\u001b[0m\u001b[0m\n\u001b[0;32m    259\u001b[0m     def with_call(self,\n",
      "\u001b[1;32m~\\Anaconda3\\envs\\Labber\\lib\\site-packages\\grpc\\_channel.py\u001b[0m in \u001b[0;36mresult\u001b[1;34m(self, timeout)\u001b[0m\n\u001b[0;32m    341\u001b[0m     \u001b[1;32mdef\u001b[0m \u001b[0mresult\u001b[0m\u001b[1;33m(\u001b[0m\u001b[0mself\u001b[0m\u001b[1;33m,\u001b[0m \u001b[0mtimeout\u001b[0m\u001b[1;33m=\u001b[0m\u001b[1;32mNone\u001b[0m\u001b[1;33m)\u001b[0m\u001b[1;33m:\u001b[0m  \u001b[1;31m# pylint: disable=unused-argument\u001b[0m\u001b[1;33m\u001b[0m\u001b[1;33m\u001b[0m\u001b[0m\n\u001b[0;32m    342\u001b[0m         \u001b[1;34m\"\"\"See grpc.Future.result.\"\"\"\u001b[0m\u001b[1;33m\u001b[0m\u001b[1;33m\u001b[0m\u001b[0m\n\u001b[1;32m--> 343\u001b[1;33m         \u001b[1;32mraise\u001b[0m \u001b[0mself\u001b[0m\u001b[1;33m\u001b[0m\u001b[1;33m\u001b[0m\u001b[0m\n\u001b[0m\u001b[0;32m    344\u001b[0m \u001b[1;33m\u001b[0m\u001b[0m\n\u001b[0;32m    345\u001b[0m     \u001b[1;32mdef\u001b[0m \u001b[0mexception\u001b[0m\u001b[1;33m(\u001b[0m\u001b[0mself\u001b[0m\u001b[1;33m,\u001b[0m \u001b[0mtimeout\u001b[0m\u001b[1;33m=\u001b[0m\u001b[1;32mNone\u001b[0m\u001b[1;33m)\u001b[0m\u001b[1;33m:\u001b[0m  \u001b[1;31m# pylint: disable=unused-argument\u001b[0m\u001b[1;33m\u001b[0m\u001b[1;33m\u001b[0m\u001b[0m\n",
      "\u001b[1;32m~\\Anaconda3\\envs\\Labber\\lib\\site-packages\\grpc\\_interceptor.py\u001b[0m in \u001b[0;36mcontinuation\u001b[1;34m(new_details, request)\u001b[0m\n\u001b[0;32m    245\u001b[0m                     \u001b[0mcredentials\u001b[0m\u001b[1;33m=\u001b[0m\u001b[0mnew_credentials\u001b[0m\u001b[1;33m,\u001b[0m\u001b[1;33m\u001b[0m\u001b[1;33m\u001b[0m\u001b[0m\n\u001b[0;32m    246\u001b[0m                     \u001b[0mwait_for_ready\u001b[0m\u001b[1;33m=\u001b[0m\u001b[0mnew_wait_for_ready\u001b[0m\u001b[1;33m,\u001b[0m\u001b[1;33m\u001b[0m\u001b[1;33m\u001b[0m\u001b[0m\n\u001b[1;32m--> 247\u001b[1;33m                     compression=new_compression)\n\u001b[0m\u001b[0;32m    248\u001b[0m                 \u001b[1;32mreturn\u001b[0m \u001b[0m_UnaryOutcome\u001b[0m\u001b[1;33m(\u001b[0m\u001b[0mresponse\u001b[0m\u001b[1;33m,\u001b[0m \u001b[0mcall\u001b[0m\u001b[1;33m)\u001b[0m\u001b[1;33m\u001b[0m\u001b[1;33m\u001b[0m\u001b[0m\n\u001b[0;32m    249\u001b[0m             \u001b[1;32mexcept\u001b[0m \u001b[0mgrpc\u001b[0m\u001b[1;33m.\u001b[0m\u001b[0mRpcError\u001b[0m \u001b[1;32mas\u001b[0m \u001b[0mrpc_error\u001b[0m\u001b[1;33m:\u001b[0m\u001b[1;33m\u001b[0m\u001b[1;33m\u001b[0m\u001b[0m\n",
      "\u001b[1;32m~\\Anaconda3\\envs\\Labber\\lib\\site-packages\\grpc\\_interceptor.py\u001b[0m in \u001b[0;36mwith_call\u001b[1;34m(self, request, timeout, metadata, credentials, wait_for_ready, compression)\u001b[0m\n\u001b[0;32m    269\u001b[0m                                \u001b[0mcredentials\u001b[0m\u001b[1;33m=\u001b[0m\u001b[0mcredentials\u001b[0m\u001b[1;33m,\u001b[0m\u001b[1;33m\u001b[0m\u001b[1;33m\u001b[0m\u001b[0m\n\u001b[0;32m    270\u001b[0m                                \u001b[0mwait_for_ready\u001b[0m\u001b[1;33m=\u001b[0m\u001b[0mwait_for_ready\u001b[0m\u001b[1;33m,\u001b[0m\u001b[1;33m\u001b[0m\u001b[1;33m\u001b[0m\u001b[0m\n\u001b[1;32m--> 271\u001b[1;33m                                compression=compression)\n\u001b[0m\u001b[0;32m    272\u001b[0m \u001b[1;33m\u001b[0m\u001b[0m\n\u001b[0;32m    273\u001b[0m     def future(self,\n",
      "\u001b[1;32m~\\Anaconda3\\envs\\Labber\\lib\\site-packages\\grpc\\_interceptor.py\u001b[0m in \u001b[0;36m_with_call\u001b[1;34m(self, request, timeout, metadata, credentials, wait_for_ready, compression)\u001b[0m\n\u001b[0;32m    255\u001b[0m                                                        \u001b[0mclient_call_details\u001b[0m\u001b[1;33m,\u001b[0m\u001b[1;33m\u001b[0m\u001b[1;33m\u001b[0m\u001b[0m\n\u001b[0;32m    256\u001b[0m                                                        request)\n\u001b[1;32m--> 257\u001b[1;33m         \u001b[1;32mreturn\u001b[0m \u001b[0mcall\u001b[0m\u001b[1;33m.\u001b[0m\u001b[0mresult\u001b[0m\u001b[1;33m(\u001b[0m\u001b[1;33m)\u001b[0m\u001b[1;33m,\u001b[0m \u001b[0mcall\u001b[0m\u001b[1;33m\u001b[0m\u001b[1;33m\u001b[0m\u001b[0m\n\u001b[0m\u001b[0;32m    258\u001b[0m \u001b[1;33m\u001b[0m\u001b[0m\n\u001b[0;32m    259\u001b[0m     def with_call(self,\n",
      "\u001b[1;32m~\\Anaconda3\\envs\\Labber\\lib\\site-packages\\grpc\\_channel.py\u001b[0m in \u001b[0;36mresult\u001b[1;34m(self, timeout)\u001b[0m\n\u001b[0;32m    341\u001b[0m     \u001b[1;32mdef\u001b[0m \u001b[0mresult\u001b[0m\u001b[1;33m(\u001b[0m\u001b[0mself\u001b[0m\u001b[1;33m,\u001b[0m \u001b[0mtimeout\u001b[0m\u001b[1;33m=\u001b[0m\u001b[1;32mNone\u001b[0m\u001b[1;33m)\u001b[0m\u001b[1;33m:\u001b[0m  \u001b[1;31m# pylint: disable=unused-argument\u001b[0m\u001b[1;33m\u001b[0m\u001b[1;33m\u001b[0m\u001b[0m\n\u001b[0;32m    342\u001b[0m         \u001b[1;34m\"\"\"See grpc.Future.result.\"\"\"\u001b[0m\u001b[1;33m\u001b[0m\u001b[1;33m\u001b[0m\u001b[0m\n\u001b[1;32m--> 343\u001b[1;33m         \u001b[1;32mraise\u001b[0m \u001b[0mself\u001b[0m\u001b[1;33m\u001b[0m\u001b[1;33m\u001b[0m\u001b[0m\n\u001b[0m\u001b[0;32m    344\u001b[0m \u001b[1;33m\u001b[0m\u001b[0m\n\u001b[0;32m    345\u001b[0m     \u001b[1;32mdef\u001b[0m \u001b[0mexception\u001b[0m\u001b[1;33m(\u001b[0m\u001b[0mself\u001b[0m\u001b[1;33m,\u001b[0m \u001b[0mtimeout\u001b[0m\u001b[1;33m=\u001b[0m\u001b[1;32mNone\u001b[0m\u001b[1;33m)\u001b[0m\u001b[1;33m:\u001b[0m  \u001b[1;31m# pylint: disable=unused-argument\u001b[0m\u001b[1;33m\u001b[0m\u001b[1;33m\u001b[0m\u001b[0m\n",
      "\u001b[1;32m~\\Anaconda3\\envs\\Labber\\lib\\site-packages\\grpc\\_interceptor.py\u001b[0m in \u001b[0;36mcontinuation\u001b[1;34m(new_details, request)\u001b[0m\n\u001b[0;32m    245\u001b[0m                     \u001b[0mcredentials\u001b[0m\u001b[1;33m=\u001b[0m\u001b[0mnew_credentials\u001b[0m\u001b[1;33m,\u001b[0m\u001b[1;33m\u001b[0m\u001b[1;33m\u001b[0m\u001b[0m\n\u001b[0;32m    246\u001b[0m                     \u001b[0mwait_for_ready\u001b[0m\u001b[1;33m=\u001b[0m\u001b[0mnew_wait_for_ready\u001b[0m\u001b[1;33m,\u001b[0m\u001b[1;33m\u001b[0m\u001b[1;33m\u001b[0m\u001b[0m\n\u001b[1;32m--> 247\u001b[1;33m                     compression=new_compression)\n\u001b[0m\u001b[0;32m    248\u001b[0m                 \u001b[1;32mreturn\u001b[0m \u001b[0m_UnaryOutcome\u001b[0m\u001b[1;33m(\u001b[0m\u001b[0mresponse\u001b[0m\u001b[1;33m,\u001b[0m \u001b[0mcall\u001b[0m\u001b[1;33m)\u001b[0m\u001b[1;33m\u001b[0m\u001b[1;33m\u001b[0m\u001b[0m\n\u001b[0;32m    249\u001b[0m             \u001b[1;32mexcept\u001b[0m \u001b[0mgrpc\u001b[0m\u001b[1;33m.\u001b[0m\u001b[0mRpcError\u001b[0m \u001b[1;32mas\u001b[0m \u001b[0mrpc_error\u001b[0m\u001b[1;33m:\u001b[0m\u001b[1;33m\u001b[0m\u001b[1;33m\u001b[0m\u001b[0m\n",
      "\u001b[1;32m~\\Anaconda3\\envs\\Labber\\lib\\site-packages\\grpc\\_channel.py\u001b[0m in \u001b[0;36mwith_call\u001b[1;34m(self, request, timeout, metadata, credentials, wait_for_ready, compression)\u001b[0m\n\u001b[0;32m    955\u001b[0m         state, call, = self._blocking(request, timeout, metadata, credentials,\n\u001b[0;32m    956\u001b[0m                                       wait_for_ready, compression)\n\u001b[1;32m--> 957\u001b[1;33m         \u001b[1;32mreturn\u001b[0m \u001b[0m_end_unary_response_blocking\u001b[0m\u001b[1;33m(\u001b[0m\u001b[0mstate\u001b[0m\u001b[1;33m,\u001b[0m \u001b[0mcall\u001b[0m\u001b[1;33m,\u001b[0m \u001b[1;32mTrue\u001b[0m\u001b[1;33m,\u001b[0m \u001b[1;32mNone\u001b[0m\u001b[1;33m)\u001b[0m\u001b[1;33m\u001b[0m\u001b[1;33m\u001b[0m\u001b[0m\n\u001b[0m\u001b[0;32m    958\u001b[0m \u001b[1;33m\u001b[0m\u001b[0m\n\u001b[0;32m    959\u001b[0m     def future(self,\n",
      "\u001b[1;32m~\\Anaconda3\\envs\\Labber\\lib\\site-packages\\grpc\\_channel.py\u001b[0m in \u001b[0;36m_end_unary_response_blocking\u001b[1;34m(state, call, with_call, deadline)\u001b[0m\n\u001b[0;32m    847\u001b[0m             \u001b[1;32mreturn\u001b[0m \u001b[0mstate\u001b[0m\u001b[1;33m.\u001b[0m\u001b[0mresponse\u001b[0m\u001b[1;33m\u001b[0m\u001b[1;33m\u001b[0m\u001b[0m\n\u001b[0;32m    848\u001b[0m     \u001b[1;32melse\u001b[0m\u001b[1;33m:\u001b[0m\u001b[1;33m\u001b[0m\u001b[1;33m\u001b[0m\u001b[0m\n\u001b[1;32m--> 849\u001b[1;33m         \u001b[1;32mraise\u001b[0m \u001b[0m_InactiveRpcError\u001b[0m\u001b[1;33m(\u001b[0m\u001b[0mstate\u001b[0m\u001b[1;33m)\u001b[0m\u001b[1;33m\u001b[0m\u001b[1;33m\u001b[0m\u001b[0m\n\u001b[0m\u001b[0;32m    850\u001b[0m \u001b[1;33m\u001b[0m\u001b[0m\n\u001b[0;32m    851\u001b[0m \u001b[1;33m\u001b[0m\u001b[0m\n",
      "\u001b[1;31m_InactiveRpcError\u001b[0m: <_InactiveRpcError of RPC that terminated with:\n\tstatus = StatusCode.UNKNOWN\n\tdetails = \"\"\n\tdebug_error_string = \"{\"created\":\"@1688908482.127000000\",\"description\":\"Error received from peer ipv4:128.178.175.167:81\",\"file\":\"src/core/lib/surface/call.cc\",\"file_line\":967,\"grpc_message\":\"\",\"grpc_status\":2}\"\n>"
     ]
    }
   ],
   "source": [
    "amp_factor=1.05\n",
    "\n",
    "\n",
    "with program() as hello_octave:\n",
    "    with infinite_loop_():\n",
    "        play(\"pumping\"*amp(amp_factor), \"fluxline\")\n",
    "        \n",
    "job = qm.execute(hello_octave)\n",
    "\n"
   ]
  },
  {
   "cell_type": "code",
   "execution_count": 89,
   "id": "c975963c-19f2-429c-9306-3583e56a4fbd",
   "metadata": {},
   "outputs": [
    {
     "data": {
      "text/plain": [
       "[<matplotlib.lines.Line2D at 0x2c78861ce88>]"
      ]
     },
     "execution_count": 89,
     "metadata": {},
     "output_type": "execute_result"
    },
    {
     "data": {
      "image/png": "[encoded data removed]",
      "text/plain": [
       "<Figure size 432x288 with 1 Axes>"
      ]
     },
     "metadata": {
      "needs_background": "light"
     },
     "output_type": "display_data"
    }
   ],
   "source": [
    "sgh.SingleSweep()\n",
    "plt.plot(sgh.freq, sgh.trace,\".\")"
   ]
  },
  {
   "cell_type": "code",
   "execution_count": 121,
   "id": "859b691f-f5da-44cb-b598-4494e56ab3e1",
   "metadata": {},
   "outputs": [
    {
     "data": {
      "text/plain": [
       "True"
      ]
     },
     "execution_count": 121,
     "metadata": {},
     "output_type": "execute_result"
    }
   ],
   "source": [
    "job.halt()"
   ]
  },
  {
   "cell_type": "code",
   "execution_count": 28,
   "id": "3bafe2d5-9787-4485-ac25-7fe1a1b5e6a8",
   "metadata": {},
   "outputs": [],
   "source": [
    "sgh.performClose()"
   ]
  },
  {
   "cell_type": "markdown",
   "id": "9826d751-b4f4-4734-b31e-3831105274f5",
   "metadata": {},
   "source": [
    "# Calibration test resonator"
   ]
  },
  {
   "cell_type": "code",
   "execution_count": 76,
   "id": "336e0771-2349-4118-8bfe-ec1714fbc8d4",
   "metadata": {},
   "outputs": [
    {
     "name": "stdout",
     "output_type": "stream",
     "text": [
      "2023-07-09 13:41:40,237 - qm - INFO - Flags: \n",
      "2023-07-09 13:41:40,238 - qm - INFO - Sending program to QOP\n",
      "2023-07-09 13:41:40,473 - qm - INFO - Executing program\n"
     ]
    }
   ],
   "source": [
    "amp_factor=1\n",
    "\n",
    "\n",
    "with program() as hello_octave:\n",
    "    with infinite_loop_():\n",
    "        play(\"cw\"*amp(amp_factor), \"resonator\")\n",
    "        \n",
    "job = qm.execute(hello_octave)\n",
    "\n"
   ]
  },
  {
   "cell_type": "code",
   "execution_count": 77,
   "id": "dbb9bf8a-1f1b-49d7-803b-e5aa9050791b",
   "metadata": {},
   "outputs": [
    {
     "data": {
      "text/plain": [
       "True"
      ]
     },
     "execution_count": 77,
     "metadata": {},
     "output_type": "execute_result"
    }
   ],
   "source": [
    "job.halt()"
   ]
  },
  {
   "cell_type": "markdown",
   "id": "64146964-6d1d-4470-9296-78bc7b72594d",
   "metadata": {},
   "source": [
    "# Resonator power monitoring"
   ]
  },
  {
   "cell_type": "code",
   "execution_count": 4,
   "id": "7a4ee915-d2f9-4860-8a3f-3c9b56961c0a",
   "metadata": {},
   "outputs": [],
   "source": [
    "dll_path=r\"C:\\\\Program Files\\\\Signal Hound\\\\Spike\\\\sa_api.dll\"\n",
    "sgh=Signalhound()\n",
    "#open the device\n",
    "sgh.performOpen(dll_path)\n",
    "\n",
    "\n",
    "center_freq=LO_readout+IF_readout\n",
    "span=5e3 #does not change anything \n",
    "ref_level=-30\n",
    "\n",
    "decimation=1\n",
    "bandwidth=250e3\n",
    "\n",
    "sgh.setSweepParameters(center_freq,span)\n",
    "sgh.setRefLevel(ref_level)\n",
    "sgh.setGainAtten()\n",
    "sgh.setIQ(decimation,bandwidth)\n",
    "sgh.setProcUnit(\"mV\")\n",
    "sgh.setSweepMode(\"IQ\")"
   ]
  },
  {
   "cell_type": "code",
   "execution_count": 5,
   "id": "479963bd-c791-4d72-861c-047f66dfff57",
   "metadata": {},
   "outputs": [
    {
     "name": "stdout",
     "output_type": "stream",
     "text": [
      "2023-07-09 15:15:59,043 - qm - INFO - Flags: \n",
      "2023-07-09 15:15:59,044 - qm - INFO - Sending program to QOP\n",
      "2023-07-09 15:15:59,076 - qm - INFO - Executing program\n",
      "0\n",
      "1\n",
      "2\n",
      "Variation relative to the first calibration [0.99933619 1.00051806 1.00061599]\n",
      "Slope relative to the first intercept 1.0007641589817233\n",
      "Intercept relative to the first intercept -0.2194029060888688\n"
     ]
    },
    {
     "data": {
      "image/png": "[encoded data removed]",
      "text/plain": [
       "<Figure size 432x288 with 1 Axes>"
      ]
     },
     "metadata": {
      "needs_background": "light"
     },
     "output_type": "display_data"
    }
   ],
   "source": [
    "#amplitude factor \n",
    "amplitude_array=np.array([0.1, 0.5,1])\n",
    "n_points=4000\n",
    "\n",
    "amp_calib=Resonator_Power_Monitoring(amplitude_array, n_points)\n",
    "\n",
    "\n",
    "model=LinearModel()\n",
    "params=model.make_params(slope=1, intercept=0)\n",
    "result=model.fit(amp_calib,params, x=amplitude_array)\n",
    "\n",
    "plt.plot(amplitude_array,amp_calib,\".\")\n",
    "plt.xlabel(\"Amp factor\")\n",
    "plt.ylabel(\"Signal hound\")\n",
    "plt.plot(amplitude_array, result.best_fit)\n",
    "\n",
    "slope=result.params[\"slope\"].value\n",
    "intercept=result.params[\"intercept\"].value\n",
    "\n",
    "#Initial values \n",
    "init_value=np.array([0.67150983, 3.35454778, 6.70839427])\n",
    "init_slope=6.7076\n",
    "init_intercept=0.0007366\n",
    "\n",
    "\n",
    "print(\"Variation relative to the first calibration {}\".format(amp_calib/init_value))\n",
    "print(\"Slope relative to the first intercept {}\".format(slope/init_slope))\n",
    "print(\"Intercept relative to the first intercept {}\".format(intercept/init_intercept))"
   ]
  },
  {
   "cell_type": "code",
   "execution_count": 75,
   "id": "4ed568e1-3813-434e-8021-7d630d11d59d",
   "metadata": {},
   "outputs": [],
   "source": [
    "sgh.performClose()"
   ]
  },
  {
   "cell_type": "markdown",
   "id": "5f7a1b74-7bdc-412c-bea0-e52ff425d2ca",
   "metadata": {},
   "source": [
    "# Pump power monitoring\n",
    "\n"
   ]
  },
  {
   "cell_type": "code",
   "execution_count": 4,
   "id": "358baf8c-eef2-4b2a-913d-7e39eb06b6df",
   "metadata": {},
   "outputs": [],
   "source": [
    "dll_path=r\"C:\\\\Program Files\\\\Signal Hound\\\\Spike\\\\sa_api.dll\"\n",
    "sgh=Signalhound()\n",
    "#open the device\n",
    "sgh.performOpen(dll_path)\n",
    "\n",
    "\n",
    "center_freq=LO_fluxline+IF_fluxline\n",
    "span=5e3 #does not change anything \n",
    "ref_level=-30\n",
    "\n",
    "decimation=1\n",
    "bandwidth=250e3\n",
    "\n",
    "sgh.setSweepParameters(center_freq,span)\n",
    "sgh.setRefLevel(ref_level)\n",
    "sgh.setGainAtten()\n",
    "sgh.setIQ(decimation,bandwidth)\n",
    "sgh.setProcUnit(\"mV\")\n",
    "sgh.setSweepMode(\"IQ\")"
   ]
  },
  {
   "cell_type": "code",
   "execution_count": 5,
   "id": "e2a8ee74-ee11-47fb-9d9c-7f48ce1bbf60",
   "metadata": {},
   "outputs": [
    {
     "name": "stdout",
     "output_type": "stream",
     "text": [
      "2023-07-09 13:42:49,966 - qm - INFO - Flags: \n",
      "2023-07-09 13:42:49,967 - qm - INFO - Sending program to QOP\n",
      "2023-07-09 13:42:50,224 - qm - INFO - Executing program\n",
      "0\n",
      "1\n",
      "2\n",
      "3\n",
      "4\n",
      "Variation relative to the first calibration [0.99686169 0.99667896 0.99677218 0.99679546 0.99573625]\n",
      "Slope relative to the first intercept 0.9941392351599296\n",
      "Intercept relative to the first intercept 1.9247591845215901\n"
     ]
    },
    {
     "data": {
      "image/png": "[encoded data removed]",
      "text/plain": [
       "<Figure size 432x288 with 1 Axes>"
      ]
     },
     "metadata": {
      "needs_background": "light"
     },
     "output_type": "display_data"
    }
   ],
   "source": [
    "#amplitude factor \n",
    "amplitude_array=np.array([0.85,0.95,1.05,1.15,1.25])\n",
    "resonator_len=2_000_000_000\n",
    "n_points=4000\n",
    "\n",
    "amp_calib=Pump_Power_Monitoring(amplitude_array, n_points)\n",
    "\n",
    "\n",
    "model=LinearModel()\n",
    "params=model.make_params(slope=1, intercept=0)\n",
    "result=model.fit(amp_calib,params, x=amplitude_array)\n",
    "\n",
    "plt.plot(amplitude_array,amp_calib,\".\")\n",
    "plt.xlabel(\"Amp factor\")\n",
    "plt.ylabel(\"Signal hound\")\n",
    "plt.plot(amplitude_array, result.best_fit)\n",
    "\n",
    "slope=result.params[\"slope\"].value\n",
    "intercept=result.params[\"intercept\"].value\n",
    "\n",
    "#Initial values \n",
    "init_value=np.array([ 8.51846766,  9.51669272, 10.51835343, 11.51051931, 12.51635142])\n",
    "init_slope=9.989594109112204\n",
    "init_intercept=0.02700\n",
    "\n",
    "\n",
    "print(\"Variation relative to the first calibration {}\".format(amp_calib/init_value))\n",
    "print(\"Slope relative to the first intercept {}\".format(slope/init_slope))\n",
    "print(\"Intercept relative to the first intercept {}\".format(intercept/init_intercept))"
   ]
  },
  {
   "cell_type": "code",
   "execution_count": 6,
   "id": "c0814d6a-2812-4c82-9376-f6d35bfe6682",
   "metadata": {},
   "outputs": [],
   "source": [
    "sgh.performClose()"
   ]
  },
  {
   "cell_type": "code",
   "execution_count": null,
   "id": "01da41c2-670b-4eef-84fc-5cc774f9dc0d",
   "metadata": {},
   "outputs": [],
   "source": []
  }
 ],
 "metadata": {
  "kernelspec": {
   "display_name": "Python 3 (ipykernel)",
   "language": "python",
   "name": "python3"
  },
  "language_info": {
   "codemirror_mode": {
    "name": "ipython",
    "version": 3
   },
   "file_extension": ".py",
   "mimetype": "text/x-python",
   "name": "python",
   "nbconvert_exporter": "python",
   "pygments_lexer": "ipython3",
   "version": "3.7.13"
  }
 },
 "nbformat": 4,
 "nbformat_minor": 5
}
