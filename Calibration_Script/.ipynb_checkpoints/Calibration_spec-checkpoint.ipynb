{
 "cells": [
  {
   "cell_type": "code",
   "execution_count": 8,
   "id": "ffd59ae8-995d-4e5b-bf74-167edd20097e",
   "metadata": {},
   "outputs": [],
   "source": [
    "from qm.qua import *\n",
    "from qm.QuantumMachinesManager import QuantumMachinesManager\n",
    "from configuration_resonator_spec import *\n",
    "import matplotlib.pyplot as plt\n",
    "import numpy as np\n",
    "from scipy import signal\n",
    "from qm import SimulationConfig, LoopbackInterface\n",
    "import Labber\n",
    "\n",
    "\n",
    "from qm.octave import *\n",
    "from qm.qua import *\n",
    "import os\n",
    "import time\n",
    "from qualang_tools.units import unit\n",
    "from set_octave import get_L0_and_IF\n",
    "\n",
    "\n",
    "from qualang_tools.loops import from_array,get_equivalent_log_array\n",
    "from qualang_tools.plot import interrupt_on_close\n",
    "from qualang_tools.results import progress_counter, fetching_tool\n",
    "from resonator_tools import circuit \n",
    "\n",
    "import sys\n",
    "#Path for HQCPC7 \n",
    "sys.path.append(r'C:\\Users\\HQClabo\\Documents\\Code\\QuantumMachine\\Guillaume\\NonLinearRes_calib_30_03_2023\\Analysis_Function\\NonLinearRes')\n",
    "sys.path.append(r'C:\\Users\\HQClabo\\Documents\\Code\\QuantumMachine\\Guillaume\\NonLinearRes_calib_30_03_2023\\Drivers\\Drivers') #path for the analysis function\n",
    "\n",
    "# #Path for HQC PC15 \n",
    "# sys.path.append(r'C:\\Users\\hqclabo\\Documents\\Code\\gbeaulieu\\Analysis_Function\\NonLinearRes')\n",
    "# sys.path.append(r'C:\\Users\\hqclabo\\Documents\\Code\\gbeaulieu\\Drivers')\n",
    "import AnFunc as an # analysis function\n",
    "import imageio\n",
    "\n",
    "from qualang_tools.units import unit\n",
    "u = unit()"
   ]
  },
  {
   "cell_type": "markdown",
   "id": "dd2d6c2b-058b-445e-8f79-39fe36bb596e",
   "metadata": {
    "tags": []
   },
   "source": [
    "# Octave and OPX configuration"
   ]
  },
  {
   "cell_type": "code",
   "execution_count": 2,
   "id": "efc7e657-747b-4f90-84ff-0aec8aea330c",
   "metadata": {},
   "outputs": [
    {
     "name": "stdout",
     "output_type": "stream",
     "text": [
      "2023-06-30 13:41:36,673 - qm - INFO - Performing health check\n",
      "2023-06-30 13:41:36,687 - qm - WARNING -   HC Warning: Potential hardware issue with QSync in controller con1, multiple controllers sync cannot be guaranteed, please inform QM\n",
      "2023-06-30 13:41:36,688 - qm - INFO - Health check passed\n"
     ]
    }
   ],
   "source": [
    "#Octave & OPX configuration  \n",
    "Saving_Path=r\"X:\\Users\\beaulieu\\Data\\Run01\\131\\\\\"\n",
    "Cooldown_Date=\"2023_06_01\"\n",
    "\n",
    "opx_ip = '128.178.175.167'\n",
    "opx_port = 81\n",
    "octave_ip = '128.178.175.167'\n",
    "octave_port = 53\n",
    "\n",
    "octave_config = QmOctaveConfig()\n",
    "octave_config.set_calibration_db(os.getcwd()) #Path to the calibration database \n",
    "\n",
    "octave_config.add_device_info('octave1', octave_ip, octave_port) #Add a device refered to as octave 1\n",
    "octave_config.set_opx_octave_mapping([('con1', 'octave1')])  # Using the default mapping \n",
    "\n",
    "qmm = QuantumMachinesManager(host=opx_ip, port=opx_port, octave=octave_config)\n",
    "qm = qmm.open_qm(config)\n",
    "\n",
    "#Output for the resonator \n",
    "qmm.octave_manager.set_clock(\"octave1\", ClockType.External, ClockFrequency.MHZ_10) # External clock on the octave \n",
    "\n",
    "#Mixers for the fluxline \n",
    "octave_output_gain=-10\n",
    "\n",
    "#Upconversion \n",
    "qm.octave.set_lo_source(\"resonator\", OctaveLOSource.Internal) # Use internal LO for the fluxline \n",
    "qm.octave.set_lo_frequency(\"resonator\", LO_readout)  # Set the frequency of the LO \n",
    "qm.octave.set_rf_output_gain(\"resonator\", octave_output_gain)  # can set gain from -10dB to 20dB\n",
    "qm.octave.set_rf_output_mode(\"resonator\", RFOutputMode.trig_normal)  # The LO to a trigger so that it is not always on \n",
    "\n",
    "#Down conversion \n",
    "qm.octave.set_qua_element_octave_rf_in_port(\"resonator\", \"octave1\", 1) #input port 1 is set for the resonator \n",
    "qm.octave.set_downconversion(\"resonator\", lo_source=RFInputLOSource.Internal)  # The LO for the demodulation is the interal LO  \n"
   ]
  },
  {
   "cell_type": "code",
   "execution_count": 4,
   "id": "6d9e96aa-9db0-4fe7-bb8e-9aec1118bab5",
   "metadata": {},
   "outputs": [
    {
     "name": "stdout",
     "output_type": "stream",
     "text": [
      "2023-06-30 13:41:53,784 - qm - INFO - Flags: \n",
      "2023-06-30 13:41:53,785 - qm - INFO - Compiling program\n",
      "2023-06-30 13:41:56,070 - qm - INFO - Sending pre-compiled program to QOP\n"
     ]
    }
   ],
   "source": [
    "#Calibration of resonator frequency at the octave \n",
    "qm.octave.calibrate_element(\"resonator\", [get_L0_and_IF(config, \"resonator\")])  \n",
    "qm = qmm.open_qm(config)"
   ]
  },
  {
   "cell_type": "code",
   "execution_count": 4,
   "id": "fc193cb6-338e-4b46-b76f-a6310cdc9d7f",
   "metadata": {},
   "outputs": [
    {
     "name": "stdout",
     "output_type": "stream",
     "text": [
      "2023-05-30 09:50:59,150 - qm - INFO - Flags: \n",
      "2023-05-30 09:50:59,151 - qm - INFO - Sending program to QOP\n",
      "2023-05-30 09:50:59,175 - qm - INFO - Executing program\n"
     ]
    }
   ],
   "source": [
    "# Check the up-conversion for the calibration by playing the cw for ininite time \n",
    "\n",
    "amp_factor=0.5\n",
    "\n",
    "with program() as hello_octave:\n",
    "    with infinite_loop_():\n",
    "        play(\"cw\"*amp(amp_factor), \"resonator\")\n",
    "        \n",
    "job = qm.execute(hello_octave)\n",
    "#time.sleep(10)  # The program will run for 1 minute\n"
   ]
  },
  {
   "cell_type": "code",
   "execution_count": 19,
   "id": "b30a8960-28db-4515-8ebe-2de8a3af1025",
   "metadata": {},
   "outputs": [
    {
     "data": {
      "text/plain": [
       "True"
      ]
     },
     "execution_count": 19,
     "metadata": {},
     "output_type": "execute_result"
    }
   ],
   "source": [
    "job.halt()"
   ]
  },
  {
   "cell_type": "code",
   "execution_count": 9,
   "id": "f12f3d4d-4cf7-4366-bb81-d6f898558851",
   "metadata": {},
   "outputs": [],
   "source": [
    "#Useful functions \n",
    "\n",
    "def update_readout_lenght(Readout_Len,config,qmm):\n",
    "    \"\"\" Update the readout length in the configuration file\"\"\"\n",
    "\n",
    "    config[\"pulses\"][\"const\"][\"length\"]=Readout_Len\n",
    "    config[\"integration_weights\"][\"cosine_weights\"][\"cosine\"][0]=(1.0, Readout_Len)\n",
    "    config[\"integration_weights\"][\"cosine_weights\"][\"sine\"][0]=(0.0, Readout_Len)\n",
    "    config[\"integration_weights\"][\"sine_weights\"][\"cosine\"][0]=(0.0, Readout_Len)\n",
    "    config[\"integration_weights\"][\"sine_weights\"][\"sine\"][0]=(1.0, Readout_Len)\n",
    "    config[\"integration_weights\"][\"minus_sine_weights\"][\"cosine\"][0]=(0.0, Readout_Len)\n",
    "    config[\"integration_weights\"][\"minus_sine_weights\"][\"sine\"][0]=(-1.0, Readout_Len)\n",
    "\n",
    "\n",
    "    #Update the config with the modified values above \n",
    "    qm = qmm.open_qm(config)\n",
    "    \n",
    "    return config, qm\n",
    "\n",
    "\n",
    "def update_pulse_amplitude(pulse_amp,config,qmm):\n",
    "    \"\"\" Update the pulse_amplitude of the qm in the configuration file \"\"\"\n",
    "\n",
    "    config[\"waveforms\"][\"const_wf\"]['sample']=pulse_amp\n",
    "    \n",
    "    #Update the config with the modified values above \n",
    "    qm = qmm.open_qm(config)\n",
    "    \n",
    "    return config, qm\n",
    "\n",
    "def update_time_of_flight(time_of_flight,config,qmm):\n",
    "    \"\"\" Update the time_of_flight of the qm in the configuration file \"\"\"\n",
    "    config[\"elements\"][\"resonator\"][\"time_of_flight\"]=time_of_flight\n",
    "    \n",
    "    qm=qmm.open_qm(config)\n",
    "    \n",
    "    return config, qm\n",
    "\n",
    "def update_offset(offset_1, offset_2,config,qmm):\n",
    "    \"\"\" Update the input offsets of the qm in the configuration file \"\"\"\n",
    "    \n",
    "    config['controllers'][\"con1\"][\"analog_inputs\"][1]['offset']=offset_1\n",
    "    config['controllers'][\"con1\"][\"analog_inputs\"][2]['offset']=offset_2\n",
    "    \n",
    "    \n",
    "    qm=qmm.open_qm(config)\n",
    "    \n",
    "    return config, qm"
   ]
  },
  {
   "cell_type": "markdown",
   "id": "8814e8a3-a51e-4029-864d-25fa2d0fe338",
   "metadata": {
    "tags": []
   },
   "source": [
    "# RAW ADC check and demodulation check\n",
    "This allows checking that the ADC is not saturated, correct for DC offsets and define the time of flight.\n",
    "\n",
    "We can see from the figure that the time_of_flight parameter has two uses: First, it determines the time from the beginning of the readout pulse and until the beginning of the integration operation (d) and secondly, it sets the start of the ADC recording window, up to smearing, in (g). It is also important to note that the demod window length is set solely by the length of the integration weights vector. The length of the raw ADC data recording window is set by the length of the readout pulse as well as the smearing parameter."
   ]
  },
  {
   "cell_type": "code",
   "execution_count": 10,
   "id": "846a9420-0033-4490-9dc9-26a2899b6e74",
   "metadata": {},
   "outputs": [],
   "source": [
    "pulse_amp=0.125\n",
    "config,qm=update_pulse_amplitude(pulse_amp,config,qmm)\n",
    "\n",
    "\n",
    "gain=0\n",
    "config['controllers']['con1']['analog_inputs'][1][\"gain_db\"]=gain\n",
    "config['controllers']['con1']['analog_inputs'][2][\"gain_db\"]=gain\n",
    "qm = qmm.open_qm(config)"
   ]
  },
  {
   "cell_type": "code",
   "execution_count": 15,
   "id": "569ca35c-6c3b-452a-9bf3-29f111786f1c",
   "metadata": {},
   "outputs": [
    {
     "name": "stdout",
     "output_type": "stream",
     "text": [
      "2023-06-30 13:51:06,501 - qm - INFO - Flags: \n",
      "2023-06-30 13:51:06,502 - qm - INFO - Sending program to QOP\n",
      "2023-06-30 13:51:06,529 - qm - INFO - Executing program\n",
      "The mean offset of port 1 is: 1.2160839843750001e-06\n",
      "The mean offset of port 2 is: 8.624099609374999e-05\n"
     ]
    }
   ],
   "source": [
    "%matplotlib qt\n",
    "\n",
    "#Sets the pulse length and the pulse amplitude at the resonator \n",
    "pulse_len=50_000\n",
    "config,qm=update_readout_lenght(pulse_len,config,qmm)\n",
    "pulse_amp=0.125\n",
    "config,qm=update_pulse_amplitude(pulse_amp,config,qmm)    \n",
    "time_of_flight=280 # minimum \n",
    "config,qm=update_time_of_flight(time_of_flight,config,qmm)\n",
    "offset_1=0.01782622084960938\n",
    "offset_2=0.015536664150390626\n",
    "config,qm=update_offset(offset_1, offset_2,config,qmm)\n",
    "\n",
    "amp_factor=0.01 #Amplitude factor of the resonator \n",
    "n_avg = 1000  # Number of averaging loops\n",
    "cooldown_time = 50_000 // 4 #cooldown time between the averages\n",
    "\n",
    "with program() as raw_trace_prog:\n",
    "    n = declare(int)\n",
    "    adc_st = declare_stream(adc_trace=True)\n",
    "\n",
    "    with for_(n, 0, n < n_avg, n + 1):\n",
    "        reset_phase(\"resonator\")\n",
    "        measure(\"cw\"*amp(amp_factor), \"resonator\", adc_st)\n",
    "        wait(cooldown_time, \"resonator\")\n",
    "\n",
    "    with stream_processing():\n",
    "        \n",
    "        # Will save average:\n",
    "        adc_st.input1().average().save(\"adc1\")\n",
    "        adc_st.input2().average().save(\"adc2\")\n",
    "        \n",
    "        # Will save only last run:\n",
    "        adc_st.input1().save(\"adc1_single_run\")\n",
    "        adc_st.input2().save(\"adc2_single_run\")\n",
    "\n",
    "#Execute the program     \n",
    "qm = qmm.open_qm(config)\n",
    "job = qm.execute(raw_trace_prog)\n",
    "\n",
    "results = fetching_tool(job, data_list=[\"adc1\", \"adc2\", \"adc1_single_run\",\"adc2_single_run\"], mode=\"wait_for_all\")\n",
    "\n",
    "adc1, adc2, adc1_single_run, adc2_single_run = results.fetch_all()\n",
    "\n",
    "adc1 = u.raw2volts(adc1)\n",
    "adc2 = u.raw2volts(adc2)\n",
    "adc1_single_run = u.raw2volts(adc1_single_run)\n",
    "adc2_single_run = u.raw2volts(adc2_single_run)\n",
    "\n",
    "#Plotting \n",
    "plt.figure()\n",
    "plt.subplot(121)\n",
    "plt.title(\"Single run\")\n",
    "plt.plot(adc1_single_run, label=\"Input 1\")\n",
    "plt.plot(adc2_single_run, label=\"Input 2\")\n",
    "plt.xlabel(\"Time [ns]\")\n",
    "plt.ylabel(\"Signal amplitude [V]\")\n",
    "plt.legend()\n",
    "\n",
    "plt.subplot(122)\n",
    "plt.title(\"Averaged run\")\n",
    "plt.plot(adc1, label=\"Input 1\")\n",
    "plt.plot(adc2, label=\"Input 2\")\n",
    "plt.xlabel(\"Time [ns]\")\n",
    "plt.legend()\n",
    "plt.tight_layout()\n",
    "\n",
    "print(\"The mean offset of port 1 is: {}\".format(np.mean(adc1)))\n",
    "print(\"The mean offset of port 2 is: {}\".format(np.mean(adc2)))"
   ]
  },
  {
   "cell_type": "markdown",
   "id": "eae8225b-1c9a-4763-b0a9-d2ef093e9cfc",
   "metadata": {},
   "source": [
    "## Measure of the demodulated signal \n",
    "\n",
    "Measure the demodulated signal at a single frequency. Program simply to show that you need to optimize the time of flight otherwise, for short readout time you measure 0. \n"
   ]
  },
  {
   "cell_type": "code",
   "execution_count": 62,
   "id": "fc2dda47-41b8-4df4-b4b9-72f7d9192464",
   "metadata": {},
   "outputs": [
    {
     "name": "stdout",
     "output_type": "stream",
     "text": [
      "2023-04-07 13:04:04,217 - qm - INFO - Flags: \n",
      "2023-04-07 13:04:04,218 - qm - INFO - Sending program to QOP\n",
      "2023-04-07 13:04:05,631 - qm - INFO - Executing program\n",
      "The SNR on I : -10.91218870976442\n",
      "The SNR on Q : -12.170314996916927\n",
      "The SNR on total : 18.869194367655414\n"
     ]
    }
   ],
   "source": [
    "%matplotlib qt\n",
    "\n",
    "#Sets the pulse length and the pulse amplitude at the resonator \n",
    "pulse_len=100_000\n",
    "config,qm=update_readout_lenght(pulse_len,config,qmm)\n",
    "pulse_amp=0.125/2\n",
    "config,qm=update_pulse_amplitude(pulse_amp,config,qmm)    \n",
    "time_of_flight=280 # minimum 24\n",
    "config,qm=update_time_of_flight(time_of_flight,config,qmm)\n",
    "\n",
    "\n",
    "amp_factor=0.05#Amplitude factor of the resonator \n",
    "n_avg = 100  # Number of averaging loops\n",
    "cooldown_time = 100_000 // 4 #cooldown time between the averages in ns\n",
    "\n",
    "with program() as raw_trace_prog:\n",
    "   \n",
    "    n = declare(int)\n",
    "    I = declare(fixed)\n",
    "    Q = declare(fixed)\n",
    "    I_st = declare_stream()\n",
    "    Q_st = declare_stream()\n",
    "    \n",
    "    with for_(n, 0, n < n_avg, n + 1):\n",
    "        measure(\n",
    "            \"cw\"*amp(amp_factor),\n",
    "            \"resonator\",\n",
    "            None,\n",
    "            dual_demod.full(\"cos\", \"out1\", \"sin\", \"out2\", I),\n",
    "            dual_demod.full(\"minus_sin\", \"out1\", \"cos\", \"out2\", Q),\n",
    "        )\n",
    "\n",
    "        wait(cooldown_time, \"resonator\")\n",
    "        \n",
    "        save(I, I_st)\n",
    "        save(Q, Q_st)\n",
    "            \n",
    "    with stream_processing():\n",
    "\n",
    "        I_st.save_all(\"I\")\n",
    "        Q_st.save_all(\"Q\")\n",
    "\n",
    "qm = qmm.open_qm(config)\n",
    "job = qm.execute(raw_trace_prog)\n",
    "\n",
    "results = fetching_tool(job, data_list=[\"I\",\"Q\"], mode=\"wait_for_all\")\n",
    "\n",
    "I, Q = results.fetch_all()\n",
    "\n",
    "I = u.demod2volts(I, pulse_len)\n",
    "Q = u.demod2volts(Q, pulse_len)\n",
    "\n",
    "plt.figure()\n",
    "plt.subplot(121)\n",
    "plt.title(\"Single run\")\n",
    "plt.plot(I, label=\"I\")\n",
    "plt.plot(Q, label=\"Q\")\n",
    "plt.plot(np.sqrt(I**2+Q**2), label=\"Norm\")\n",
    "plt.xlabel(\"Time [ns]\")\n",
    "plt.ylabel(\"Signal amplitude [V]\")\n",
    "plt.legend()\n",
    "\n",
    "print(\"The SNR on I : {}\".format(np.mean(I)/np.sqrt(np.var(I))))\n",
    "print(\"The SNR on Q : {}\".format(np.mean(Q)/np.sqrt(np.var(Q))))\n",
    "print(\"The SNR on total : {}\".format(np.mean(np.sqrt(Q**2+I**2))/np.sqrt(np.var(np.sqrt(Q**2+I**2)))))"
   ]
  },
  {
   "cell_type": "markdown",
   "id": "0e416c13-ec04-46f8-9a75-b946132d359e",
   "metadata": {},
   "source": [
    "# Dispaly parameters"
   ]
  },
  {
   "cell_type": "code",
   "execution_count": 10,
   "id": "71e9c1c6-1d05-4c5b-94fc-3c8d77f6fbba",
   "metadata": {},
   "outputs": [],
   "source": [
    "#Setting the gain\n",
    "gain=0\n",
    "config['controllers']['con1']['analog_inputs'][1][\"gain_db\"]=gain\n",
    "config['controllers']['con1']['analog_inputs'][2][\"gain_db\"]=gain\n",
    "qm = qmm.open_qm(config)\n",
    "\n",
    "time_of_flight=280\n",
    "config, qm=update_time_of_flight(time_of_flight,config,qmm)\n",
    "\n",
    "pulse_amp=0.125\n",
    "config,qm=update_pulse_amplitude(pulse_amp,config,qmm)   \n"
   ]
  },
  {
   "cell_type": "code",
   "execution_count": 14,
   "id": "a34f6e47-88db-4230-8045-e8f09be5c8db",
   "metadata": {},
   "outputs": [
    {
     "name": "stdout",
     "output_type": "stream",
     "text": [
      "LO of resonator : 4.2 GHz\n",
      "IF of resonator : 0.1 GHz\n",
      "Time of flight of resonator : 280 ns\n",
      "Readout time resonator : 50000 ns\n",
      "Amplitude of the readout pulse : 0.125 V\n"
     ]
    }
   ],
   "source": [
    "print(\"LO of resonator : {} GHz\".format(config['elements']['resonator'][\"mixInputs\"][\"lo_frequency\"]/1e9))\n",
    "print(\"IF of resonator : {} GHz\".format(config['elements']['resonator']['intermediate_frequency']/1e9))\n",
    "print(\"Time of flight of resonator : {} ns\".format(config['elements']['resonator']['time_of_flight']))\n",
    "print(\"Readout time resonator : {} ns\".format(config[\"pulses\"]['const'][\"length\"]))\n",
    "print(\"Amplitude of the readout pulse : {} V\".format( config[\"waveforms\"][\"const_wf\"]['sample']))\n"
   ]
  },
  {
   "cell_type": "code",
   "execution_count": 19,
   "id": "2223e284-2626-4162-b65d-7af79e7199cf",
   "metadata": {},
   "outputs": [
    {
     "data": {
      "text/plain": [
       "{'version': 1,\n",
       " 'controllers': {'con1': {'analog_outputs': {1: {'offset': -0.0098876953125},\n",
       "    2: {'offset': 0.0549468994140625},\n",
       "    3: {'offset': 0.0},\n",
       "    4: {'offset': 0.0},\n",
       "    5: {'offset': 0.0},\n",
       "    6: {'offset': 0.0},\n",
       "    7: {'offset': 0.0},\n",
       "    8: {'offset': 0.0},\n",
       "    9: {'offset': 0.0},\n",
       "    10: {'offset': 0.0}},\n",
       "   'digital_outputs': {1: {}, 2: {}, 3: {}, 4: {}, 5: {}},\n",
       "   'analog_inputs': {1: {'offset': 0.01782622084960938, 'gain_db': 0},\n",
       "    2: {'offset': 0.015536664150390626, 'gain_db': 0}}}},\n",
       " 'elements': {'resonator': {'mixInputs': {'I': ('con1', 1),\n",
       "    'Q': ('con1', 2),\n",
       "    'lo_frequency': 4200000000.0,\n",
       "    'mixer': 'octave_octave1_1'},\n",
       "   'intermediate_frequency': 100000000.0,\n",
       "   'operations': {'cw': 'const'},\n",
       "   'digitalInputs': {'switch': {'port': ('con1', 1),\n",
       "     'delay': 126,\n",
       "     'buffer': 0}},\n",
       "   'outputs': {'out1': ('con1', 1), 'out2': ('con1', 2)},\n",
       "   'time_of_flight': 280,\n",
       "   'smearing': 0}},\n",
       " 'pulses': {'const': {'operation': 'measurement',\n",
       "   'length': 100000,\n",
       "   'waveforms': {'I': 'const_wf', 'Q': 'zero_wf'},\n",
       "   'integration_weights': {'cos': 'cosine_weights',\n",
       "    'sin': 'sine_weights',\n",
       "    'minus_sin': 'minus_sine_weights'},\n",
       "   'digital_marker': 'ON'}},\n",
       " 'waveforms': {'const_wf': {'type': 'constant', 'sample': 0.125},\n",
       "  'zero_wf': {'type': 'constant', 'sample': 0.0}},\n",
       " 'digital_waveforms': {'ON': {'samples': [(1, 0)]},\n",
       "  'OFF': {'samples': [(0, 0)]}},\n",
       " 'integration_weights': {'cosine_weights': {'cosine': [(1.0, 100000)],\n",
       "   'sine': [(0.0, 100000)]},\n",
       "  'sine_weights': {'cosine': [(0.0, 100000)], 'sine': [(1.0, 100000)]},\n",
       "  'minus_sine_weights': {'cosine': [(0.0, 100000)], 'sine': [(-1.0, 100000)]}},\n",
       " 'mixers': {'octave_octave1_1': [{'intermediate_frequency': 100000000,\n",
       "    'lo_frequency': 4200000000,\n",
       "    'correction': [0.9935445711016655,\n",
       "     0.09561681747436523,\n",
       "     0.09195470809936523,\n",
       "     1.0331126265227795]}]}}"
      ]
     },
     "execution_count": 19,
     "metadata": {},
     "output_type": "execute_result"
    }
   ],
   "source": [
    "config"
   ]
  },
  {
   "attachments": {
    "7be6ba71-0871-4686-b2a1-b066d69020dc.png": {
     "image/png": "[encoded data removed]"
    }
   },
   "cell_type": "markdown",
   "id": "3bc600ae-8e5b-4d17-a093-76ce0b1b6773",
   "metadata": {},
   "source": [
    "# Spectroscopy of single trace \n",
    "\n",
    "Spectroscopy for a single amplitude as a function of the frequency \n",
    "\n",
    "Might be possible to make a longer trace by sweeping another syntheziser on the octave and using it as an external LO\n",
    "\n",
    "![image.png](attachment:7be6ba71-0871-4686-b2a1-b066d69020dc.png)"
   ]
  },
  {
   "cell_type": "code",
   "execution_count": 16,
   "id": "6bea299b-1a01-47ee-a5c1-62c2c26c56ca",
   "metadata": {},
   "outputs": [],
   "source": [
    "%matplotlib qt\n",
    "\n",
    "#Sets the pulse length and the pulse amplitude at the resonator \n",
    "pulse_len=100_000\n",
    "config,qm=update_readout_lenght(pulse_len,config,qmm)\n",
    "\n",
    "#number of average \n",
    "n_avg = 1000\n",
    "\n",
    "#Waiting time before succesive readout \n",
    "cooldown_time = 100_000 // 4\n",
    "\n",
    "#If frequency sweep of the resonator \n",
    "\n",
    "f_min =149.75e6-0.25e6\n",
    "f_max =149.75e6+0.25e6\n",
    "df = 0.001e6   #0.001e6 #0.001e6\n",
    "freqs = np.arange(f_min, f_max + 0.1, df)  # + 0.1 to add f_max to freqs\n",
    "\n",
    "\n",
    "\n",
    "amp_factor=0.005 #amplitude factor "
   ]
  },
  {
   "cell_type": "code",
   "execution_count": 17,
   "id": "a5f27e88-41fb-4dfc-a36a-eebe7c76116b",
   "metadata": {},
   "outputs": [
    {
     "name": "stdout",
     "output_type": "stream",
     "text": [
      "2023-06-30 13:51:27,008 - qm - INFO - Flags: \n",
      "2023-06-30 13:51:27,009 - qm - INFO - Sending program to QOP\n",
      "2023-06-30 13:51:28,591 - qm - INFO - Executing program\n",
      "Execution stopped by user!                                   ] 30.6% (n=306/1000) --> elapsed time: 30.57s\n",
      "Wall time: 33.2 s#########                                   ] 30.9% (n=309/1000) --> elapsed time: 30.88s\n"
     ]
    }
   ],
   "source": [
    "%%time \n",
    "\n",
    "with program() as resonator_spec:\n",
    "    \n",
    "    n = declare(int)\n",
    "    f = declare(int)\n",
    "    I = declare(fixed)\n",
    "    Q = declare(fixed)\n",
    "    I_st = declare_stream()\n",
    "    Q_st = declare_stream()\n",
    "    n_st= declare_stream()\n",
    "\n",
    "    with for_(n, 0, n < n_avg, n + 1):\n",
    "        \n",
    "        with for_(f, f_min, f <= f_max, f + df):  # Notice it's <= to include f_max (This is only for integers!)\n",
    "            \n",
    "            update_frequency(\"resonator\", f)\n",
    "            \n",
    "            measure(\n",
    "                \"cw\"*amp(amp_factor),\n",
    "                \"resonator\",\n",
    "                None,\n",
    "                dual_demod.full(\"cos\", \"out1\", \"sin\", \"out2\", I),\n",
    "                dual_demod.full(\"minus_sin\", \"out1\", \"cos\", \"out2\", Q),\n",
    "            )\n",
    "            \n",
    "            wait(cooldown_time, \"resonator\") #Waiting time between sucessive measure \n",
    "            \n",
    "            save(I, I_st)\n",
    "            save(Q, Q_st)\n",
    "            \n",
    "        save(n, n_st)\n",
    "\n",
    "    with stream_processing():\n",
    "        \n",
    "        I_st.buffer(len(freqs)).average().save(\"I\") #Fills all the buffer frequency and then average the sucessive \n",
    "        Q_st.buffer(len(freqs)).average().save(\"Q\")\n",
    "        n_st.save(\"iteration\")\n",
    "        \n",
    "simulate = False\n",
    "\n",
    "if simulate:\n",
    "    \n",
    "    simulation_config = SimulationConfig(duration=10000)\n",
    "    job = qmm.simulate(config, resonator_spec, simulation_config)\n",
    "    job.get_simulated_samples().con1.plot(analog_ports={'1','2'},digital_ports={'1'})\n",
    "\n",
    "else:\n",
    "    \n",
    "    qm = qmm.open_qm(config)\n",
    "    job = qm.execute(resonator_spec)\n",
    "\n",
    "    # Get results from QUA program\n",
    "    results = fetching_tool(job, data_list=[\"I\", \"Q\", \"iteration\"], mode=\"live\")\n",
    "    \n",
    "    # Live plotting\n",
    "    fig = plt.figure()\n",
    "    interrupt_on_close(fig, job)  # Interrupts the job when closing the figure\n",
    "    \n",
    "    while results.is_processing():\n",
    "        # Fetch results\n",
    "        I, Q, iteration = results.fetch_all()\n",
    "        progress_counter(iteration, n_avg, start_time=results.get_start_time())\n",
    "        \n",
    "        # Plot results\n",
    "        plt.subplot(211)\n",
    "        plt.cla()\n",
    "        plt.title(\"resonator spectroscopy amplitude\")\n",
    "        plt.plot(freqs / u.MHz, 20*np.log10(np.sqrt(I**2 + Q**2)/(amp_factor)), \".\")\n",
    "        plt.xlabel(\"frequency [MHz]\")\n",
    "        plt.ylabel(r\"$\\sqrt{I^2 + Q^2}$ [a.u.]\")\n",
    "        plt.subplot(212)\n",
    "        plt.cla()\n",
    "        # detrend removes the linear increase of phase\n",
    "        phase = signal.detrend(np.unwrap(np.angle(I + 1j * Q)))\n",
    "        plt.title(\"resonator spectroscopy phase\")\n",
    "        plt.plot(freqs / u.MHz, phase, \".\")\n",
    "        plt.xlabel(\"frequency [MHz]\")\n",
    "        plt.ylabel(\"Phase [rad]\")\n",
    "        plt.pause(0.1)\n",
    "        plt.tight_layout()\n",
    "\n",
    "    # Fetch results\n",
    "    I, Q, iteration = results.fetch_all()\n",
    "    \n",
    "    # Convert I & Q to Volts\n",
    "    I = u.demod2volts(I, pulse_len)\n",
    "    Q = u.demod2volts(Q, pulse_len)\n",
    "    \n",
    "    # 1D spectroscopy plot\n",
    "    plt.clf()\n",
    "    plt.subplot(211)\n",
    "    plt.title(\"resonator spectroscopy amplitude [V]\")\n",
    "    plt.plot(freqs / u.MHz, 20*np.log10(np.sqrt(I**2 + Q**2)/(amp_factor)), \".\")\n",
    "    plt.xlabel(\"frequency [MHz]\")\n",
    "    plt.ylabel(r\"$\\sqrt{I^2 + Q^2}$ [a.u.]\")\n",
    "    plt.subplot(212)\n",
    "    # detrend removes the linear increase of phase\n",
    "    phase = signal.detrend(np.unwrap(np.angle(I + 1j * Q)))\n",
    "    plt.title(\"resonator spectroscopy phase [rad]\")\n",
    "    plt.plot(freqs / u.MHz, phase, \".\")\n",
    "    plt.xlabel(\"frequency [MHz]\")\n",
    "    plt.ylabel(\"Phase [rad]\")\n",
    "    plt.tight_layout()     \n",
    "        \n"
   ]
  },
  {
   "cell_type": "code",
   "execution_count": 15,
   "id": "636de0c4-03b9-4a47-8685-299596e75074",
   "metadata": {},
   "outputs": [],
   "source": [
    "#Plot of the data \n",
    "%matplotlib qt\n",
    "fig = plt.figure()\n",
    "plt.subplot(211)\n",
    "phase = signal.detrend(np.unwrap(np.angle(I + 1j * Q)))\n",
    "plt.title(\"resonator spectroscopy amplitude [V]\")\n",
    "plt.plot(freqs / u.MHz, 20*np.log10(np.sqrt(I**2 + Q**2)/(amp_factor)), \".\")\n",
    "plt.xlabel(\"frequency [MHz]\")\n",
    "plt.ylabel(r\"$\\sqrt{I^2 + Q^2}$ [dB]\")\n",
    "plt.subplot(212)\n",
    "plt.plot(freqs / u.MHz, phase, \".\")\n",
    "plt.xlabel(\"frequency [MHz]\")\n",
    "plt.ylabel(\"Phase [rad]\")\n",
    "plt.tight_layout()   \n"
   ]
  },
  {
   "cell_type": "markdown",
   "id": "dc530aa4-33c3-4efb-a6e0-734ace510eaf",
   "metadata": {},
   "source": [
    "## Saving "
   ]
  },
  {
   "cell_type": "code",
   "execution_count": 26,
   "id": "7678f651-0448-4fe8-b2d8-00b2beb17fc2",
   "metadata": {},
   "outputs": [
    {
     "name": "stdout",
     "output_type": "stream",
     "text": [
      "saving in new directory\n"
     ]
    }
   ],
   "source": [
    "#Saving the trace\n",
    "\n",
    "#Saving the data\n",
    "cooldown_date=Cooldown_Date #top folder \n",
    "device=\"Spectroscopy_QM\" #second folder \n",
    "name=\"single_trace\" # third folder \n",
    "meastype=\"20_06_2023_pi_6_0p15_lesspoints\" #Final file name \n",
    "\n",
    "datadict={}\n",
    "datadict[\"I\"]=I\n",
    "datadict[\"Q\"]=Q\n",
    "datadict[\"freqs\"]=freqs\n",
    "datadict[\"amp_factor\"]=amp_factor\n",
    "datadict[\"octave_gain\"]=octave_output_gain\n",
    "datadict[\"n_avg\"]=n_avg\n",
    "datadict[\"cooldown_time\"]=cooldown_time\n",
    "datadict[\"pulse_len\"]=pulse_len\n",
    "datadict[\"pulse_amp \"]=pulse_amp \n",
    "datadict[\"LO\"]=LO_readout\n",
    "datadict[\"config\"]=config \n",
    "\n",
    "an.save_with_numpy(datadict, meastype, name, device, cooldown_date, filepath=Saving_Path)  "
   ]
  },
  {
   "cell_type": "code",
   "execution_count": 17,
   "id": "e65eaa24-d11f-4bee-85e3-744a239bb751",
   "metadata": {},
   "outputs": [],
   "source": [
    "#loading the data \n",
    "filepath=r\"X:\\Users\\beaulieu\\Data\\Run01\\131\\2023_05_05\\Spectroscopy_QM\\single_trace\\17_05_2023_pi_6_0p15.npz\"\n",
    "\n",
    "npzfile=np.load(filepath,allow_pickle=True)\n",
    "npzfile[\"multidata\"][()]\n",
    "freqs=npzfile[\"multidata\"][()][\"freqs\"]\n",
    "I=npzfile[\"multidata\"][()][\"I\"]\n",
    "Q=npzfile[\"multidata\"][()][\"Q\"]\n",
    "amp_factor=npzfile[\"multidata\"][()][\"amp_factor\"]\n"
   ]
  },
  {
   "cell_type": "markdown",
   "id": "e5b34fcf-da77-4814-9d54-5a6bed0fd974",
   "metadata": {
    "tags": []
   },
   "source": [
    "## Analysis of single trace "
   ]
  },
  {
   "cell_type": "code",
   "execution_count": 18,
   "id": "a676538a-1f9b-497e-b760-5cc89fe26d67",
   "metadata": {},
   "outputs": [
    {
     "name": "stdout",
     "output_type": "stream",
     "text": [
      "{'Qi_dia_corr': 161807.3973657866, 'Qi_no_corr': 169655.7871188206, 'absQc': 66870.0714162952, 'Qc_dia_corr': 68173.41937385678, 'Ql': 47964.71164331062, 'fr': 4349733516.2729225, 'theta0': -2.9457388577736308, 'phi0': 0.1958537958161622, 'phi0_err': 0.010371984467994356, 'Ql_err': 659.1583187116204, 'absQc_err': 687.9587966775547, 'fr_err': 626.4091353478693, 'chi_square': 0.0015111149512725887, 'Qi_no_corr_err': 5814.061089979137, 'Qi_dia_corr_err': 5368.842963050215}\n",
      "The coupling in kHz 65.04753807116407\n",
      "The external quality factor 66870.0714162952\n",
      "The internal quality factor 169655.7871188206\n",
      "The resonance frequency is 4.349733516272923\n"
     ]
    }
   ],
   "source": [
    "%matplotlib qt\n",
    "# fit the resonance \n",
    "save_data=False \n",
    "\n",
    "port=circuit.notch_port()\n",
    "port.add_data(freqs+LO_readout,I+ 1j*Q)\n",
    "port.autofit()\n",
    "port.plotall()\n",
    "print(port.fitresults)\n",
    "Coupling=port.fitresults[\"fr\"]/port.fitresults['absQc']\n",
    "print('The coupling in kHz {}'.format(Coupling/1e3))\n",
    "print('The external quality factor {}'.format(port.fitresults['absQc']))\n",
    "print('The internal quality factor {}'.format(port.fitresults['Qi_no_corr']))\n",
    "print(\"The resonance frequency is {}\".format(port.fitresults[\"fr\"]/1e9))\n",
    "\n",
    "if save_data:\n",
    "    cooldown_date=Cooldown_Date #top folder \n",
    "    device=\"Spectroscopy_QM\" #second folder \n",
    "    name=\"single_trace\" # third folder \n",
    "    meastype=\"filename\" #Final file name \n",
    "\n",
    "    datadict={}\n",
    "    datadict[\"I\"]=I\n",
    "    datadict[\"Q\"]=Q\n",
    "    datadict[\"freqs\"]=freqs\n",
    "    datadict[\"amp_factor\"]=amp_factor\n",
    "    datadict[\"octave_gain\"]=octave_output_gain\n",
    "    datadict[\"n_avg\"]=n_avg\n",
    "    datadict[\"cooldown_time\"]=cooldown_time\n",
    "    datadict[\"pulse_len\"]=pulse_len\n",
    "    datadict[\"pulse_amp \"]=pulse_amp \n",
    "    datadict[\"LO\"]=LO_readout\n",
    "    datadict[\"config\"]=config \n",
    "    datadict[\"fit_result\"]=port.fitresults\n",
    "\n",
    "    an.save_with_numpy(datadict, meastype, name, device, cooldown_date, filepath=Saving_Path)  "
   ]
  },
  {
   "cell_type": "markdown",
   "id": "d6a07e9f-9b62-42df-9e0f-bf72d3cf0e5b",
   "metadata": {},
   "source": [
    "# Repeated Spectroscopy "
   ]
  },
  {
   "cell_type": "code",
   "execution_count": 56,
   "id": "d54e0356-7cfb-48d4-90a3-2189d0a83250",
   "metadata": {},
   "outputs": [],
   "source": [
    "%matplotlib qt\n",
    "\n",
    "#Sets the pulse length and the pulse amplitude at the resonator \n",
    "pulse_len=100_000\n",
    "config,qm=update_readout_lenght(pulse_len,config,qmm)\n",
    "\n",
    "#number of average \n",
    "n_avg = 500\n",
    "\n",
    "#Waiting time before succesive readout \n",
    "cooldown_time = 100_000 // 4\n",
    "\n",
    "#If frequency sweep of the resonator \n",
    "\n",
    "f_min =149.75e6-0.25e6\n",
    "f_max =149.75e6+0.25e6\n",
    "df = 0.001e6   #0.001e6 #0.001e6\n",
    "freqs = np.arange(f_min, f_max + 0.1, df)  # + 0.1 to add f_max to freqs\n",
    "\n",
    "amp_factor=0.005 #amplitude factor \n",
    "\n",
    "\n",
    "n_repetition=2000\n",
    "waiting_time= 120 #waiting time in seconds "
   ]
  },
  {
   "cell_type": "code",
   "execution_count": null,
   "id": "2ce86124-eab2-4aff-a1a9-3af482e72896",
   "metadata": {},
   "outputs": [
    {
     "name": "stdout",
     "output_type": "stream",
     "text": [
      "2023-06-30 14:20:36,999 - qm - INFO - Flags: \n",
      "2023-06-30 14:20:37,000 - qm - INFO - Sending program to QOP\n",
      "2023-06-30 14:20:38,495 - qm - INFO - Executing program\n",
      "Progress: [##################################################] 100.0% (n=500/500) --> elapsed time: 50.06s\n",
      "Execution stopped by user!\n",
      "After 0.872191067536672 min, the resonance is at 4.349734938788626 GHz\n",
      "2023-06-30 14:23:29,371 - qm - INFO - Flags: \n",
      "2023-06-30 14:23:29,373 - qm - INFO - Sending program to QOP\n",
      "2023-06-30 14:23:30,890 - qm - INFO - Executing program\n",
      "Progress: [##################################################] 100.0% (n=500/500) --> elapsed time: 50.12s\n",
      "Execution stopped by user!\n",
      "After 3.74684697786967 min, the resonance is at 4.3497344580973625 GHz\n",
      "2023-06-30 14:26:21,848 - qm - INFO - Flags: \n",
      "2023-06-30 14:26:21,849 - qm - INFO - Sending program to QOP\n",
      "2023-06-30 14:26:23,588 - qm - INFO - Executing program\n",
      "Progress: [##################################################] 100.0% (n=500/500) --> elapsed time: 50.14s\n",
      "Execution stopped by user!\n",
      "After 6.62127765417099 min, the resonance is at 4.349735072552546 GHz\n"
     ]
    }
   ],
   "source": [
    "start=time.time()\n",
    "resonance_list=[]\n",
    "error_list=[]\n",
    "time_list=[]\n",
    "\n",
    "Data={}\n",
    "\n",
    "\n",
    "for i in range(n_repetition): \n",
    "    \n",
    "    freqs,I,Q=SingleResonatorSpec(n_avg, cooldown_time, f_min, f_max, df, amp_factor)\n",
    "    plt.close()\n",
    "    \n",
    "    end=time.time()\n",
    "    current_time=end-start\n",
    "    Data[i]={}\n",
    "    \n",
    "\n",
    "    \n",
    "    Data[i][\"freqs\"]=freqs\n",
    "    Data[i][\"I\"]=I\n",
    "    Data[i][\"Q\"]=Q\n",
    "    \n",
    "    port=circuit.notch_port()\n",
    "    port.add_data(freqs+LO_readout,I+ 1j*Q)\n",
    "    port.autofit()\n",
    "\n",
    "    \n",
    "    resonance_list.append(port.fitresults[\"fr\"]/1e9)\n",
    "    error_list.append(port.fitresults['fr_err']/1e9)\n",
    "    time_list.append(current_time/60)\n",
    "    print(\"After {} min, the resonance is at {} GHz\".format(current_time/60,port.fitresults[\"fr\"]/1e9))\n",
    "    \n",
    "    time.sleep(waiting_time)\n",
    "    \n",
    "    "
   ]
  },
  {
   "cell_type": "code",
   "execution_count": 55,
   "id": "d7b11db2-8e66-4762-8044-6d7403eafef8",
   "metadata": {},
   "outputs": [
    {
     "data": {
      "text/plain": [
       "Text(0, 0.5, 'Resonance [GHz]')"
      ]
     },
     "execution_count": 55,
     "metadata": {},
     "output_type": "execute_result"
    },
    {
     "data": {
      "image/png": "[encoded data removed]",
      "text/plain": [
       "<Figure size 400x400 with 1 Axes>"
      ]
     },
     "metadata": {
      "needs_background": "light"
     },
     "output_type": "display_data"
    }
   ],
   "source": [
    "%matplotlib inline\n",
    "\n",
    "fig, axs= plt.subplots(nrows=1, ncols=1, figsize=(4,4), dpi=100)\n",
    "axs.plot(time_list,resonance_list,\".\")\n",
    "axs.set_xlabel(\"time [min]\")\n",
    "axs.set_ylabel(\"Resonance [GHz]\")"
   ]
  },
  {
   "cell_type": "code",
   "execution_count": null,
   "id": "39efd1a5-131d-41d4-8874-f564185112f0",
   "metadata": {},
   "outputs": [],
   "source": [
    "cooldown_date=Cooldown_Date #top folder \n",
    "device=\"Calibration\" #second folder \n",
    "name=\"frequency\" # third folder \n",
    "meastype=\"20_06_2023_pi_6_0p15_lesspoints\" #Final file name \n",
    "\n",
    "datadict={}\n",
    "\n",
    "datadict[\"Data\"]=Data\n",
    "datadict[\"freqs\"]=freqs\n",
    "datadict[\"amp_factor\"]=amp_factor\n",
    "datadict[\"octave_gain\"]=octave_output_gain\n",
    "datadict[\"n_avg\"]=n_avg\n",
    "datadict[\"cooldown_time\"]=cooldown_time\n",
    "datadict[\"pulse_len\"]=pulse_len\n",
    "datadict[\"pulse_amp \"]=pulse_amp \n",
    "datadict[\"LO\"]=LO_readout\n",
    "datadict[\"config\"]=config \n",
    "datadict[\"time_list\"]=time_list\n",
    "datadict[\"resonance_list\"]=resonance_list\n",
    "\n",
    "an.save_with_numpy(datadict, meastype, name, device, cooldown_date, filepath=Saving_Path)  "
   ]
  }
 ],
 "metadata": {
  "kernelspec": {
   "display_name": "Python 3 (ipykernel)",
   "language": "python",
   "name": "python3"
  },
  "language_info": {
   "codemirror_mode": {
    "name": "ipython",
    "version": 3
   },
   "file_extension": ".py",
   "mimetype": "text/x-python",
   "name": "python",
   "nbconvert_exporter": "python",
   "pygments_lexer": "ipython3",
   "version": "3.7.13"
  }
 },
 "nbformat": 4,
 "nbformat_minor": 5
}
