{
 "cells": [
  {
   "cell_type": "code",
   "execution_count": 1,
   "id": "2df30edf-7456-4638-87c6-ad3bd3a425c3",
   "metadata": {},
   "outputs": [],
   "source": [
    "import numpy as np\n",
    "import ctypes\n",
    "import matplotlib.pyplot as plt\n",
    "from time import sleep"
   ]
  },
  {
   "cell_type": "markdown",
   "id": "d38efa6e-5ddd-4d61-8e97-8d1948b3b3b3",
   "metadata": {},
   "source": [
    "## Important notes \n",
    "\n",
    "\n",
    "sAConfig level : when this is set the auto, the device will automatically decide the attenuation and gain to get the maximum dynamic range. The choice of this setting will depend on what is set for the reference level. To achieve best results, the reference level needs to be set or slighly above the expected input power. The reference level is in dBm units. \n",
    "\n",
    "\n",
    "The resolution bandwith represent the bandwidth of spectral energy represented in each frequency bin. For an rbw of 10 KHz, the amplitude value for each bin would represent the total energy from 5 kHz below to 5 KHz above the center bin. The maximum rbw is 250 KHZ and the minimum is 0.1 HZ. \n",
    "\n",
    "For spans between 201kHz and 99MHz with a start frequency above 16MHz, the RBW can be set between 30Hz and 250kHz.\n",
    "For spans larger than 99MHz or sweeps that start below 16MHz, the RBW can be set between 6.5 kHz\n",
    "and 250kHz.\n",
    "\n",
    "The vbw is applied after the signal has been converted to the frequency domain as power, voltage or log units. It is implemented as a simple rectangular window , averaging the amplide readings for each frequency bin over several overlapping FFTs. A signal whose amplitude is modulated at a much higher frequency than the vbw will be shown as an average. A signal whose amplitude is modulated at lower frequency will be shown as minimum and maximum value. \n",
    "\n",
    "\n",
    "\n",
    "\n",
    "For “average power” measurements, SA_POWER_UNITS should be selected. For cleaning up an amplitude\n",
    "modulated signal, SA_VOLT_UNITS would be a good choice. To emulate a traditional spectrum analyzer,\n",
    "select SA_LOG_UNITS. "
   ]
  },
  {
   "cell_type": "code",
   "execution_count": 2,
   "id": "5c4b51a5-d87e-4786-b27c-a14dcf86b6b3",
   "metadata": {},
   "outputs": [],
   "source": [
    "class IQPacketData(ctypes.Structure):\n",
    "    _fields_ = [('iqData',ctypes.POINTER(ctypes.c_float)), #pointer to a 32 bit complex floating point values. This must be a continous block of iqc ount complex pairs\n",
    "            ('iqCount',ctypes.c_int), #number of I/Q data pairs to return\n",
    "            ('purge', ctypes.c_int), # Specifies whether to discard any samples acquired by the API since the last time and saGetIQData function was called. Set to SA_TRUE if you wish to discard all previously acquired data, and SA_FALSE if you wish to retrieve the contiguous I/Q values from a previous call to this function. \n",
    "            ('dataRemaining', ctypes.c_int),# How many I/Q samples are still left buffered in the API. Set by API. \n",
    "            ('sampleLoss', ctypes.c_int), #Returns SA_TRUE or SA_FALSE. Will return SA_TRUE when the API is required to drop data due to internal buffers wrapping. This can be caused by I/Q samples not being polled fast enough, or in instances where the processing is not able to keep up (underpowered systems, or other programs utilizing the CPU) Will return SA_TRUE on the capture in which the sample break occurs. Does not indicate which sample the break occurs on. Will always return SA_FALSE if purge is true. Set by API. \n",
    "            ('sec', ctypes.c_int), #Seconds since epoch representing the timestamp of the first sample in the returned array. Set by API. \n",
    "            ('milli', ctypes.c_int)] #Milliseconds representing the timestamp of the first sample in the returned array. Set by API. \n",
    "\n",
    "\n",
    "\n",
    "class Constants:\n",
    "    \"\"\"\n",
    "    These constants are defined in sa_api.h as part of the the Signal Hound\n",
    "    SDK\n",
    "    \"\"\"\n",
    "    \n",
    "    sa_FALSE=0\n",
    "    sa_TRUE=1\n",
    "\n",
    "    SA_MAX_DEVICES = 8\n",
    "\n",
    "    saDeviceTypeNone = 0\n",
    "    saDeviceTypeSA44 = 1\n",
    "    saDeviceTypeSA44B = 2\n",
    "    saDeviceTypeSA124A = 3\n",
    "    saDeviceTypeSA124B = 4\n",
    "\n",
    "    sa44_MIN_FREQ = 1.0\n",
    "    sa124_MIN_FREQ = 100.0e3\n",
    "    sa44_MAX_FREQ = 4.4e9\n",
    "    sa124_MAX_FREQ = 13.0e9\n",
    "    sa_MIN_SPAN = 1.0\n",
    "    sa_MAX_REF = 20\n",
    "    sa_MAX_ATTEN = 3\n",
    "    sa_MAX_GAIN = 2\n",
    "    sa_MIN_RBW = 0.1\n",
    "    sa_MAX_RBW = 6.0e6\n",
    "    sa_MIN_RT_RBW = 100.0\n",
    "    sa_MAX_RT_RBW = 10000.0\n",
    "    sa_MIN_IQ_BANDWIDTH = 100.0\n",
    "    sa_MAX_IQ_DECIMATION = 128\n",
    "\n",
    "    sa_IQ_SAMPLE_RATE = 486111.111\n",
    "\n",
    "    sa_IDLE = -1\n",
    "    sa_SWEEPING = 0x0\n",
    "    sa_REAL_TIME = 0x1\n",
    "    sa_IQ = 0x2\n",
    "    sa_AUDIO = 0x3\n",
    "    sa_TG_SWEEP = 0x4\n",
    "\n",
    "    sa_MIN_MAX = 0x0\n",
    "    sa_AVERAGE = 0x1\n",
    "    \n",
    "    sa_LOG_UNITS=0x0\n",
    "    sa_VOLT_UNITS=0x1\n",
    "    sa_POWER_UNITS=0x2\n",
    "    \n",
    "    sa_REF_EXTERNAL_IN=2\n",
    "    sa_REF_EXTERNAL_OUT=1\n",
    "\n",
    "    sa_LOG_SCALE = 0x0\n",
    "    sa_LIN_SCALE = 0x1\n",
    "    sa_LOG_FULL_SCALE = 0x2\n",
    "    sa_LIN_FULL_SCALE = 0x3\n",
    "\n",
    "    sa_AUTO_ATTEN = -1\n",
    "    sa_AUTO_GAIN = -1\n",
    "\n",
    "    sa_LOG_UNITS = 0x0\n",
    "    sa_VOLT_UNITS = 0x1\n",
    "    sa_POWER_UNITS = 0x2\n",
    "    sa_BYPASS = 0x3\n",
    "\n",
    "    sa_AUDIO_AM = 0x0\n",
    "    sa_AUDIO_FM = 0x1\n",
    "    sa_AUDIO_USB = 0x2\n",
    "    sa_AUDIO_LSB = 0x3\n",
    "    sa_AUDIO_CW = 0x4\n",
    "\n",
    "    TG_THRU_0DB = 0x1\n",
    "    TG_THRU_20DB = 0x2\n",
    "\n",
    "    sa_REF_UNUSED = 0\n",
    "    sa_REF_INTERNAL_OUT = 1\n",
    "    sa_REF_EXTERNAL_IN = 2\n",
    "\n",
    "\n",
    "class saStatus():\n",
    "    saUnknownErr = -666\n",
    "    saFrequencyRangeErr = 99\n",
    "    saInvalidDetectorErr = -95\n",
    "    saInvalidScaleErr = -94\n",
    "    saBandwidthErr = -91\n",
    "    saExternalReferenceNotFound = -89\n",
    "    # Device specific errors\n",
    "    saOvenColdErr = -20\n",
    "    # Data errors\n",
    "    saInternetErr = -12\n",
    "    saUSBCommErr = -11\n",
    "    # General configuration errors\n",
    "    saTrackingGeneratorNotFound = -10\n",
    "    saDeviceNotIdleErr = -9\n",
    "    saDeviceNotFoundErr = -8\n",
    "    saInvalidModeErr = -7\n",
    "    saNotConfiguredErr = -6\n",
    "    saDeviceNotConfiguredErr = -6  # Added because key error raised\n",
    "    saTooManyDevicesErr = -5\n",
    "    saInvalidParameterErr = -4\n",
    "    saDeviceNotOpenErr = -3\n",
    "    saInvalidDeviceErr = -2\n",
    "    saNullPtrErr = -1\n",
    "    # No error\n",
    "    saNoError = 0\n",
    "    # Warnings\n",
    "    saNoCorrections = 1\n",
    "    saCompressionWarning = 2\n",
    "    saParameterClamped = 3\n",
    "    saBandwidthClamped = 4"
   ]
  },
  {
   "cell_type": "code",
   "execution_count": 3,
   "id": "7e27ffae-b325-4e4f-a8eb-ef8115b27c2e",
   "metadata": {},
   "outputs": [],
   "source": [
    "dll_path=r\"C:\\\\Program Files\\\\Signal Hound\\\\Spike\\\\sa_api.dll\"\n",
    "\n",
    "class Signalhound(): \n",
    "    \n",
    "    \n",
    "    def performOpen(self,dll_path):\n",
    "        \"\"\" Opens the signal hound and creates pointers to hold the values for the other question. \n",
    "        For now, the signal hound is automatically defined in the average mode with log_scale\"\"\"\n",
    "        \n",
    "        self.sighound = ctypes.CDLL(dll_path)\n",
    "        self.hf=Constants #constants\n",
    "        self.err=saStatus #errors\n",
    "        \n",
    "        #variables that contains information returned by function \n",
    "        self.handle = ctypes.c_int() #handle \n",
    "        self.sweepLen = ctypes.c_int();\n",
    "        self.startFreq = ctypes.c_double();\n",
    "        self.binSize = ctypes.c_double();\n",
    "        self.min = np.empty(1,dtype=\"float32\");\n",
    "        self.max = np.empty(1,dtype=\"float32\");\n",
    "        \n",
    "        \n",
    "        if(self.sighound.saOpenDevice(ctypes.byref(self.handle))!=0):\n",
    "            print(\"Unable to open device SignalHound\")\n",
    "        else:\n",
    "            self.sighound.saConfigAcquisition(self.handle,ctypes.c_int(self.hf.sa_AVERAGE),ctypes.c_int(self.hf.sa_LOG_SCALE))\n",
    "            self.sighound.saSetTimebase(self.handle, ctypes.c_int(self.hf.sa_REF_EXTERNAL_IN))\n",
    "            \n",
    "    def performClose(self, bError=False, options={}):\n",
    "        \"\"\" Close the signal hound. This must be done after every use\"\"\"\n",
    "        err=self.sighound.saCloseDevice(self.handle)\n",
    "        self.check_for_error(err, \"saCloseDevice\")\n",
    "        \n",
    "    def setSweepParameters(self,center_freq,span):\n",
    "        \"\"\" Configures the center_freq and the span of the measurement\"\"\"\n",
    "        \n",
    "        self.center_freq=center_freq\n",
    "        self.span=span\n",
    "        self.start=center_freq-(span/2)\n",
    "        self.stop=center_freq+(span/2)\n",
    "        \n",
    "        err=self.sighound.saConfigCenterSpan(self.handle,ctypes.c_double(self.center_freq),ctypes.c_double(self.span)) #config the center and span \n",
    "        self.check_for_error(err, \"saConfigCenterSpan\")\n",
    "        \n",
    "    def setRefLevel(self,ref_level):\n",
    "        \"\"\" Sets the reference level. This should be slighly higher than the expected input from the signal to choose the correct set of gain and attenuation\"\"\"\n",
    "         \n",
    "        \n",
    "        self.ref_level=ref_level\n",
    "        \n",
    "        err=self.sighound.saConfigLevel(self.handle, ctypes.c_double(ref_level)) \n",
    "        self.check_for_error(err, \"saConfigLevel\")\n",
    "        \n",
    "    def setGainAtten(self):\n",
    "        \"\"\" sets the atomatic gain and attenuation based on the expected input power from the reference level\"\"\"\n",
    "\n",
    "        err=self.sighound.saConfigGainAtten(self.handle,ctypes.c_int(self.hf.sa_AUTO_ATTEN), ctypes.c_int(self.hf.sa_AUTO_GAIN)) # for now, only automatic is supported so reference level needs to chossen accordingly \n",
    "        self.check_for_error(err, \"saConfigGainAtten\")\n",
    "        \n",
    "    def setSweepCoupling(self,rbw, vbw):\n",
    "        \"\"\" sets the rbw and the vbw following the different restrictions given in the manual \"\"\"\n",
    "     \n",
    "        \n",
    "        self.rbw=rbw\n",
    "        self.vbw=vbw\n",
    "        \n",
    "        err=self.sighound.saConfigSweepCoupling(self.handle, ctypes.c_double(self.rbw), ctypes.c_double(self.vbw), ctypes.c_int(0))  # image rejection set to falst \n",
    "        self.check_for_error(err, \"saConfigGainAtten\")\n",
    "        \n",
    "    def setProcUnit(self,units):\n",
    "    \n",
    "        self.units=units\n",
    "        \n",
    "        \n",
    "        if self.units==\"dbm\":\n",
    "            err=self.sighound.saConfigProcUnits(self.handle, ctypes.c_int(self.hf.sa_LOG_UNITS)) \n",
    "            self.check_for_error(err, \"saConfigProcUnits\")\n",
    "        elif self.units==\"mV\":\n",
    "            err=self.sighound.saConfigProcUnits(self.handle, ctypes.c_int(self.hf.sa_VOLT_UNITS)) \n",
    "            self.check_for_error(err, \"saConfigProcUnits\")\n",
    "        elif self.units==\"mW\":\n",
    "            err=self.sighound.saConfigProcUnits(self.handle, ctypes.c_int(self.hf.sa_POWER_UNITS))\n",
    "            self.check_for_error(err, \"saConfigProcUnits\")\n",
    "        else :\n",
    "            print(\"Select allowed units: either dbm, mV or mW\")\n",
    "            \n",
    "        \n",
    "        \n",
    "        \n",
    "    def setSweepMode(self,mode):\n",
    "        \"\"\" defines the acquisition mode. Only two modes are currently supported : the sweeping and IQ mode\"\"\"\n",
    "     \n",
    "        self.mode=mode\n",
    "        \n",
    "        if self.mode==\"sweeping\":\n",
    "            err=self.sighound.saInitiate(self.handle,ctypes.c_int(self.hf.sa_SWEEPING),ctypes.c_int(0))\n",
    "            \n",
    "            err=self.sighound.saQuerySweepInfo(self.handle,ctypes.byref(self.sweepLen),ctypes.byref(self.startFreq),ctypes.byref(self.binSize))\n",
    "            self.check_for_error(err, \"saQuerySweepInfo\")\n",
    "\n",
    "            end_freq = self.startFreq.value + self.binSize.value * (self.sweepLen.value - 1)\n",
    "            self.freq = np.linspace(self.startFreq.value, end_freq, self.sweepLen.value)\n",
    "            \n",
    "        elif self.mode==\"IQ\":\n",
    "            err=self.sighound.saInitiate(self.handle,ctypes.c_int(self.hf.sa_IQ),ctypes.c_int(0))\n",
    "            self.check_for_error(err, \"saQuerySweepInfo\")\n",
    "        else : \n",
    "            print(\"Select allowed mode: either sweeping or IQ\")\n",
    "            \n",
    "        self.check_for_error(err, \"saInitiate\")\n",
    "        \n",
    "       \n",
    "    def SingleSweep(self):\n",
    "        \"\"\" Performs a single sweep based on the parameters defined above\"\"\"\n",
    "     \n",
    "        \n",
    "        #Upon returning successfully, this function returns the minimum and maximum arrays of one full sweep.\n",
    "        #If the detector provided in saConfigAcquisition() is SA_AVERAGE, the arrays will be populated with\n",
    "        #the same values. Element zero of each array corresponds to the startFreq returned fro\n",
    "        \n",
    "        self.min = np.zeros(self.sweepLen.value,dtype=\"float32\"); # required to get the sweep \n",
    "        self.max = np.zeros(self.sweepLen.value,dtype=\"float32\"); # required to get the sweep \n",
    "        \n",
    "        minarr= self.min.ctypes.data_as(ctypes.POINTER(ctypes.c_float))\n",
    "        maxarr= self.max.ctypes.data_as(ctypes.POINTER(ctypes.c_float))\n",
    "        \n",
    "        err=self.sighound.saGetSweep_32f(self.handle, minarr, maxarr);  # the sweep value is pointed into minarr and maxarr. If it is set to average, it will \n",
    "        self.check_for_error(err, \"Getsweep\")\n",
    "        \n",
    "        self.trace=self.min\n",
    "        \n",
    "        \n",
    "    def AvSweep(self,navg):\n",
    "        \"\"\" Averages navg sweep and returns the value un self.av_trace \"\"\"\n",
    "       \n",
    "        self.navg=navg\n",
    "        \n",
    "        data=np.zeros(self.sweepLen.value)\n",
    "        \n",
    "        for i in range(navg):\n",
    "            \n",
    "            self.min = np.zeros(self.sweepLen.value,dtype=\"float32\"); # required to get the sweep \n",
    "            self.max = np.zeros(self.sweepLen.value,dtype=\"float32\"); # required to get the sweep \n",
    "            \n",
    "            self.trace=self.min # last trace \n",
    "            \n",
    "           \n",
    "            \n",
    "            minarr= self.min.ctypes.data_as(ctypes.POINTER(ctypes.c_float))\n",
    "            maxarr= self.max.ctypes.data_as(ctypes.POINTER(ctypes.c_float))\n",
    "\n",
    "            sleep(0.01)\n",
    "            err=self.sighound.saGetSweep_32f(self.handle, minarr, maxarr);  # the sweep value is pointed into minarr and maxarr. If it is set to average, it will \n",
    "            self.check_for_error(err, \"Getsweep\")\n",
    "\n",
    "            \n",
    "            data+= self.min\n",
    "            \n",
    "        self.av_trace=data/navg\n",
    "            \n",
    "            \n",
    "    def setIQ(self, decimation,bandwidth):\n",
    "        \n",
    "        self.bandwidth=bandwidth\n",
    "        self.decimation=decimation\n",
    "        \n",
    "        err=self.sighound.saConfigIQ(self.handle, ctypes.c_int(decimation), ctypes.c_double(bandwidth))\n",
    "        self.check_for_error(err, \"saConfigIQ\")\n",
    "\n",
    "    def IQ(self):\n",
    "        \n",
    "        self.iqPurge = ctypes.c_int(0) # we discard all previous data\n",
    "        self.iqDataRemaining = ctypes.c_int(0) # we leave 0 data remaining\n",
    "        self.iqSampleLoss = ctypes.c_int(0)\n",
    "        self.secondsRemaining = ctypes.c_int(0)\n",
    "        self.millisecondsRemaining = ctypes.c_int(0)\n",
    "                \n",
    "        self.iqarraySize = ctypes.c_int(24305) #size of the array \n",
    "        self.iqArr = np.zeros(48611,dtype=\"float32\") #iq array \n",
    "                \n",
    "        self.saIQPacketData = IQPacketData(self.iqArr.ctypes.data_as(ctypes.POINTER(ctypes.c_float)),\n",
    "                                   self.iqarraySize,\n",
    "                                   self.iqPurge,\n",
    "                                   self.iqDataRemaining,\n",
    "                                   self.iqSampleLoss,\n",
    "                                   self.secondsRemaining,\n",
    "                                   self.millisecondsRemaining)\n",
    "                \n",
    "                \n",
    "        \n",
    "                \n",
    "                \n",
    "                \n",
    "        err=self.sighound.saGetIQData(self.handle,ctypes.pointer(self.saIQPacketData))\n",
    "                \n",
    "                \n",
    "    def IQ_second(self,length_IQ):\n",
    "        \n",
    "        \n",
    "     \n",
    "        self.iqData = np.zeros(length_IQ,dtype=\"float32\") #iq array\n",
    "        self.iqCount=ctypes.c_int(length_IQ)\n",
    "        self.purge=ctypes.c_int(self.hf.sa_TRUE)\n",
    "        \n",
    "        self.dataRemaining=ctypes.c_int()\n",
    "        self.sampleLoss=ctypes.c_int()\n",
    "        self.sec=ctypes.c_int()\n",
    "        self.milli=ctypes.c_int()\n",
    "    \n",
    "        \n",
    "        IQ_array=self.iqData.ctypes.data_as(ctypes.POINTER(ctypes.c_float))\n",
    "        self.min.ctypes.data_as(ctypes.POINTER(ctypes.c_double))\n",
    "        \n",
    "        err=self.sighound.saGetIQDataUnpacked(self.handle, \n",
    "                                              IQ_array,\n",
    "                                              self.iqCount,\n",
    "                                              self.purge, \n",
    "                                              ctypes.byref(self.dataRemaining), \n",
    "                                              ctypes.byref(self.sampleLoss),\n",
    "                                              ctypes.byref(self.sec),\n",
    "                                              ctypes.byref(self.milli))\n",
    "        self.check_for_error(err, \"saGetIQDataUnpacked\")\n",
    "        \n",
    "    def check_for_error(self,err,source):\n",
    "        # check if there is an error \n",
    "        if err != self.err.saNoError:\n",
    "            print(\"During {}, the error {} was raised\".format(source,err))\n",
    "            \n",
    "   \n",
    "\n",
    " \n"
   ]
  },
  {
   "cell_type": "code",
   "execution_count": 4,
   "id": "fa8c4966-907d-4711-86aa-985a113f773f",
   "metadata": {},
   "outputs": [],
   "source": [
    "dll_path=r\"C:\\\\Program Files\\\\Signal Hound\\\\Spike\\\\sa_api.dll\"\n",
    "sgh=Signalhound()\n",
    "#open the device\n",
    "sgh.performOpen(dll_path)\n",
    "\n"
   ]
  },
  {
   "cell_type": "code",
   "execution_count": 18,
   "id": "80a7e7ff-b87f-4838-8eaa-9f2963d7990b",
   "metadata": {},
   "outputs": [],
   "source": [
    "center_freq=4.3e9\n",
    "span=1e6\n",
    "ref_level=-20\n",
    "rbw=0.001e6\n",
    "vbw=rbw\n",
    "\n",
    "sgh.setSweepParameters(center_freq,span)\n",
    "sgh.setRefLevel(ref_level)\n",
    "sgh.setGainAtten()\n",
    "sgh.setSweepCoupling(rbw,vbw)\n",
    "sgh.setProcUnit(\"dbm\")\n",
    "sgh.setSweepMode(\"sweeping\")"
   ]
  },
  {
   "cell_type": "code",
   "execution_count": 19,
   "id": "680945e5-a4f0-4a37-98bb-e63addc3e676",
   "metadata": {},
   "outputs": [],
   "source": [
    "sgh.SingleSweep()"
   ]
  },
  {
   "cell_type": "code",
   "execution_count": 263,
   "id": "7c219fbc-62ce-40cd-9fa2-1e6a52071935",
   "metadata": {},
   "outputs": [
    {
     "data": {
      "text/plain": [
       "48610"
      ]
     },
     "execution_count": 263,
     "metadata": {},
     "output_type": "execute_result"
    }
   ],
   "source": [
    "24305*2"
   ]
  },
  {
   "cell_type": "code",
   "execution_count": 21,
   "id": "3095d3d6-ec80-4376-9690-a2d3573a875d",
   "metadata": {},
   "outputs": [
    {
     "name": "stdout",
     "output_type": "stream",
     "text": [
      "-35.31987762451172\n"
     ]
    }
   ],
   "source": [
    "plt.plot(sgh.freq,sgh.av_trace)\n",
    "print(np.max(sgh.av_trace))"
   ]
  },
  {
   "cell_type": "code",
   "execution_count": 20,
   "id": "da7e8645-36d7-4150-b6a6-6af519462c4d",
   "metadata": {},
   "outputs": [],
   "source": [
    "sgh.AvSweep(2)"
   ]
  },
  {
   "cell_type": "code",
   "execution_count": 28,
   "id": "516d1f61-84b2-4999-ac02-224e7bed76b0",
   "metadata": {},
   "outputs": [],
   "source": [
    "sgh.performClose()"
   ]
  },
  {
   "cell_type": "code",
   "execution_count": 17,
   "id": "f2a0af12-4e4b-470a-890c-91b399e1a2ca",
   "metadata": {},
   "outputs": [],
   "source": [
    "dll_path=r\"C:\\\\Program Files\\\\Signal Hound\\\\Spike\\\\sa_api.dll\"\n",
    "sgh=Signalhound()\n",
    "#open the device\n",
    "sgh.performOpen(dll_path)\n"
   ]
  },
  {
   "cell_type": "code",
   "execution_count": 37,
   "id": "850a247f-2e8d-433e-8a53-348a288a6a8f",
   "metadata": {},
   "outputs": [],
   "source": [
    "center_freq=4.3e9\n",
    "span=5e3\n",
    "ref_level=-20\n",
    "rbw=2e3\n",
    "vbw=rbw\n",
    "\n",
    "sgh.setSweepParameters(center_freq,span)\n",
    "sgh.setRefLevel(ref_level)\n",
    "sgh.setGainAtten()\n",
    "sgh.setSweepCoupling(rbw,vbw)\n",
    "sgh.setProcUnit(\"dbm\")\n",
    "sgh.setSweepMode(\"sweeping\")"
   ]
  },
  {
   "cell_type": "code",
   "execution_count": 38,
   "id": "94d968ae-35fc-4bc4-afa0-b2a39a2a3839",
   "metadata": {},
   "outputs": [
    {
     "name": "stdout",
     "output_type": "stream",
     "text": [
      "-32.87034412384033\n"
     ]
    }
   ],
   "source": [
    "sgh.AvSweep(100)\n",
    "print(np.max(sgh.av_trace))"
   ]
  },
  {
   "cell_type": "code",
   "execution_count": 29,
   "id": "f86ecf94-a84a-4d2a-b362-1a7c89576567",
   "metadata": {},
   "outputs": [],
   "source": [
    "dll_path=r\"C:\\\\Program Files\\\\Signal Hound\\\\Spike\\\\sa_api.dll\"\n",
    "sgh=Signalhound()\n",
    "#open the device\n",
    "sgh.performOpen(dll_path)\n"
   ]
  },
  {
   "cell_type": "code",
   "execution_count": 25,
   "id": "f313a74a-f027-42f4-9b4e-117434d94a08",
   "metadata": {},
   "outputs": [],
   "source": [
    "center_freq=4.3e9+1e3\n",
    "span=5e3\n",
    "ref_level=-20\n",
    "\n",
    "decimation=1\n",
    "bandwidth=250e3\n",
    "\n",
    "sgh.setSweepParameters(center_freq,span)\n",
    "sgh.setRefLevel(ref_level)\n",
    "sgh.setGainAtten()\n",
    "sgh.setIQ(decimation,bandwidth)\n",
    "sgh.setProcUnit(\"mV\")\n",
    "sgh.setSweepMode(\"IQ\")"
   ]
  },
  {
   "cell_type": "code",
   "execution_count": 26,
   "id": "836ac343-276b-4e88-b3d1-f8da2965174f",
   "metadata": {},
   "outputs": [],
   "source": [
    "sgh.IQ_second(5)"
   ]
  },
  {
   "cell_type": "code",
   "execution_count": 27,
   "id": "b417ee9d-d69f-4023-bbec-b89136ca744e",
   "metadata": {},
   "outputs": [
    {
     "data": {
      "text/plain": [
       "[<matplotlib.lines.Line2D at 0x1cb0d42cdc8>]"
      ]
     },
     "execution_count": 27,
     "metadata": {},
     "output_type": "execute_result"
    }
   ],
   "source": [
    "%matplotlib qt\n",
    "b=sgh.iqData[0:-1].reshape(int(len(sgh.iqData[0:-1])/2),2)\n",
    "\n",
    "\n",
    "plt.plot(b[:,1]*1000)\n",
    "plt.plot(b[:,0]*1000)\n",
    "plt.plot(np.sqrt(b[:,0]**2+b[:,1]**2)*1000)"
   ]
  },
  {
   "cell_type": "code",
   "execution_count": 12,
   "id": "1d8b7a22-7c91-46f4-b475-353372aaff83",
   "metadata": {},
   "outputs": [
    {
     "ename": "AttributeError",
     "evalue": "'Signalhound' object has no attribute 'iqArr'",
     "output_type": "error",
     "traceback": [
      "\u001b[1;31m---------------------------------------------------------------------------\u001b[0m",
      "\u001b[1;31mAttributeError\u001b[0m                            Traceback (most recent call last)",
      "\u001b[1;32m~\\AppData\\Local\\Temp\\ipykernel_8080\\4033172799.py\u001b[0m in \u001b[0;36m<module>\u001b[1;34m\u001b[0m\n\u001b[0;32m      1\u001b[0m \u001b[0mget_ipython\u001b[0m\u001b[1;33m(\u001b[0m\u001b[1;33m)\u001b[0m\u001b[1;33m.\u001b[0m\u001b[0mrun_line_magic\u001b[0m\u001b[1;33m(\u001b[0m\u001b[1;34m'matplotlib'\u001b[0m\u001b[1;33m,\u001b[0m \u001b[1;34m'qt'\u001b[0m\u001b[1;33m)\u001b[0m\u001b[1;33m\u001b[0m\u001b[1;33m\u001b[0m\u001b[0m\n\u001b[1;32m----> 2\u001b[1;33m \u001b[0mb\u001b[0m\u001b[1;33m=\u001b[0m\u001b[0msgh\u001b[0m\u001b[1;33m.\u001b[0m\u001b[0miqArr\u001b[0m\u001b[1;33m[\u001b[0m\u001b[1;36m0\u001b[0m\u001b[1;33m:\u001b[0m\u001b[1;33m-\u001b[0m\u001b[1;36m1\u001b[0m\u001b[1;33m]\u001b[0m\u001b[1;33m.\u001b[0m\u001b[0mreshape\u001b[0m\u001b[1;33m(\u001b[0m\u001b[0mint\u001b[0m\u001b[1;33m(\u001b[0m\u001b[0mlen\u001b[0m\u001b[1;33m(\u001b[0m\u001b[0msgh\u001b[0m\u001b[1;33m.\u001b[0m\u001b[0miqArr\u001b[0m\u001b[1;33m[\u001b[0m\u001b[1;36m0\u001b[0m\u001b[1;33m:\u001b[0m\u001b[1;33m-\u001b[0m\u001b[1;36m1\u001b[0m\u001b[1;33m]\u001b[0m\u001b[1;33m)\u001b[0m\u001b[1;33m/\u001b[0m\u001b[1;36m2\u001b[0m\u001b[1;33m)\u001b[0m\u001b[1;33m,\u001b[0m\u001b[1;36m2\u001b[0m\u001b[1;33m)\u001b[0m\u001b[1;33m\u001b[0m\u001b[1;33m\u001b[0m\u001b[0m\n\u001b[0m\u001b[0;32m      3\u001b[0m \u001b[1;33m\u001b[0m\u001b[0m\n\u001b[0;32m      4\u001b[0m \u001b[1;33m\u001b[0m\u001b[0m\n\u001b[0;32m      5\u001b[0m \u001b[0mplt\u001b[0m\u001b[1;33m.\u001b[0m\u001b[0mplot\u001b[0m\u001b[1;33m(\u001b[0m\u001b[0mb\u001b[0m\u001b[1;33m[\u001b[0m\u001b[1;33m:\u001b[0m\u001b[1;33m,\u001b[0m\u001b[1;36m1\u001b[0m\u001b[1;33m]\u001b[0m\u001b[1;33m*\u001b[0m\u001b[1;36m1000\u001b[0m\u001b[1;33m)\u001b[0m\u001b[1;33m\u001b[0m\u001b[1;33m\u001b[0m\u001b[0m\n",
      "\u001b[1;31mAttributeError\u001b[0m: 'Signalhound' object has no attribute 'iqArr'"
     ]
    }
   ],
   "source": [
    "%matplotlib qt\n",
    "b=sgh.iqArr[0:-1].reshape(int(len(sgh.iqArr[0:-1])/2),2)\n",
    "\n",
    "\n",
    "plt.plot(b[:,1]*1000)\n",
    "plt.plot(b[:,0]*1000)\n",
    "plt.plot(np.sqrt(b[:,0]**2+b[:,1]**2)*1000)"
   ]
  },
  {
   "cell_type": "code",
   "execution_count": 14,
   "id": "db66acd5-2adf-49a0-99ae-c9be1df9d38c",
   "metadata": {},
   "outputs": [
    {
     "name": "stdout",
     "output_type": "stream",
     "text": [
      "16.03800244629383\n"
     ]
    }
   ],
   "source": [
    "print(np.mean(np.sqrt(b[:,0]**2+b[:,1]**2))*1000)"
   ]
  },
  {
   "cell_type": "code",
   "execution_count": null,
   "id": "23ae5b68-fa75-4dac-8ca4-3400a047e649",
   "metadata": {},
   "outputs": [],
   "source": [
    "1/500"
   ]
  },
  {
   "cell_type": "code",
   "execution_count": 14,
   "id": "86ead23c-eb41-4352-92b8-2b1186d1f30f",
   "metadata": {},
   "outputs": [
    {
     "data": {
      "text/plain": [
       "18.38"
      ]
     },
     "execution_count": 14,
     "metadata": {},
     "output_type": "execute_result"
    }
   ],
   "source": [
    "9.191361255943775"
   ]
  },
  {
   "cell_type": "code",
   "execution_count": 85,
   "id": "a23e1311-1305-42a6-85e4-db93b34e9405",
   "metadata": {},
   "outputs": [
    {
     "name": "stderr",
     "output_type": "stream",
     "text": [
      "C:\\Users\\HQClabo\\Anaconda3\\envs\\Labber\\lib\\site-packages\\ipykernel_launcher.py:1: DeprecationWarning: `np.float` is a deprecated alias for the builtin `float`. To silence this warning, use `float` by itself. Doing this will not modify any behavior and is safe. If you specifically wanted the numpy scalar type, use `np.float64` here.\n",
      "Deprecated in NumPy 1.20; for more details and guidance: https://numpy.org/devdocs/release/1.20.0-notes.html#deprecations\n",
      "  \"\"\"Entry point for launching an IPython kernel.\n"
     ]
    },
    {
     "data": {
      "text/plain": [
       "array([5., 6., 6.])"
      ]
     },
     "execution_count": 85,
     "metadata": {},
     "output_type": "execute_result"
    }
   ],
   "source": [
    "np.fromiter([5,6,6,5], dtype=np.float,count=3)"
   ]
  },
  {
   "attachments": {
    "d30e9225-7d6f-49f6-8c7c-b139c593e357.png": {
     "image/png": "[encoded data removed]"
    }
   },
   "cell_type": "markdown",
   "id": "b6b5aa8f-ae82-4ef0-9623-3cadc028c9e2",
   "metadata": {},
   "source": [
    "## conversion \n",
    "\n",
    "Assuming identical loads (50 ohm), the ratio of the voltage is converted to db by \n",
    "\n",
    "$$20 \\log \\left ( \\frac{V_1}{V_2} \\right ) [dB] $$ \n",
    "In terms of power, this corresponds to \n",
    "\n",
    "$$10 \\log \\left ( \\frac{P_1}{P_2} \\right ) [dB] $$ \n",
    "\n",
    "Absolute power cna also be expressed in dBm as :\n",
    "\n",
    "$$10 \\log \\left ( \\frac{P_1 [mW]}{1 mW} \\right ) [dBm] $$ \n",
    "\n",
    "A power of 1 mW is equivalent to 0 dBm while a power of 1 W is equivalent to 30 dBm.\n",
    "\n",
    "\n",
    "For voltage, we can work in voltage peak-to peak \n",
    "$$V_{pp}=V_{p} \\cdot 2$$ \n",
    "\n",
    "$$V_{pp}=V_{rms} \\cdot 2\\sqrt{2}$$\n",
    "\n",
    "![image.png](attachment:d30e9225-7d6f-49f6-8c7c-b139c593e357.png)\n",
    "\n",
    "The idea behind v_rms is that a signal with a v_rms will dissipate an average power equivalent to a dc voltage when applied accross a resistance R\n",
    "\n",
    "$$P=\\frac{V_{rms}^{2}}{R} [W]$$\n",
    "\n",
    "Therefore, with this in mind, we can simply substitute the voltage rms for the the power to get it in dbm\n",
    "$$ 10 \\log \\left ( \\frac{V_{RMS}^{2}}{R \\cdot 1 mW} \\right ) [dbm]$$ \n",
    "\n",
    "Finally, one can also use dbV units \n",
    "$$20 \\log \\left ( \\frac{V_{rms} [V]}{1 V} \\right ) [dBV] $$ "
   ]
  },
  {
   "cell_type": "code",
   "execution_count": null,
   "id": "e806756a-6616-45d7-8e00-4eb026e87499",
   "metadata": {},
   "outputs": [],
   "source": []
  }
 ],
 "metadata": {
  "kernelspec": {
   "display_name": "Python 3 (ipykernel)",
   "language": "python",
   "name": "python3"
  },
  "language_info": {
   "codemirror_mode": {
    "name": "ipython",
    "version": 3
   },
   "file_extension": ".py",
   "mimetype": "text/x-python",
   "name": "python",
   "nbconvert_exporter": "python",
   "pygments_lexer": "ipython3",
   "version": "3.7.13"
  }
 },
 "nbformat": 4,
 "nbformat_minor": 5
}
