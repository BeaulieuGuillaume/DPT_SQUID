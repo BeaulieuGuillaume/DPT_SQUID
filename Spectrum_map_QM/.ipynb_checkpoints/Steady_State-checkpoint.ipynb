{
 "cells": [
  {
   "cell_type": "markdown",
   "id": "21e4063e-d7ea-4001-bf50-5057a8d1d9f7",
   "metadata": {},
   "source": [
    "# Import package "
   ]
  },
  {
   "cell_type": "code",
   "execution_count": 1,
   "id": "b860989c-4692-4c36-adbc-7caf1b7588b5",
   "metadata": {},
   "outputs": [],
   "source": [
    "from qm.QuantumMachinesManager import QuantumMachinesManager\n",
    "from qm.octave import *\n",
    "from qm.qua import *\n",
    "from qm import generate_qua_script\n",
    "\n",
    "#General os library \n",
    "import os\n",
    "import time\n",
    "import sys\n",
    "\n",
    "\n",
    "import matplotlib.pyplot as plt\n",
    "from qualang_tools.units import unit\n",
    "from set_octave import get_L0_and_IF\n",
    "from configuration_steady_state import *\n",
    "from qm import SimulationConfig, LoopbackInterface\n",
    "from qualang_tools.units import unit\n",
    "from qualang_tools.loops import from_array\n",
    "u = unit()\n",
    "from qualang_tools.plot import interrupt_on_close\n",
    "from qualang_tools.results import progress_counter, fetching_tool\n",
    "from qualang_tools.addons.variables import assign_variables_to_element\n",
    "\n",
    "#Path for HQCPC7 \n",
    "sys.path.append(r'C:\\Users\\HQClabo\\Documents\\Code\\QuantumMachine\\Guillaume\\NonLinearRes_calib_30_03_2023\\Analysis_Function\\NonLinearRes')\n",
    "sys.path.append(r'C:\\Users\\HQClabo\\Documents\\Code\\QuantumMachine\\Guillaume\\NonLinearRes_calib_30_03_2023\\Drivers\\Drivers') #path for the analysis function\n",
    "\n",
    "#Path for HQC PC15 \n",
    "# sys.path.append(r'C:\\Users\\hqclabo\\Documents\\Code\\gbeaulieu\\Analysis_Function\\NonLinearRes')\n",
    "# sys.path.append(r'C:\\Users\\hqclabo\\Documents\\Code\\gbeaulieu\\Drivers')\n",
    "import AnFunc as an # analysis function\n",
    "#import AnFunc as an \n",
    "import scipy.io\n",
    "from scipy import signal \n",
    "from scipy.optimize import curve_fit"
   ]
  },
  {
   "cell_type": "code",
   "execution_count": 2,
   "id": "e20e6b49-2fcf-4d15-a946-f2502bd143ee",
   "metadata": {},
   "outputs": [],
   "source": [
    "def update_readout_lenght(Readout_Len,config,qmm):\n",
    "    \"\"\" Macro to update the readout length in the configuration file\"\"\"\n",
    "    \n",
    "    config[\"pulses\"][\"zero_pulse\"][\"length\"]=Readout_Len\n",
    "    config[\"integration_weights\"][\"cosine_weights\"][\"cosine\"][0]=(1.0, Readout_Len)\n",
    "    config[\"integration_weights\"][\"cosine_weights\"][\"sine\"][0]=(0.0, Readout_Len)\n",
    "    config[\"integration_weights\"][\"sine_weights\"][\"cosine\"][0]=(0.0, Readout_Len)\n",
    "    config[\"integration_weights\"][\"sine_weights\"][\"sine\"][0]=(1.0, Readout_Len)\n",
    "    config[\"integration_weights\"][\"minus_sine_weights\"][\"cosine\"][0]=(0.0, Readout_Len)\n",
    "    config[\"integration_weights\"][\"minus_sine_weights\"][\"sine\"][0]=(-1.0, Readout_Len)\n",
    "\n",
    "\n",
    "    #Update the config with the modified values above \n",
    "    qm = qmm.open_qm(config)\n",
    "    \n",
    "    return config, qm\n",
    "\n",
    "\n",
    "def update_pulse_amplitude(pulse_amp,config,qmm):\n",
    "    config[\"waveforms\"][\"twoPhoton_wf\"]['sample']=pulse_amp\n",
    "    \n",
    "    #Update the config with the modified values above \n",
    "    qm = qmm.open_qm(config)\n",
    "    \n",
    "    return config, qm\n",
    "\n",
    "def update_two_photon_lenght(twoPhoton_len,config,qmm):\n",
    "    \"\"\" Update the length of the fluxline pulse in the configuration file\"\"\"\n",
    "    config[\"pulses\"][\"twoPhoton\"][\"length\"]=twoPhoton_len\n",
    "\n",
    "\n",
    "    #Update the config with the modified values above \n",
    "    qm = qmm.open_qm(config)\n",
    "    \n",
    "    return config, qm\n",
    "\n",
    "def update_time_of_flight(time_of_flight,config,qmm):\n",
    "    \"\"\" Update the time_of_flight of the qm in the configuration file \"\"\"\n",
    "    config[\"elements\"][\"resonator\"][\"time_of_flight\"]=time_of_flight\n",
    "    \n",
    "    qm=qmm.open_qm(config)\n",
    "    \n",
    "    return config, qm\n",
    "\n",
    "def voltage_convertion(attenuation,v_in):\n",
    "    v_out=10**(attenuation/20)*v_in\n",
    "    \n",
    "    return v_out\n",
    "\n",
    "def update_offset(offset_1, offset_2,config,qmm):\n",
    "    \"\"\" Update the input offsets of the qm in the configuration file \"\"\"\n",
    "    \n",
    "    config['controllers'][\"con1\"][\"analog_inputs\"][1]['offset']=offset_1\n",
    "    config['controllers'][\"con1\"][\"analog_inputs\"][2]['offset']=offset_2\n",
    "    \n",
    "    return config,qm \n"
   ]
  },
  {
   "cell_type": "markdown",
   "id": "fa96ea61-d084-4593-9945-07bea215bc2c",
   "metadata": {},
   "source": [
    "# OPX configuration"
   ]
  },
  {
   "cell_type": "code",
   "execution_count": 3,
   "id": "2e205a29-6016-4305-94af-74292b4684e7",
   "metadata": {},
   "outputs": [
    {
     "name": "stdout",
     "output_type": "stream",
     "text": [
      "2023-05-23 17:23:10,100 - qm - INFO - Performing health check\n",
      "2023-05-23 17:23:10,114 - qm - WARNING -   HC Warning: Potential hardware issue with QSync in controller con1, multiple controllers sync cannot be guaranteed, please inform QM\n",
      "2023-05-23 17:23:10,115 - qm - INFO - Health check passed\n"
     ]
    }
   ],
   "source": [
    "#Octave & OPX configuration \n",
    "Saving_Path=r\"\\\\sb1files\\HQC\\Users\\beaulieu\\Data\\Run01\\131\\\\\"\n",
    "Cooldown_Date=\"2023_05_05\"\n",
    "\n",
    "\n",
    "opx_ip = '128.178.175.167'\n",
    "opx_port = 81\n",
    "octave_ip = '128.178.175.167'\n",
    "octave_port = 53\n",
    "\n",
    "\n",
    "octave_config = QmOctaveConfig()\n",
    "octave_config.set_calibration_db(os.getcwd()) #Path to the calibration database \n",
    "\n",
    "octave_config.add_device_info('octave1', octave_ip, octave_port) #Add a device refered to as octave 1\n",
    "octave_config.set_opx_octave_mapping([('con1', 'octave1')])  # set default mapping between analog outputs of OPX and the octave\n",
    "\n",
    "\n",
    "qmm = QuantumMachinesManager(host=opx_ip, port=opx_port, octave=octave_config)\n",
    "qm = qmm.open_qm(config)\n",
    "\n",
    "\n",
    "#Mixers for the fluxline \n",
    "octave_output_gain=-10\n",
    "\n",
    "qmm.octave_manager.set_clock(\"octave1\", ClockType.External, ClockFrequency.MHZ_10) # External clock on the octave \n",
    "qm.octave.set_lo_source(\"fluxline\", OctaveLOSource.Internal) # Use internal LO for the fluxline \n",
    "qm.octave.set_lo_frequency(\"fluxline\", LO_fluxline)  # Set the frequency of the LO \n",
    "qm.octave.set_rf_output_gain(\"fluxline\", octave_output_gain)  # can set gain from -10dB to 20dB\n",
    "qm.octave.set_rf_output_mode(\"fluxline\", RFOutputMode.on)  # The LO output is always on (could change to a trigger)  #RFOutputMode.trig_normal\n",
    "\n",
    "#Mixers for the resonator \n",
    "qm.octave.set_qua_element_octave_rf_in_port(\"resonator\", \"octave1\", 1) #input port 1 is set for the resonator \n",
    "qm.octave.set_downconversion(\"resonator\", lo_source=RFInputLOSource.Internal)  # The LO for the demodulation is the interal LO  \n",
    "qm.octave.set_lo_frequency(\"resonator\", LO_readout)  # assign the LO inside the octave to element"
   ]
  },
  {
   "cell_type": "code",
   "execution_count": 4,
   "id": "755d2fae-09c1-4549-a852-5c63bb22d43c",
   "metadata": {},
   "outputs": [],
   "source": [
    "#Setting the gain\n",
    "gain=0\n",
    "config['controllers']['con1']['analog_inputs'][1][\"gain_db\"]=gain\n",
    "config['controllers']['con1']['analog_inputs'][2][\"gain_db\"]=gain\n",
    "qm = qmm.open_qm(config)\n",
    "\n",
    "time_of_flight=24\n",
    "\n",
    "config, qm=update_time_of_flight(time_of_flight,config,qmm)\n",
    "\n",
    "pulse_amp=0.125\n",
    "config,qm=update_pulse_amplitude(pulse_amp,config,qmm)\n",
    "\n",
    "offset_1=0.0180632734375\n",
    "offset_2=0.015605841992187498\n",
    "config,qm=update_offset(offset_1, offset_2,config,qmm)\n",
    "\n"
   ]
  },
  {
   "cell_type": "markdown",
   "id": "f2760dfa-ade7-4d45-bf8f-6bc7dc67c95d",
   "metadata": {},
   "source": [
    "# Display parameters"
   ]
  },
  {
   "cell_type": "code",
   "execution_count": 5,
   "id": "040ee9ca-5c13-4516-aacf-130d05b57b0b",
   "metadata": {},
   "outputs": [
    {
     "name": "stdout",
     "output_type": "stream",
     "text": [
      "LO of resonator : 4.3 GHz\n",
      "IF of resonator : 0.318 GHz\n",
      "Time of flight of resonator : 24 ns\n",
      "Readout time resonator : 2000 ns\n",
      "LO of fluxline: 8.6 GHz\n",
      "IF of fluxline : 0.0995 GHz\n",
      "Fluxline pulse time : 1000 ns\n",
      "Fluxline amplitude : 0.125 V\n"
     ]
    }
   ],
   "source": [
    "print(\"LO of resonator : {} GHz\".format(config['elements']['resonator'][\"mixInputs\"][\"lo_frequency\"]/1e9))\n",
    "print(\"IF of resonator : {} GHz\".format(config['elements']['resonator']['intermediate_frequency']/1e9))\n",
    "print(\"Time of flight of resonator : {} ns\".format(config['elements']['resonator']['time_of_flight']))\n",
    "print(\"Readout time resonator : {} ns\".format(config[\"pulses\"][\"zero_pulse\"][\"length\"]))\n",
    "print(\"LO of fluxline: {} GHz\".format(config['elements']['fluxline'][\"mixInputs\"][\"lo_frequency\"]/1e9))\n",
    "print(\"IF of fluxline : {} GHz\".format(config['elements']['fluxline']['intermediate_frequency']/1e9))\n",
    "print(\"Fluxline pulse time : {} ns\".format(config[\"pulses\"][\"twoPhoton\"][\"length\"]))\n",
    "print(\"Fluxline amplitude : {} V\".format(config[\"waveforms\"][\"twoPhoton_wf\"]['sample']))"
   ]
  },
  {
   "cell_type": "markdown",
   "id": "a73d8f6e-4794-4901-90de-b0531dc80a3d",
   "metadata": {},
   "source": [
    "# Testing the pump "
   ]
  },
  {
   "cell_type": "code",
   "execution_count": 6,
   "id": "0d1839b6-5f2d-4dea-b074-4bc58c38b46d",
   "metadata": {},
   "outputs": [
    {
     "name": "stdout",
     "output_type": "stream",
     "text": [
      "2023-05-23 17:23:14,383 - qm - INFO - Flags: \n",
      "2023-05-23 17:23:14,383 - qm - INFO - Compiling program\n",
      "2023-05-23 17:23:16,970 - qm - INFO - Sending pre-compiled program to QOP\n",
      "2023-05-23 17:23:20,722 - qm - INFO - Flags: \n",
      "2023-05-23 17:23:20,722 - qm - INFO - Compiling program\n",
      "2023-05-23 17:23:23,506 - qm - INFO - Sending pre-compiled program to QOP\n"
     ]
    }
   ],
   "source": [
    "#Mixer Calibration \n",
    "#Calibration of the fluxline mixer for the pump \n",
    "qm.octave.calibrate_element(\"fluxline\", [get_L0_and_IF(config, \"fluxline\")])  \n",
    "qm = qmm.open_qm(config)\n",
    "\n",
    "qm.octave.calibrate_element(\"resonator\", [get_L0_and_IF(config, \"resonator\")])  \n",
    "qm = qmm.open_qm(config)"
   ]
  },
  {
   "cell_type": "code",
   "execution_count": null,
   "id": "832d8255-3229-48b5-88a2-ec4105530e24",
   "metadata": {},
   "outputs": [],
   "source": [
    "# Testing the pump \n",
    "with program() as TwoPhoton:\n",
    "    with infinite_loop_():\n",
    "        play(\"pumping\"*amp(0.1), 'fluxline')\n",
    "        \n",
    "job = qm.execute(TwoPhoton)"
   ]
  },
  {
   "cell_type": "code",
   "execution_count": 32,
   "id": "e53acdfa-3483-4b55-a53c-87b3efa16abf",
   "metadata": {},
   "outputs": [
    {
     "data": {
      "text/plain": [
       "True"
      ]
     },
     "execution_count": 32,
     "metadata": {},
     "output_type": "execute_result"
    }
   ],
   "source": [
    "#Two stop the two photon pumping \n",
    "job.halt()"
   ]
  },
  {
   "attachments": {
    "15e71094-8f86-4961-b876-84a754080d10.png": {
     "image/png": "[encoded data removed]"
    }
   },
   "cell_type": "markdown",
   "id": "ae56bf26-5a30-4a48-bd2c-bba3b3edb3dd",
   "metadata": {},
   "source": [
    "# Steady state \n",
    "\n",
    "![image.png](attachment:15e71094-8f86-4961-b876-84a754080d10.png)\n",
    "\n",
    "Here, to get the steady state, we apply the pump at a given frequency and wait (pulse_delay_ss) time before making the readout with the readout len. Therefore, the resonator waiting must be larger than the Readout lengt. Since the pulse is looped, multiple times, we can keep it to a length of 1_000. After the readout has been down, the pulse is stopped for a time cooling_down."
   ]
  },
  {
   "cell_type": "markdown",
   "id": "da59ac60-4939-4989-be99-6956841cbc22",
   "metadata": {},
   "source": [
    "## Steady state single "
   ]
  },
  {
   "cell_type": "code",
   "execution_count": 13,
   "id": "b17c5a71-be8a-4fed-9ef8-6aff40520f17",
   "metadata": {},
   "outputs": [
    {
     "name": "stdout",
     "output_type": "stream",
     "text": [
      "Time per iteration : 0.1 s\n",
      "Total time : 1.6666666666666667 min\n"
     ]
    }
   ],
   "source": [
    "\n",
    "Readout_Len=50_000\n",
    "config,qm=update_readout_lenght(Readout_Len,config,qmm)\n",
    "\n",
    "#Two photon length should not be changed \n",
    "twoPhoton_len=1_000\n",
    "config,qm=update_two_photon_lenght(twoPhoton_len,config,qmm)\n",
    "\n",
    "\n",
    "\n",
    "amp_factor=0.95\n",
    "\n",
    "\n",
    "n_repetition=1000\n",
    "\n",
    "IF_pump=99.9e6  #where we go  \n",
    "IF_left=98.9e6   # whre we start\n",
    "pump_step=0.02e6\n",
    "\n",
    "\n",
    "number_frequency=int(np.ceil((IF_pump-IF_left)/pump_step))\n",
    "\n",
    "LO_diff=LO_fluxline/2-LO_readout # need to perform this substraction outside of the qua program to avoid having numbers larger than the int allowed \n",
    "\n",
    "pulse_delay_ss= 1_000_000 # to to play the pulse before making a last probe \n",
    "\n",
    "resonator_waiting=(pulse_delay_ss-Readout_Len)//4\n",
    "\n",
    "cooling_down= 1_000_000 //4 #time between succesinve frequencies \n",
    "\n",
    "\n",
    "time_per_iteration=((pulse_delay_ss+cooling_down*4)*number_frequency)*1e-9\n",
    "Total_time=time_per_iteration*n_repetition/60\n",
    "print(\"Time per iteration : {} s\".format(time_per_iteration))\n",
    "print(\"Total time : {} min\".format(Total_time))"
   ]
  },
  {
   "cell_type": "code",
   "execution_count": 14,
   "id": "676d1bc9-20ce-4bb1-aa7d-40bc7940cf8b",
   "metadata": {},
   "outputs": [
    {
     "name": "stdout",
     "output_type": "stream",
     "text": [
      "2023-05-13 23:10:38,317 - qm - INFO - Flags: \n",
      "2023-05-13 23:10:38,317 - qm - INFO - Sending program to QOP\n",
      "2023-05-13 23:10:38,964 - qm - INFO - Executing program\n",
      "Execution stopped by user!\n"
     ]
    }
   ],
   "source": [
    "%matplotlib qt\n",
    "\n",
    "with program() as hello_qua:\n",
    "    \n",
    "    f = declare(int)\n",
    "    f_readout= declare(int)\n",
    "    \n",
    "    n_rep = declare(int)\n",
    "    I = declare(fixed)\n",
    "    Q = declare(fixed)\n",
    "    i = declare(int)\n",
    "    \n",
    "    I_st = declare_stream()\n",
    "    Q_st = declare_stream()\n",
    "    n_rep_st=declare_stream()\n",
    "    f_st = declare_stream() #frequency at which I am measuring \n",
    "    \n",
    "    assign_variables_to_element(\"resonator\", I,Q) \n",
    "    \n",
    "\n",
    "    with for_(n_rep, 0, n_rep < n_repetition, n_rep + 1): \n",
    "        \n",
    "\n",
    "        with for_(f, IF_left, f<IF_pump, f+pump_step):\n",
    "\n",
    "            assign(f_readout,LO_diff+f/2) # update the readout frequency \n",
    "            update_frequency(\"resonator\",f_readout) # Change the IF frequency of the resonator to demodulate more precisely \n",
    "\n",
    "            update_frequency('fluxline', f, keep_phase=True)\n",
    "\n",
    "\n",
    "            with for_(i, 0, i <pulse_delay_ss/twoPhoton_len+1, i + 1): # the 300 is added because there is a time delay associated to saving the data in the steam. The *4 is necessary because the waiting time is in clockcycle\n",
    "                play(\"pumping\" * amp(amp_factor), 'fluxline')  # Play the pulse on the fluxline\n",
    "\n",
    "            wait(resonator_waiting,\"resonator\")    \n",
    "\n",
    "            measure(\n",
    "            \"fake_readout\",\n",
    "            \"resonator\",\n",
    "            None,\n",
    "            dual_demod.full(\"cos\", \"out1\", \"sin\", \"out2\", I),\n",
    "            dual_demod.full(\"minus_sin\", \"out1\", \"cos\", \"out2\", Q),\n",
    "            )\n",
    "\n",
    "            wait(cooling_down)\n",
    "\n",
    "\n",
    "\n",
    "            assign(I,Math.abs(I))\n",
    "            assign(Q,Math.abs(Q))\n",
    "\n",
    "            save(I, I_st)\n",
    "            save(Q, Q_st)  \n",
    "            save(f, f_st)\n",
    "\n",
    "\n",
    "        save(n_rep, n_rep_st)   \n",
    "\n",
    "    with stream_processing():\n",
    "        I_st.buffer(number_frequency).average().save(\"I\")\n",
    "        Q_st.buffer(number_frequency).average().save(\"Q\")\n",
    "        f_st.buffer(number_frequency).save(\"f\")\n",
    "        n_rep_st.save(\"n_rep\")\n",
    "    \n",
    "    \n",
    "\n",
    "simulation = False  \n",
    "\n",
    "if simulation:\n",
    "    simulation_config = SimulationConfig(\n",
    "        duration=50000, simulation_interface=LoopbackInterface([(\"con1\", 3, \"con1\", 1)])\n",
    "    )\n",
    "\n",
    "    job = qmm.simulate(config, hello_qua, simulation_config)\n",
    "    job.get_simulated_samples().con1.plot(analog_ports={'1','2','3','4' },digital_ports={\"1\",\"3\"})\n",
    "    \n",
    "    # Get the frequency map \n",
    "    sample=job.get_simulated_samples()\n",
    "    x=sample.con1.analog[\"4\"] # get analog 4\n",
    "    NFFT = 2**10\n",
    "    Fs = 1e9\n",
    "    fig = plt.figure()\n",
    "    ax1 = plt.subplot(111)\n",
    "    Pxx, freqs, bins, im = plt.specgram(x, NFFT=NFFT, Fs=Fs, noverlap=100, cmap=plt.cm.gist_heat)\n",
    "    plt.show()\n",
    "    ax1.set_xticklabels((ax1.get_xticks() * 1e6).astype(int))\n",
    "    #ax1.set_yticklabels((ax1.get_yticks() / 1e6).astype(int))\n",
    "    plt.xlabel(\"t [us]\")\n",
    "    plt.ylabel(\"f [MHz]\")\n",
    "\n",
    "    \n",
    "else:\n",
    "    job = qm.execute(hello_qua)\n",
    "    results = fetching_tool(job, data_list=[\"I\",\"Q\",\"f\",\"n_rep\"], mode=\"live\")\n",
    "\n",
    "    fig = plt.figure()\n",
    "    interrupt_on_close(fig, job)  #  Interrupts the job when closing the figure\n",
    "\n",
    "    while results.is_processing():\n",
    "        \n",
    "        I,Q,f, n_rep = results.fetch_all()\n",
    "\n",
    "        Id = u.demod2volts(I, Readout_Len) ## that is why i want to demodulate .... diviser par la duree du pulse Readout_lEN \n",
    "        Qd = u.demod2volts(Q, Readout_Len)\n",
    "        \n",
    "        plt.subplot(111)\n",
    "        fig.suptitle(str(n_rep))\n",
    "        plt.cla()\n",
    "        plt.plot(f,np.sqrt(I**2+Q**2),\".\", markersize=2)\n",
    "        plt.xlabel(\"Nb points\")\n",
    "        plt.ylabel(\"phase\")\n",
    "        plt.pause(0.1)"
   ]
  },
  {
   "cell_type": "markdown",
   "id": "3cae0dfe-9ee5-4247-aef7-592430c4c859",
   "metadata": {},
   "source": [
    "## Steady state map"
   ]
  },
  {
   "cell_type": "code",
   "execution_count": 25,
   "id": "874a7179-38c0-4feb-a2cf-d1a1ae792a8a",
   "metadata": {},
   "outputs": [
    {
     "name": "stdout",
     "output_type": "stream",
     "text": [
      "Time per iteration : 0.008 s\n",
      "Total time : 18.0 min\n"
     ]
    }
   ],
   "source": [
    "%matplotlib qt\n",
    "Readout_Len=10_000\n",
    "config,qm=update_readout_lenght(Readout_Len,config,qmm)\n",
    "\n",
    "twoPhoton_len=10_000\n",
    "config,qm=update_two_photon_lenght(twoPhoton_len,config,qmm)\n",
    "\n",
    "\n",
    "# Test sticky\n",
    "\n",
    "a_min=0.3\n",
    "a_max=1.65\n",
    "da=0.01\n",
    "amp_factor=np.arange(a_min,a_max,da)\n",
    "\n",
    "#amp_factor=np.array([0.2,0.25,0.3,0.35,0.4])\n",
    "\n",
    "n_repetition=1000\n",
    "\n",
    "IF_pump=99.9e6  #where we go  \n",
    "IF_left=99.1e6   # whre we start\n",
    "pump_step=0.02e6\n",
    "\n",
    "\n",
    "number_frequency=int(np.ceil((IF_pump-IF_left)/pump_step))\n",
    "\n",
    "LO_diff=LO_fluxline/2-LO_readout # need to perform this substraction outside of the qua program to avoid having numbers larger than the int allowed \n",
    "\n",
    "pulse_delay_ss=  1_000_00 # to to play the pulse before making a last probe \n",
    "\n",
    "resonator_waiting=(pulse_delay_ss-Readout_Len)//4\n",
    "\n",
    "cooling_down= 1_000_00 //4 #time between succesinve frequencies \n",
    "\n",
    "\n",
    "time_per_iteration=((pulse_delay_ss+cooling_down*4)*number_frequency)*1e-9\n",
    "Total_time=time_per_iteration*n_repetition*len(amp_factor)/60\n",
    "print(\"Time per iteration : {} s\".format(time_per_iteration))\n",
    "print(\"Total time : {} min\".format(Total_time))"
   ]
  },
  {
   "cell_type": "code",
   "execution_count": 26,
   "id": "9ed5cd96-6454-4205-9dfb-49c4d7ee3583",
   "metadata": {},
   "outputs": [
    {
     "name": "stdout",
     "output_type": "stream",
     "text": [
      "2023-05-23 17:30:01,976 - qm - INFO - Flags: \n",
      "2023-05-23 17:30:01,977 - qm - INFO - Sending program to QOP\n",
      "2023-05-23 17:30:02,263 - qm - INFO - Executing program\n",
      "Execution stopped by user!\n",
      "Wall time: 19.7 s\n"
     ]
    }
   ],
   "source": [
    "%%time\n",
    "\n",
    "with program() as hello_qua:\n",
    "    \n",
    "    f = declare(int)\n",
    "    f_readout= declare(int)\n",
    "    \n",
    "    n_rep = declare(int)\n",
    "    I = declare(fixed)\n",
    "    Q = declare(fixed)\n",
    "    i = declare(int)\n",
    "    a = declare(fixed)\n",
    "    I_st = declare_stream()\n",
    "    Q_st = declare_stream()\n",
    "    n_rep_st=declare_stream()\n",
    "    f_st = declare_stream() #frequency at which I am measuring \n",
    "    \n",
    "    assign_variables_to_element(\"resonator\", I,Q) \n",
    "    \n",
    "\n",
    "    with for_(n_rep, 0, n_rep < n_repetition, n_rep + 1): \n",
    "        \n",
    "        #loop over amplitude \n",
    "        with for_(*from_array(a, amp_factor)):\n",
    "        \n",
    "            with for_(f, IF_left, f<IF_pump, f+pump_step):\n",
    "\n",
    "                assign(f_readout,LO_diff+f/2) # update the readout frequency \n",
    "                update_frequency(\"resonator\",f_readout) # Change the IF frequency of the resonator to demodulate more precisely \n",
    "\n",
    "                update_frequency('fluxline', f, keep_phase=True)\n",
    "\n",
    "\n",
    "                with for_(i, 0, i <pulse_delay_ss/twoPhoton_len+1, i + 1): # the 300 is added because there is a time delay associated to saving the data in the steam. The *4 is necessary because the waiting time is in clockcycle\n",
    "                    play(\"pumping\" * amp(a), 'fluxline')  # Play the pulse on the fluxline\n",
    "\n",
    "                wait(resonator_waiting,\"resonator\")    \n",
    "\n",
    "                measure(\n",
    "                \"fake_readout\",\n",
    "                \"resonator\",\n",
    "                None,\n",
    "                dual_demod.full(\"cos\", \"out1\", \"sin\", \"out2\", I),\n",
    "                dual_demod.full(\"minus_sin\", \"out1\", \"cos\", \"out2\", Q),\n",
    "                )\n",
    "\n",
    "                wait(cooling_down)\n",
    "\n",
    "\n",
    "\n",
    "                assign(I,Math.abs(I))\n",
    "                assign(Q,Math.abs(Q))\n",
    "\n",
    "                save(I, I_st)\n",
    "                save(Q, Q_st)  \n",
    "                save(f, f_st)\n",
    "\n",
    "\n",
    "            save(n_rep, n_rep_st)   \n",
    "\n",
    "    with stream_processing():\n",
    "        I_st.buffer(number_frequency).buffer(len(amp_factor)).average().save(\"I\")\n",
    "        Q_st.buffer(number_frequency).buffer(len(amp_factor)).average().save(\"Q\")\n",
    "        f_st.buffer(number_frequency).save(\"f\")\n",
    "        n_rep_st.save(\"n_rep\")\n",
    "    \n",
    "    \n",
    "\n",
    "simulation = False  \n",
    "\n",
    "if simulation:\n",
    "    simulation_config = SimulationConfig(\n",
    "        duration=50000, simulation_interface=LoopbackInterface([(\"con1\", 3, \"con1\", 1)])\n",
    "    )\n",
    "\n",
    "    job = qmm.simulate(config, hello_qua, simulation_config)\n",
    "    job.get_simulated_samples().con1.plot(analog_ports={'1','2','3','4' },digital_ports={\"1\",\"3\"})\n",
    "    \n",
    "    # Get the frequency map \n",
    "    sample=job.get_simulated_samples()\n",
    "    x=sample.con1.analog[\"4\"] # get analog 4\n",
    "    NFFT = 2**10\n",
    "    Fs = 1e9\n",
    "    fig = plt.figure()\n",
    "    ax1 = plt.subplot(111)\n",
    "    Pxx, freqs, bins, im = plt.specgram(x, NFFT=NFFT, Fs=Fs, noverlap=100, cmap=plt.cm.gist_heat)\n",
    "    plt.show()\n",
    "    ax1.set_xticklabels((ax1.get_xticks() * 1e6).astype(int))\n",
    "    #ax1.set_yticklabels((ax1.get_yticks() / 1e6).astype(int))\n",
    "    plt.xlabel(\"t [us]\")\n",
    "    plt.ylabel(\"f [MHz]\")\n",
    "\n",
    "    \n",
    "else:\n",
    "    job = qm.execute(hello_qua)\n",
    "    results = fetching_tool(job, data_list=[\"I\",\"Q\",\"f\",\"n_rep\"], mode=\"live\")\n",
    "\n",
    "    fig = plt.figure()\n",
    "    interrupt_on_close(fig, job)  #  Interrupts the job when closing the figure\n",
    "\n",
    "    while results.is_processing():\n",
    "        \n",
    "        I,Q,f, n_rep = results.fetch_all()\n",
    "\n",
    "        I = u.demod2volts(I, Readout_Len) ## that is why i want to demodulate .... diviser par la duree du pulse Readout_lEN \n",
    "        Q = u.demod2volts(Q, Readout_Len)\n",
    "        \n",
    "        norm=np.sqrt(I**2+Q**2)\n",
    "        \n",
    "        plt.subplot(111)\n",
    "        fig.suptitle(str(n_rep))\n",
    "        plt.cla()\n",
    "        plt.pcolor(f / u.MHz, amp_factor, np.sqrt(I**2+Q**2)*1e3)\n",
    "        plt.xlabel(\"Nb points\")\n",
    "        plt.ylabel(\"phase\")\n",
    "        plt.pause(0.1)"
   ]
  },
  {
   "cell_type": "code",
   "execution_count": 9,
   "id": "937f38f3-e612-48ea-bf90-99934675f52b",
   "metadata": {},
   "outputs": [
    {
     "data": {
      "text/plain": [
       "<matplotlib.colorbar.Colorbar at 0x2895b331888>"
      ]
     },
     "execution_count": 9,
     "metadata": {},
     "output_type": "execute_result"
    }
   ],
   "source": [
    "%matplotlib qt\n",
    "plt.clf()\n",
    "fig, ax = plt.subplots(1, 1)\n",
    "\n",
    "ax.set_title(\"Steady state\")\n",
    "c=ax.pcolor(f / u.MHz, amp_factor, np.sqrt(I**2+Q**2)**2*1e3) # What is shown is normalized by dividing by the amplitude \n",
    "ax.set_xlabel(\"Frequency [MHz]\")\n",
    "ax.set_ylabel(\"Amplitude factor\")\n",
    "fig.colorbar(c,ax=ax, label=\"Amplitude [mv]\")"
   ]
  },
  {
   "cell_type": "markdown",
   "id": "1cc21651-cd09-4800-8242-267c1736bb71",
   "metadata": {},
   "source": [
    "### Saving "
   ]
  },
  {
   "cell_type": "code",
   "execution_count": 10,
   "id": "98e2f05e-8a7b-4f9c-8c4b-0fb02becf8a5",
   "metadata": {},
   "outputs": [
    {
     "name": "stdout",
     "output_type": "stream",
     "text": [
      "saving in new directory\n"
     ]
    }
   ],
   "source": [
    "#Saving the data\n",
    "cooldown_date=Cooldown_Date #top folder \n",
    "device=\"Spectrum_QM\" #second folder \n",
    "name=\"Map_steady_state\" # third folder \n",
    "meastype=\"10_05_2023_quickmap\" #Final file name \n",
    "\n",
    "datadict={}\n",
    "#Configuration file copy \n",
    "datadict[\"LO_fluxline\"]=LO_fluxline\n",
    "datadict[\"IF_fluxline\"]=IF_pump\n",
    "datadict[\"LO_readout\"]=LO_readout\n",
    "datadict[\"octave_gain\"]=octave_output_gain\n",
    "\n",
    "#Saving of parameters \n",
    "datadict[\"n_repetition\"]=n_rep\n",
    "datadict[\"amp_factor\"]=amp_factor\n",
    "datadict[\"Readout_Len\"]=Readout_Len\n",
    "datadict[\"IF_pump\"]=IF_pump\n",
    "datadict[\"IF_left\"]=IF_left\n",
    "datadict[\"pump_step\"]=pump_step\n",
    "datadict[\"cooling_down\"]=cooling_down\n",
    "datadict[\"pulse_delay_ss\"]=pulse_delay_ss\n",
    "\n",
    "#Saving of data \n",
    "datadict[\"freqs\"]=f\n",
    "datadict[\"I\"]=I\n",
    "datadict[\"Q\"]=Q\n",
    "datadict[\"config\"]=config\n",
    "\n",
    "an.save_with_numpy(datadict, meastype, name, device, cooldown_date, filepath=Saving_Path)"
   ]
  },
  {
   "cell_type": "code",
   "execution_count": null,
   "id": "3e588b7c-40d9-4b55-90a0-c0e762f9705b",
   "metadata": {},
   "outputs": [],
   "source": [
    "#loading \n",
    "filepath=r\"Z:\\Users\\beaulieu\\Data\\Run01\\104\\2023_04_14\\Spectrum_QM\\Map_upsweep\\upsweep_pip6.npz\"\n",
    "\n",
    "npzfile=np.load(filepath,allow_pickle=True)\n",
    "npzfile[\"multidata\"][()]\n",
    "f=npzfile[\"multidata\"][()][\"freqs\"]\n",
    "I=npzfile[\"multidata\"][()][\"I\"]\n",
    "Q=npzfile[\"multidata\"][()][\"Q\"]\n",
    "amp_factor=npzfile[\"multidata\"][()][\"amp_factor\"]"
   ]
  },
  {
   "cell_type": "markdown",
   "id": "5b60cd37-655d-4626-a4f3-1f7056609f95",
   "metadata": {},
   "source": [
    "## Amplitude cut "
   ]
  },
  {
   "cell_type": "code",
   "execution_count": 18,
   "id": "cdefc14e-691c-4c68-9032-721cae6da840",
   "metadata": {},
   "outputs": [
    {
     "name": "stdout",
     "output_type": "stream",
     "text": [
      "Time per iteration : 3.0 s\n",
      "Total time : 520.0 min\n"
     ]
    }
   ],
   "source": [
    "%matplotlib qt\n",
    "Readout_Len=50_000\n",
    "config,qm=update_readout_lenght(Readout_Len,config,qmm)\n",
    "\n",
    "twoPhoton_len=1_000\n",
    "config,qm=update_two_photon_lenght(twoPhoton_len,config,qmm)\n",
    "\n",
    "\n",
    "# Test sticky\n",
    "\n",
    "\n",
    "\n",
    "#amp_factor=np.array([0.85,0.95,1.05,1.15,1.35,1.55,1.75,1.95])\n",
    "\n",
    "amp_factor=np.array([0.85,0.95,1.05,1.15,1.25,1.35,1.45,1.55])\n",
    "\n",
    "n_repetition=1300\n",
    "\n",
    "IF_pump=99.9e6  #where we go  \n",
    "IF_left=98.9e6   # whre we start\n",
    "pump_step=0.02e6\n",
    "\n",
    "\n",
    "number_frequency=int(np.ceil((IF_pump-IF_left)/pump_step))\n",
    "\n",
    "LO_diff=LO_fluxline/2-LO_readout # need to perform this substraction outside of the qua program to avoid having numbers larger than the int allowed \n",
    "\n",
    "pulse_delay_ss= 30_000_000 # to to play the pulse before making a last probe \n",
    "\n",
    "resonator_waiting=(pulse_delay_ss-Readout_Len)//4\n",
    "\n",
    "cooling_down= 30_000_000 //4 #time between succesinve frequencies \n",
    "\n",
    "\n",
    "#For plotting \n",
    "Gi=0.4\n",
    "center_freq=   4.349764e9*2  \n",
    "offset=0.0001661\n",
    "\n",
    "time_per_iteration=((pulse_delay_ss+cooling_down*4)*number_frequency)*1e-9\n",
    "Total_time=time_per_iteration*n_repetition*len(amp_factor)/60\n",
    "print(\"Time per iteration : {} s\".format(time_per_iteration))\n",
    "print(\"Total time : {} min\".format(Total_time))\n",
    "amp_factor_list=amp_factor.tolist() #convert as a list to use for_each in qm "
   ]
  },
  {
   "cell_type": "code",
   "execution_count": 19,
   "id": "835dfa7e-ecee-47a9-9bed-b5dbc8e6793f",
   "metadata": {},
   "outputs": [
    {
     "name": "stdout",
     "output_type": "stream",
     "text": [
      "2023-05-13 23:15:04,057 - qm - INFO - Flags: \n",
      "2023-05-13 23:15:04,058 - qm - INFO - Sending program to QOP\n",
      "2023-05-13 23:15:04,700 - qm - INFO - Executing program\n",
      "Wall time: 8h 40min 2s\n"
     ]
    }
   ],
   "source": [
    "%%time\n",
    "\n",
    "with program() as hello_qua:\n",
    "    \n",
    "    f = declare(int)\n",
    "    f_readout= declare(int)\n",
    "    \n",
    "    n_rep = declare(int)\n",
    "    I = declare(fixed)\n",
    "    Q = declare(fixed)\n",
    "    i = declare(int)\n",
    "    a = declare(fixed)\n",
    "    I_st = declare_stream()\n",
    "    Q_st = declare_stream()\n",
    "    n_rep_st=declare_stream()\n",
    "    f_st = declare_stream() #frequency at which I am measuring \n",
    "    \n",
    "    assign_variables_to_element(\"resonator\", I,Q) \n",
    "    \n",
    "\n",
    "    with for_(n_rep, 0, n_rep < n_repetition, n_rep + 1): \n",
    "        \n",
    "        #loop over amplitude \n",
    "        with for_each_(a, amp_factor_list):\n",
    "        \n",
    "            with for_(f, IF_left, f<IF_pump, f+pump_step):\n",
    "\n",
    "                assign(f_readout,LO_diff+f/2) # update the readout frequency \n",
    "                update_frequency(\"resonator\",f_readout) # Change the IF frequency of the resonator to demodulate more precisely \n",
    "\n",
    "                update_frequency('fluxline', f, keep_phase=True)\n",
    "\n",
    "\n",
    "                with for_(i, 0, i <pulse_delay_ss/twoPhoton_len+1, i + 1): # the 300 is added because there is a time delay associated to saving the data in the steam. The *4 is necessary because the waiting time is in clockcycle\n",
    "                    play(\"pumping\" * amp(a), 'fluxline')  # Play the pulse on the fluxline\n",
    "\n",
    "                wait(resonator_waiting,\"resonator\")    \n",
    "\n",
    "                measure(\n",
    "                \"fake_readout\",\n",
    "                \"resonator\",\n",
    "                None,\n",
    "                dual_demod.full(\"cos\", \"out1\", \"sin\", \"out2\", I),\n",
    "                dual_demod.full(\"minus_sin\", \"out1\", \"cos\", \"out2\", Q),\n",
    "                )\n",
    "\n",
    "                wait(cooling_down)\n",
    "\n",
    "\n",
    "\n",
    "                assign(I,Math.abs(I))\n",
    "                assign(Q,Math.abs(Q))\n",
    "\n",
    "                save(I, I_st)\n",
    "                save(Q, Q_st)  \n",
    "                save(f, f_st)\n",
    "\n",
    "\n",
    "            save(n_rep, n_rep_st)   \n",
    "\n",
    "    with stream_processing():\n",
    "        I_st.buffer(number_frequency).buffer(len(amp_factor)).average().save(\"I\")\n",
    "        Q_st.buffer(number_frequency).buffer(len(amp_factor)).average().save(\"Q\")\n",
    "        f_st.buffer(number_frequency).save(\"f\")\n",
    "        n_rep_st.save(\"n_rep\")\n",
    "    \n",
    "    \n",
    "\n",
    "simulation = False  \n",
    "\n",
    "if simulation:\n",
    "    simulation_config = SimulationConfig(\n",
    "        duration=50000, simulation_interface=LoopbackInterface([(\"con1\", 3, \"con1\", 1)])\n",
    "    )\n",
    "\n",
    "    job = qmm.simulate(config, hello_qua, simulation_config)\n",
    "    job.get_simulated_samples().con1.plot(analog_ports={'1','2','3','4' },digital_ports={\"1\",\"3\"})\n",
    "    \n",
    "    # Get the frequency map \n",
    "    sample=job.get_simulated_samples()\n",
    "    x=sample.con1.analog[\"4\"] # get analog 4\n",
    "    NFFT = 2**10\n",
    "    Fs = 1e9\n",
    "    fig = plt.figure()\n",
    "    ax1 = plt.subplot(111)\n",
    "    Pxx, freqs, bins, im = plt.specgram(x, NFFT=NFFT, Fs=Fs, noverlap=100, cmap=plt.cm.gist_heat)\n",
    "    plt.show()\n",
    "    ax1.set_xticklabels((ax1.get_xticks() * 1e6).astype(int))\n",
    "    #ax1.set_yticklabels((ax1.get_yticks() / 1e6).astype(int))\n",
    "    plt.xlabel(\"t [us]\")\n",
    "    plt.ylabel(\"f [MHz]\")\n",
    "\n",
    "    \n",
    "else:\n",
    "    job = qm.execute(hello_qua)\n",
    "    results = fetching_tool(job, data_list=[\"I\",\"Q\",\"f\",\"n_rep\"], mode=\"live\")\n",
    "\n",
    "    fig = plt.figure()\n",
    "    interrupt_on_close(fig, job)  #  Interrupts the job when closing the figure\n",
    "\n",
    "    while results.is_processing():\n",
    "        \n",
    "        I,Q,f, n_rep = results.fetch_all()\n",
    "\n",
    "        I = u.demod2volts(I, Readout_Len) ## that is why i want to demodulate .... diviser par la duree du pulse Readout_lEN \n",
    "        Q = u.demod2volts(Q, Readout_Len)\n",
    "        \n",
    "        norm=np.sqrt(I**2+Q**2)\n",
    "        \n",
    "        plt.subplot(211)\n",
    "        plt.cla()\n",
    "        for i in range(norm.shape[0]):\n",
    "            plt.plot(f,norm[i,:]**2,'.-',label=f'amp={amp_factor[i]:1f}', alpha=.9, lw=.5, ms=8)\n",
    "\n",
    "        plt.xlabel(\"Pump freq\")\n",
    "        plt.ylabel(\"Amplitudes\")\n",
    "        plt.legend()\n",
    "        fig.suptitle(str(n_rep))\n",
    "            \n",
    "            \n",
    "        plt.subplot(212)\n",
    "        plt.cla()    \n",
    "        for i in range(norm.shape[0]):\n",
    "            Gx=amp_factor[i]\n",
    "            Pump_freq=f+LO_fluxline\n",
    "            plt.plot((Pump_freq-center_freq)*Gi/Gx,(norm[i,:]-offset)**2*Gi/Gx, '.-',  label=f'Pump={amp_factor[i]:.1f}', alpha=.9, lw=.5, ms=8)\n",
    "            \n",
    "        plt.xlabel('$\\Delta\\cdot$F')\n",
    "        plt.ylabel('$n\\cdot F$')\n",
    "        plt.legend()\n",
    "\n",
    "            \n",
    "        plt.pause(0.1)"
   ]
  },
  {
   "cell_type": "markdown",
   "id": "d5f79d2d-36aa-460a-8286-21e10b7595ec",
   "metadata": {},
   "source": [
    "### Plot amplitude cut "
   ]
  },
  {
   "cell_type": "code",
   "execution_count": 11,
   "id": "d102665a-94cf-4bfb-bcc8-1b0f50f9707f",
   "metadata": {},
   "outputs": [
    {
     "data": {
      "text/plain": [
       "array([98900000, 98920000, 98940000, 98960000, 98980000, 99000000,\n",
       "       99020000, 99040000, 99060000, 99080000, 99100000, 99120000,\n",
       "       99140000, 99160000, 99180000, 99200000, 99220000, 99240000,\n",
       "       99260000, 99280000, 99300000, 99320000, 99340000, 99360000,\n",
       "       99380000, 99400000, 99420000, 99440000, 99460000, 99480000,\n",
       "       99500000, 99520000, 99540000, 99560000, 99580000, 99600000,\n",
       "       99620000, 99640000, 99660000, 99680000, 99700000, 99720000,\n",
       "       99740000, 99760000, 99780000, 99800000, 99820000, 99840000,\n",
       "       99860000, 99880000], dtype=int64)"
      ]
     },
     "execution_count": 11,
     "metadata": {},
     "output_type": "execute_result"
    }
   ],
   "source": [
    "f"
   ]
  },
  {
   "cell_type": "code",
   "execution_count": 40,
   "id": "4610e784-7dd7-4cdc-bcd2-6003260bc668",
   "metadata": {},
   "outputs": [],
   "source": [
    "\n",
    "amp_factor=(amp_factor*0.25*10**(-10/20))**2"
   ]
  },
  {
   "cell_type": "code",
   "execution_count": 2,
   "id": "ac4a561c-3fb6-4151-9b8f-e3c778ab6389",
   "metadata": {},
   "outputs": [
    {
     "ename": "NameError",
     "evalue": "name 'LO_fluxline' is not defined",
     "output_type": "error",
     "traceback": [
      "\u001b[1;31m---------------------------------------------------------------------------\u001b[0m",
      "\u001b[1;31mNameError\u001b[0m                                 Traceback (most recent call last)",
      "\u001b[1;32m~\\AppData\\Local\\Temp\\ipykernel_42644\\258423529.py\u001b[0m in \u001b[0;36m<module>\u001b[1;34m\u001b[0m\n\u001b[1;32m----> 1\u001b[1;33m \u001b[0mLO_fluxline\u001b[0m\u001b[1;33m\u001b[0m\u001b[1;33m\u001b[0m\u001b[0m\n\u001b[0m",
      "\u001b[1;31mNameError\u001b[0m: name 'LO_fluxline' is not defined"
     ]
    }
   ],
   "source": [
    "LO_fluxline"
   ]
  },
  {
   "cell_type": "code",
   "execution_count": 10,
   "id": "4cb2ee7f-3a2b-4c1e-8cde-523221ffb5ae",
   "metadata": {},
   "outputs": [
    {
     "name": "stdout",
     "output_type": "stream",
     "text": [
      "0.85\n",
      "0.95\n",
      "1.05\n",
      "1.15\n",
      "1.25\n",
      "1.35\n",
      "1.45\n",
      "1.55\n"
     ]
    },
    {
     "data": {
      "text/plain": [
       "<matplotlib.legend.Legend at 0x23646f41bc8>"
      ]
     },
     "execution_count": 10,
     "metadata": {},
     "output_type": "execute_result"
    },
    {
     "data": {
      "image/png": "[encoded data removed]",
      "text/plain": [
       "<Figure size 1008x432 with 2 Axes>"
      ]
     },
     "metadata": {
      "needs_background": "light"
     },
     "output_type": "display_data"
    }
   ],
   "source": [
    "%matplotlib inline\n",
    "\n",
    "fig, axs = plt.subplots( ncols=2, figsize=(14,6))\n",
    "ax=axs[0]\n",
    "\n",
    "\n",
    "for i in range(norm.shape[0]):\n",
    "    ax.plot(f,(norm[i,:])**2,'.-',label=f'amp={amp_factor[i]:1f}', alpha=.9, lw=.5, ms=8)\n",
    "  \n",
    "ax.set_xlabel(\"Pump freq\")\n",
    "ax.set_ylabel(\"Amplitudes\")\n",
    "ax.legend()\n",
    "\n",
    "ax=axs[1]\n",
    "Gi=1\n",
    "\n",
    "center_freq=   4.34975e9*2 \n",
    "offset=0.0001661\n",
    "\n",
    "\n",
    "for i in range(norm.shape[0]):\n",
    "    Gx=amp_factor[i]\n",
    "    print(amp_factor[i])\n",
    "    Pump_freq=f+LO_fluxline\n",
    "    ax.plot((Pump_freq-center_freq)*(Gi/Gx),(norm[i,:]-offset)**2*(Gi/Gx), '.-',  label=f'Pump={amp_factor[i]:.1f}', alpha=.9, lw=.5, ms=8)\n",
    "\n",
    "ax.set_title(\"Normalized\")\n",
    "ax.set_xlabel('$\\Delta\\cdot$F')\n",
    "ax.set_ylabel('$n\\cdot F$')\n",
    "ax.set_xlim((-4e5,3e5))\n",
    "ax.legend()\n"
   ]
  },
  {
   "cell_type": "code",
   "execution_count": 39,
   "id": "66031dc0-7e70-4e7d-a3f3-71b3cb60fc5e",
   "metadata": {},
   "outputs": [
    {
     "data": {
      "text/plain": [
       "array([-444444.44444444, -429629.62962963, -414814.81481481,\n",
       "       -400000.        , -385185.18518519, -370370.37037037,\n",
       "       -355555.55555556, -340740.74074074, -325925.92592593,\n",
       "       -311111.11111111, -296296.2962963 , -281481.48148148,\n",
       "       -266666.66666667, -251851.85185185, -237037.03703704,\n",
       "       -222222.22222222, -207407.40740741, -192592.59259259,\n",
       "       -177777.77777778, -162962.96296296, -148148.14814815,\n",
       "       -133333.33333333, -118518.51851852, -103703.7037037 ,\n",
       "        -88888.88888889,  -74074.07407407,  -59259.25925926,\n",
       "        -44444.44444444,  -29629.62962963,  -14814.81481481,\n",
       "             0.        ,   14814.81481481,   29629.62962963,\n",
       "         44444.44444444,   59259.25925926,   74074.07407407,\n",
       "         88888.88888889,  103703.7037037 ,  118518.51851852,\n",
       "        133333.33333333,  148148.14814815,  162962.96296296,\n",
       "        177777.77777778,  192592.59259259,  207407.40740741,\n",
       "        222222.22222222,  237037.03703704,  251851.85185185,\n",
       "        266666.66666667,  281481.48148148])"
      ]
     },
     "execution_count": 39,
     "metadata": {},
     "output_type": "execute_result"
    }
   ],
   "source": [
    "Pump_freq=f+LO_fluxline\n",
    "Gx=1.35\n",
    "(Pump_freq-center_freq)*(Gi/Gx)"
   ]
  },
  {
   "cell_type": "code",
   "execution_count": 20,
   "id": "bddfc1b9-35e5-45ed-8adc-f3dd0c8bfd97",
   "metadata": {},
   "outputs": [
    {
     "name": "stdout",
     "output_type": "stream",
     "text": [
      "saving\n"
     ]
    }
   ],
   "source": [
    "#Saving the data\n",
    "cooldown_date=Cooldown_Date #top folder \n",
    "device=\"Spectrum_QM\" #second folder \n",
    "name=\"cuts_steady_state\" # third folder \n",
    "meastype=\"2023_05_14_multi_amp_map\" #Final file name \n",
    "\n",
    "datadict={}\n",
    "#Configuration file copy \n",
    "datadict[\"LO_fluxline\"]=LO_fluxline\n",
    "datadict[\"IF_fluxline\"]=IF_pump\n",
    "datadict[\"LO_readout\"]=LO_readout\n",
    "datadict[\"octave_gain\"]=octave_output_gain\n",
    "\n",
    "#Saving of parameters \n",
    "datadict[\"n_repetition\"]=n_rep\n",
    "datadict[\"amp_factor\"]=amp_factor\n",
    "datadict[\"Readout_Len\"]=Readout_Len\n",
    "datadict[\"IF_pump\"]=IF_pump\n",
    "datadict[\"IF_left\"]=IF_left\n",
    "datadict[\"pump_step\"]=pump_step\n",
    "datadict[\"cooling_down\"]=cooling_down\n",
    "datadict[\"pulse_delay_ss\"]=pulse_delay_ss\n",
    "\n",
    "#Saving of data \n",
    "datadict[\"freqs\"]=f\n",
    "datadict[\"I\"]=I\n",
    "datadict[\"Q\"]=Q\n",
    "datadict[\"config\"]=config\n",
    "\n",
    "an.save_with_numpy(datadict, meastype, name, device, cooldown_date, filepath=Saving_Path)"
   ]
  },
  {
   "cell_type": "code",
   "execution_count": 9,
   "id": "228c799f-6286-4876-939e-bc8121eded3d",
   "metadata": {},
   "outputs": [],
   "source": [
    "#loading \n",
    "filepath=r\"X:\\Users\\beaulieu\\Data\\Run01\\131\\2023_05_05\\Spectrum_QM\\cuts_steady_state\\2023_05_14_multi_amp_map.npz\"\n",
    "\n",
    "npzfile=np.load(filepath,allow_pickle=True)\n",
    "npzfile[\"multidata\"][()]\n",
    "f=npzfile[\"multidata\"][()][\"freqs\"]\n",
    "I=npzfile[\"multidata\"][()][\"I\"]\n",
    "Q=npzfile[\"multidata\"][()][\"Q\"]\n",
    "norm=np.sqrt(I**2+Q**2)\n",
    "amp_factor=npzfile[\"multidata\"][()][\"amp_factor\"]"
   ]
  },
  {
   "cell_type": "code",
   "execution_count": null,
   "id": "1b0ac0fe-6c36-443e-9785-c4993241e454",
   "metadata": {},
   "outputs": [],
   "source": []
  }
 ],
 "metadata": {
  "kernelspec": {
   "display_name": "Python 3 (ipykernel)",
   "language": "python",
   "name": "python3"
  },
  "language_info": {
   "codemirror_mode": {
    "name": "ipython",
    "version": 3
   },
   "file_extension": ".py",
   "mimetype": "text/x-python",
   "name": "python",
   "nbconvert_exporter": "python",
   "pygments_lexer": "ipython3",
   "version": "3.7.13"
  }
 },
 "nbformat": 4,
 "nbformat_minor": 5
}
