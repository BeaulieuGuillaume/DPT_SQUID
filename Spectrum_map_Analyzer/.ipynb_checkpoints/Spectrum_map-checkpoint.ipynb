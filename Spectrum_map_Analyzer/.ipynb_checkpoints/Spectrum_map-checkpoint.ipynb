{
 "cells": [
  {
   "cell_type": "markdown",
   "id": "834cc29b-7761-4cea-aa68-b7b5cfef16e5",
   "metadata": {},
   "source": [
    "# Import package "
   ]
  },
  {
   "cell_type": "code",
   "execution_count": 1,
   "id": "bf4f159e-b51d-4ac8-b04e-791962c58e6c",
   "metadata": {},
   "outputs": [],
   "source": [
    "#Quantum machine import \n",
    "from qm.QuantumMachinesManager import QuantumMachinesManager\n",
    "from qm.octave import *\n",
    "from qm.qua import *\n",
    "from configuration_spectrum_map import *\n",
    "\n",
    "#General os library \n",
    "import os\n",
    "import time\n",
    "import sys\n",
    "\n",
    "\n",
    "from qualang_tools.units import unit\n",
    "from set_octave import get_L0_and_IF\n",
    "from qm import SimulationConfig, LoopbackInterface\n",
    "from qualang_tools.units import unit\n",
    "from qualang_tools.loops import from_array\n",
    "from qualang_tools.plot import interrupt_on_close\n",
    "from qualang_tools.results import progress_counter, fetching_tool\n",
    "u = unit()\n",
    "\n",
    "\n",
    "#Path for HQCPC7 \n",
    "# sys.path.append(r'C:\\Users\\HQClabo\\Documents\\Code\\QuantumMachine\\Guillaume\\NonLinearRes_calib_30_03_2023\\Analysis_Function\\NonLinearRes')\n",
    "# sys.path.append(r'C:\\Users\\HQClabo\\Documents\\Code\\QuantumMachine\\Guillaume\\NonLinearRes_calib_30_03_2023\\Drivers\\Drivers') #path for the analysis function\n",
    "\n",
    "#Path for HQC PC15 \n",
    "sys.path.append(r'C:\\Users\\hqclabo\\Documents\\Code\\gbeaulieu\\Analysis_Function\\NonLinearRes')\n",
    "sys.path.append(r'C:\\Users\\hqclabo\\Documents\\Code\\gbeaulieu\\Drivers')\n",
    "from RohdeSchwartz import FSW\n",
    "import AnFunc as an # analysis function\n",
    "import imageio\n",
    "\n",
    "\n",
    "\n",
    "from scipy.signal import find_peaks\n",
    "import matplotlib.pyplot as plt\n",
    "import numpy as np\n",
    "from scipy.optimize import curve_fit\n",
    "from IPython.display import display\n",
    "import scipy.io"
   ]
  },
  {
   "cell_type": "markdown",
   "id": "e2fd1cbc-0eb9-451a-9829-f76292a5dec4",
   "metadata": {},
   "source": [
    "# Octave & OPX configuration"
   ]
  },
  {
   "cell_type": "code",
   "execution_count": 2,
   "id": "070eb029-71e4-4a4e-8fc6-975af3fdf442",
   "metadata": {},
   "outputs": [
    {
     "name": "stdout",
     "output_type": "stream",
     "text": [
      "2023-05-01 15:49:53,027 - qm - INFO - Performing health check\n",
      "2023-05-01 15:49:53,040 - qm - WARNING -   HC Warning: Potential hardware issue with QSync in controller con1, multiple controllers sync cannot be guaranteed, please inform QM\n",
      "2023-05-01 15:49:53,041 - qm - INFO - Health check passed\n"
     ]
    }
   ],
   "source": [
    "#Octave & OPX configuration  \n",
    "Saving_Path=r\"\\\\sb1files\\HQC\\Users\\beaulieu\\Data\\Run01\\104\\\\\"\n",
    "Cooldown_Date=\"2023_04_14\"\n",
    "\n",
    "#Octave & OPX configuration \n",
    "opx_ip = '128.178.175.167'\n",
    "opx_port = 81\n",
    "octave_ip = '128.178.175.167'\n",
    "octave_port = 53\n",
    "\n",
    "\n",
    "\n",
    "#Mixers for the fluxline \n",
    "octave_output_gain=-10\n",
    "\n",
    "octave_config = QmOctaveConfig()\n",
    "octave_config.set_calibration_db(os.getcwd()) #Path to the calibration database \n",
    "\n",
    "octave_config.add_device_info('octave1', octave_ip, octave_port) #Add a device refered to as octave 1\n",
    "octave_config.set_opx_octave_mapping([('con1', 'octave1')])  # set default mapping between analog outputs of OPX and the octave\n",
    "\n",
    "qmm = QuantumMachinesManager(host=opx_ip, port=opx_port, octave=octave_config)\n",
    "qm = qmm.open_qm(config)\n",
    "\n",
    "#Mixers for the fluxline \n",
    "qmm.octave_manager.set_clock(\"octave1\", ClockType.External, ClockFrequency.MHZ_10) # External clock on the octave \n",
    "qm.octave.set_lo_source(\"fluxline\", OctaveLOSource.Internal) # Use internal LO for the fluxline \n",
    "qm.octave.set_lo_frequency(\"fluxline\", LO_fluxline)  # Set the frequency of the LO \n",
    "qm.octave.set_rf_output_gain(\"fluxline\", octave_output_gain)  # can set gain from -10dB to 20dB\n",
    "qm.octave.set_rf_output_mode(\"fluxline\", RFOutputMode.on)  # The LO output is always on (could change to a trigger)"
   ]
  },
  {
   "cell_type": "code",
   "execution_count": 3,
   "id": "068f8f77-bf96-4cbd-a489-875a858d3813",
   "metadata": {},
   "outputs": [],
   "source": [
    "def update_two_photon_lenght(twoPhoton_len,config,qmm):\n",
    "    \"\"\" Update the length of the fluxline pulse in the configuration file\"\"\"\n",
    "\n",
    "    config[\"pulses\"][\"twoPhoton\"][\"length\"]=twoPhoton_len\n",
    "\n",
    "\n",
    "    #Update the config with the modified values above \n",
    "    qm = qmm.open_qm(config)\n",
    "    \n",
    "    return config, qm\n",
    "\n",
    "\n",
    "def update_delay(delay,config,qmm):\n",
    "    \"\"\" Update the input offsets of the qm in the configuration file \"\"\"\n",
    "    \n",
    "    config[\"elements\"][\"fluxline\"][\"digitalInputs\"][\"switch\"][\"delay\"]=delay\n",
    "    \n",
    "    \n",
    "    qm=qmm.open_qm(config)\n",
    "    \n",
    "    return config, qm"
   ]
  },
  {
   "cell_type": "markdown",
   "id": "b8f93c4a-5c9e-47a6-ae2a-ab4bac61b26d",
   "metadata": {
    "tags": []
   },
   "source": [
    "# Spectrum Analyzer Setup\n",
    "\n",
    "https://www.itu.int/en/ITU-D/Regional-Presence/ArabStates/Documents/events/2020/SM/Pres/S2D3Spectrum%20Analyzer.pdf\n",
    "\n",
    "Reference level : is the top edge of the display and represents the maximum power expected at the spectrum analyzer input. Typically, we want ther reference level to be slighly above above our signal power. Setting the reference level too high or too low decrease the dynammic range. \n",
    "\n",
    "Input attenuator : When we set the reference level, the input attenuator is adjusted to have a proper gain and avoid overloading the isntrument\n",
    "\n",
    "RBW: spectrum analyzer performs heterodyne measurement. The RBW sets the size of the IF filter before the detector. Can be understood as a filter sweeping on the signal. The RBW also affects the noise floor. Decreasing the RBW by a factor of 10 decreases the noise floor by a factor of 10 dBm. \n",
    "\n",
    "VBW : filter used to average or smooth out the displayed trace. Only affect how it is displayed and not acquired. The video bandwidth only reduces the noise on the trace. It doesn not lower the noise floor or imporve frequency resolution or signal separation. \n",
    "\n",
    "Typical spectrum parameters for device 104 are :\n",
    "- centerSpan = True\n",
    "- centerFreq = 4.3503e9 \n",
    "- spanFreq = 500#1e6    \n",
    "- pointsNum =501   \n",
    "- RBW_bandwidth = 2\n",
    "- VBW_bandwidth = 2\n",
    "- level=0.5\n",
    "\n",
    "Typical pulse 104 :\n",
    "- length : 2_000_000_000 (2s)\n",
    "- Delay : 50_000_000\n",
    "\n",
    "Typical spectrum parameters for device 123 are :\n",
    "- centerSpan = True\n",
    "- centerFreq =4.33335e9 \n",
    "- spanFreq = 10e3  \n",
    "- pointsNum = 1001\n",
    "- RBW_bandwidth = 10\n",
    "- VBW_bandwidth = 10\n",
    "- level=0.5\n",
    "\n",
    "Typical pulse 123 :\n",
    "- length : 600_000_000\n",
    "- Delay : 5_000_000\n"
   ]
  },
  {
   "cell_type": "code",
   "execution_count": 14,
   "id": "29f5c4db-a098-4511-b83a-7ba761fe6e1e",
   "metadata": {},
   "outputs": [],
   "source": [
    "sa =  FSW('TCPIP0::169.254.209.74::inst0::INSTR')\n",
    "\n",
    "#Parameters of the spectrum analyzer \n",
    "centerSpan = True\n",
    "centerFreq =(LO_fluxline+IF_fluxline)/2\n",
    "spanFreq = 4e3  \n",
    "pointsNum = 1001\n",
    "RBW_bandwidth = 10\n",
    "VBW_bandwidth =1  #10\n",
    "level=0.5\n",
    "noise_cancel=False\n",
    "attenuation=0\n",
    "range_spectrum=50\n",
    "\n",
    "if centerSpan:\n",
    "    startFreq = centerFreq - spanFreq/2\n",
    "    stopFreq = centerFreq + spanFreq/2\n",
    "    \n",
    "sa.set_RBW(RBW_bandwidth) # set RBW bandwidth\n",
    "sa.set_VBW(VBW_bandwidth) # set the VBW bandwidth \n",
    "sa.set_sweep(startFreq, stopFreq, pointsNum)  # set the sweep \n",
    "sa.set_trig(level) # sets the continuous trigger mode \n",
    "sa.set_input_coupling(\"AC\")\n",
    "sa.set_input_impedance(50)\n",
    "sa.set_continuous(\"on\")\n",
    "sa.set_noise_correction(noise_cancel)\n",
    "sa.set_attenuation(attenuation)\n",
    "sa.set_display(0)\n",
    "sa.set_range(range_spectrum)"
   ]
  },
  {
   "cell_type": "markdown",
   "id": "a6d073f7-eb92-4a4f-8fad-35f157f17d8c",
   "metadata": {},
   "source": [
    "## Testing the pump\n",
    "Sets of programs for calibrating the pump at the frequency defined in the configuration file and also playing an infinite pulse to look at the spectrum Analyzer"
   ]
  },
  {
   "cell_type": "code",
   "execution_count": 5,
   "id": "aff664af-fa6b-43fd-9db1-a4df06d55a5a",
   "metadata": {},
   "outputs": [
    {
     "name": "stdout",
     "output_type": "stream",
     "text": [
      "2023-05-01 15:16:34,502 - qm - INFO - Flags: \n",
      "2023-05-01 15:16:34,503 - qm - INFO - Compiling program\n",
      "2023-05-01 15:16:37,298 - qm - INFO - Sending pre-compiled program to QOP\n"
     ]
    }
   ],
   "source": [
    "#Calibration of the fluxline mixer \n",
    "qm.octave.calibrate_element(\"fluxline\", [get_L0_and_IF(config, \"fluxline\")])  \n",
    "qm = qmm.open_qm(config)"
   ]
  },
  {
   "cell_type": "code",
   "execution_count": 12,
   "id": "47c2d448-4a27-47bd-87a1-0b72825f8b83",
   "metadata": {},
   "outputs": [
    {
     "name": "stdout",
     "output_type": "stream",
     "text": [
      "2023-05-01 15:50:37,383 - qm - INFO - Flags: \n",
      "2023-05-01 15:50:37,384 - qm - INFO - Sending program to QOP\n",
      "2023-05-01 15:50:37,580 - qm - INFO - Executing program\n"
     ]
    }
   ],
   "source": [
    "# Applies a continious pump for testing \n",
    "amp_factor=0.6\n",
    "\n",
    "twoPhoton_len=1000\n",
    "config,qm=update_two_photon_lenght(twoPhoton_len,config,qmm)\n",
    "\n",
    "with program() as TwoPhoton:\n",
    "    with infinite_loop_():\n",
    "        play(\"pumping\"*amp(amp_factor), 'fluxline')\n",
    "           \n",
    "job = qm.execute(TwoPhoton)"
   ]
  },
  {
   "cell_type": "code",
   "execution_count": 13,
   "id": "dc35e2ad-dac1-44fb-ae9c-cfc34bc95f65",
   "metadata": {},
   "outputs": [
    {
     "data": {
      "text/plain": [
       "True"
      ]
     },
     "execution_count": 13,
     "metadata": {},
     "output_type": "execute_result"
    }
   ],
   "source": [
    "job.halt()"
   ]
  },
  {
   "cell_type": "markdown",
   "id": "99969601-11c7-44e9-bf09-199f52ed39ad",
   "metadata": {},
   "source": [
    "## Testing of the pump and trigger\n",
    "Program for testing the trigger with the pump. The program plays the pump pulse as defined in the configuation file. The pulse triggers the Analyzer and the spectrum can then be collected"
   ]
  },
  {
   "cell_type": "code",
   "execution_count": 10,
   "id": "20fc2d21-ec5a-4175-af92-8544978e1fc1",
   "metadata": {},
   "outputs": [
    {
     "name": "stdout",
     "output_type": "stream",
     "text": [
      "2023-05-01 15:50:15,732 - qm - INFO - Flags: \n",
      "2023-05-01 15:50:15,732 - qm - INFO - Sending program to QOP\n",
      "2023-05-01 15:50:15,755 - qm - INFO - Executing program\n"
     ]
    }
   ],
   "source": [
    "amp_factor=0.6\n",
    "twoPhoton_len=2_000_000_000\n",
    "config,qm=update_two_photon_lenght(twoPhoton_len,config,qmm)\n",
    "delay=400_000_000\n",
    "config,qm=update_delay(delay,config,qmm)\n",
    "\n",
    "with program() as TriggerTest:\n",
    "    \n",
    "    #update_frequency(\"fluxline\",0.1e9) #fluxline offset \n",
    "    play(\"pumping\"*amp(amp_factor), 'fluxline')\n",
    "    \n",
    "    \n",
    "simulation = False\n",
    "if simulation:\n",
    "    simulation_config = SimulationConfig(\n",
    "        duration=10000, simulation_interface=LoopbackInterface([(\"con1\", 3, \"con1\", 1)])\n",
    "    )\n",
    "    \n",
    "    job = qmm.simulate(config, TriggerTest, simulation_config)\n",
    "    job.get_simulated_samples().con1.plot(analog_ports={'3','4' },digital_ports={'1','3'})    \n",
    "else:\n",
    "    job = qm.execute(TriggerTest)\n",
    "        "
   ]
  },
  {
   "cell_type": "code",
   "execution_count": 11,
   "id": "82c0ddfa-5be7-4ef8-b12e-a1b74d6eda8a",
   "metadata": {},
   "outputs": [
    {
     "data": {
      "image/png": "[encoded data removed]",
      "text/plain": [
       "<Figure size 640x480 with 1 Axes>"
      ]
     },
     "metadata": {},
     "output_type": "display_data"
    }
   ],
   "source": [
    "#Collects the data \n",
    "[freq, val] = sa.collect_spectrum()\n",
    "\n",
    "plt.plot(freq, val)\n",
    "plt.show()"
   ]
  },
  {
   "cell_type": "markdown",
   "id": "4d196232-2978-4fd0-8076-a005dc58126f",
   "metadata": {
    "tags": []
   },
   "source": [
    "## Testing for updating frequencies \n",
    "\n",
    "Porgramm for a single frequency with the trigger. This program sweeps the frequency of the pump and looks at the network analyzer where it is defined. The settings of the network analyzer are as defined in the cell above"
   ]
  },
  {
   "cell_type": "code",
   "execution_count": 17,
   "id": "b627a40f-9309-4131-ba54-f3370f6b975c",
   "metadata": {},
   "outputs": [
    {
     "name": "stdout",
     "output_type": "stream",
     "text": [
      "2023-05-01 15:54:58,123 - qm - INFO - Flags: \n",
      "2023-05-01 15:54:58,123 - qm - INFO - Sending program to QOP\n",
      "2023-05-01 15:54:58,160 - qm - INFO - Executing program\n",
      "0.0\n",
      "0.1\n",
      "0.2\n",
      "0.3\n",
      "0.4\n",
      "0.5\n",
      "0.6\n",
      "0.7\n",
      "0.8\n",
      "0.9\n",
      "Wall time: 22.7 s\n"
     ]
    }
   ],
   "source": [
    "%%time\n",
    "\n",
    "amp_factor=0.6\n",
    "twoPhoton_len=2_000_000_000\n",
    "config,qm=update_two_photon_lenght(twoPhoton_len,config,qmm)\n",
    "delay=400_000_000\n",
    "config,qm=update_delay(twoPhoton_len,config,qmm)\n",
    "waiting_acquisition_time=0.2\n",
    "\n",
    "# Frequency sweep \n",
    "span=10 * u.kHz # Span of the pumping \n",
    "df = 1 * u.kHz # Step of the pumping \n",
    "freqs = np.arange(IF_fluxline-span/2, IF_fluxline+span/2, df) #sets of frequencies\n",
    "\n",
    "Data=np.zeros((2,pointsNum))\n",
    "\n",
    "#defines the program \n",
    "with program() as MultiTriggerTest:\n",
    "    \n",
    "    f = declare(int) # frequency \n",
    "    n = declare(int) #iteration index\n",
    "    n_st = declare_stream()\n",
    "    \n",
    "\n",
    "    with for_(*from_array(f,freqs)):\n",
    "\n",
    "        update_frequency(\"fluxline\",f) # updates the IF frequency to the array \n",
    "        play(\"pumping\"*amp(amp_factor), 'fluxline') #Plays the pump pulse on the flux line \n",
    "        pause() # pause to collect the data from the trigger \n",
    "\n",
    "           \n",
    "job = qm.execute(MultiTriggerTest)  # Execute QUA program  \n",
    "\n",
    "    \n",
    "for j in range(len(freqs)):\n",
    "    while not job.is_paused():\n",
    "        time.sleep(0.001)\n",
    "    \n",
    "    #Data is collected here in a 3d matrix. Each page of the 3D matrix correspond to a 2 d matrix \n",
    "    # with two rows. One row being the frequency and the other being the signal \n",
    "    \n",
    "    #time.sleep(pointsNum/RBW_bandwidth**2) #time delay for the acquisition \n",
    "    print(j/len(freqs))\n",
    "    time.sleep(waiting_acquisition_time)\n",
    "    \n",
    "    [Analyzer_freq, Analyzer_value] = sa.collect_spectrum() # Collect the spectrum \n",
    "    \n",
    "    Analyzer_value=Analyzer_value.transpose()\n",
    "    Analyzer_freq=Analyzer_freq.reshape(1,Analyzer_freq.shape[0])\n",
    "    single_trace=np.vstack([Analyzer_value, Analyzer_freq])\n",
    "    Data=np.dstack((Data,single_trace)) # Stacks all of the 2D matrix into a 3D matrix \n",
    "\n",
    "    job.resume()  # Resume to the program\n",
    "\n",
    "    \n",
    " "
   ]
  },
  {
   "cell_type": "code",
   "execution_count": 18,
   "id": "ad3adf03-8f41-4045-9437-0075680fcfd3",
   "metadata": {},
   "outputs": [
    {
     "data": {
      "text/plain": [
       "[<matplotlib.lines.Line2D at 0x2a1894123c8>]"
      ]
     },
     "execution_count": 18,
     "metadata": {},
     "output_type": "execute_result"
    }
   ],
   "source": [
    "%matplotlib qt\n",
    "\n",
    "fig= plt.figure()\n",
    "ax=fig.add_axes([0.1, 0.1 ,0.9, 0.9])\n",
    "\n",
    "ax.set_xlabel(\"Analyzer Frequency\", fontsize=14)\n",
    "ax.set_ylabel(\"IF pulse frequency\", fontsize=14)\n",
    "\n",
    "ax.pcolormesh(Data[1,:,1],freqs,Data[0,:,1:].transpose(),cmap= \"viridis\",shading=\"auto\")\n",
    "\n",
    "ax.plot((freqs+LO_fluxline)/2,freqs,'r',marker=\".\",linestyle = 'None') #points that we are looking at for the half of the pump "
   ]
  },
  {
   "cell_type": "code",
   "execution_count": 55,
   "id": "34ee9079-2c30-41dc-9de1-e60f2a4f0faf",
   "metadata": {},
   "outputs": [
    {
     "data": {
      "text/plain": [
       "[<matplotlib.lines.Line2D at 0x23507201dc8>]"
      ]
     },
     "execution_count": 55,
     "metadata": {},
     "output_type": "execute_result"
    },
    {
     "data": {
      "image/png": "[encoded data removed]",
      "text/plain": [
       "<Figure size 640x480 with 1 Axes>"
      ]
     },
     "metadata": {},
     "output_type": "display_data"
    }
   ],
   "source": [
    "%matplotlib inline\n",
    "fig=plt.figure()\n",
    "idx=9\n",
    "ax=fig.add_axes([0.1, 0.1 ,0.9, 0.9])\n",
    "ax.plot(Data[1,:,idx],Data[0,:,idx])"
   ]
  },
  {
   "cell_type": "markdown",
   "id": "f4a7ac9e-4907-4bfa-bc40-f5c1a25e0cbe",
   "metadata": {},
   "source": [
    "## Set the Parameters \n",
    "Section to set the QM parameters for all the sucessive measurements"
   ]
  },
  {
   "attachments": {
    "2c5e83d2-27ad-4a40-839d-7a873efa2ba0.png": {
     "image/png": "[encoded data removed]"
    }
   },
   "cell_type": "markdown",
   "id": "e76935dd-8e99-4e6b-928d-374ba10c3d76",
   "metadata": {},
   "source": [
    "![image.png](attachment:2c5e83d2-27ad-4a40-839d-7a873efa2ba0.png)"
   ]
  },
  {
   "cell_type": "code",
   "execution_count": 9,
   "id": "e5d9aff5-6ff5-455b-8353-b5fe9b965d93",
   "metadata": {},
   "outputs": [],
   "source": [
    "twoPhoton_len= 2_000_000_000 #600_000_000   #600_000_000 #Lenght of the pulse \n",
    "config,qm=update_two_photon_lenght(twoPhoton_len,config,qmm)\n",
    "delay=50_000_000  #5_000_000 #delay time before sending the trigger once the pulse has been sent\n",
    "config,qm=update_delay(delay,config,qmm)\n",
    "waiting_acquisition_time=0.2"
   ]
  },
  {
   "cell_type": "code",
   "execution_count": 41,
   "id": "20fd47c4-78f6-4fe8-978b-431a593a9cf4",
   "metadata": {},
   "outputs": [
    {
     "name": "stdout",
     "output_type": "stream",
     "text": [
      "2023-04-19 16:09:47,605 - qm - INFO - Flags: \n",
      "2023-04-19 16:09:47,606 - qm - INFO - Simulating program\n"
     ]
    }
   ],
   "source": [
    "%matplotlib qt\n",
    "# Simulation \n",
    "\n",
    "twoPhoton_len=10000 #Lenght of the pulse \n",
    "config,qm=update_two_photon_lenght(twoPhoton_len,config,qmm)\n",
    "delay=50000 #delay time before sending the trigger once the pulse has been sent\n",
    "config,qm=update_delay(delay,config,qmm)\n",
    "waiting_acquisition_time=0.2\n",
    "\n",
    "#single frequency \n",
    "IF_center=190e6\n",
    "freqs = np.array([IF_center]) #sets of frequencies\n",
    "\n",
    "with program() as MultiTriggerTest:\n",
    "    \n",
    "    a = declare(fixed)  # pump amplitude \n",
    "    f = declare(int) # frequency \n",
    "    n = declare(int) #iteration index\n",
    "    n_st = declare_stream()\n",
    "\n",
    "    play(\"pumping\"*amp(0.1), 'fluxline') #Plays the pump pulse on the flux line \n",
    "\n",
    "\n",
    "        \n",
    "            \n",
    "simulation = True\n",
    "\n",
    "if simulation:\n",
    "    simulation_config = SimulationConfig(\n",
    "        duration=20000, simulation_interface=LoopbackInterface([(\"con1\", 3, \"con1\", 1)])\n",
    "    )\n",
    "    job = qmm.simulate(config, MultiTriggerTest, simulation_config)\n",
    "    job.get_simulated_samples().con1.plot(analog_ports={'3','4' },digital_ports={'1','3'})\n",
    "        \n",
    "        "
   ]
  },
  {
   "cell_type": "markdown",
   "id": "29ee7493-44e4-4057-9c4d-476a51708f73",
   "metadata": {},
   "source": [
    "# Display Parameter "
   ]
  },
  {
   "cell_type": "code",
   "execution_count": 11,
   "id": "d078f2bf-d0a3-4689-b299-3d37e928659b",
   "metadata": {},
   "outputs": [
    {
     "name": "stdout",
     "output_type": "stream",
     "text": [
      "LO of fluxline: 8.5 GHz\n",
      "IF of fluxline : 0.1959 GHz\n",
      "Fluxline pulse time : 2000000000 ns\n",
      "Fluxline amplitude : 0.125 V\n"
     ]
    }
   ],
   "source": [
    "\n",
    "print(\"LO of fluxline: {} GHz\".format(config['elements']['fluxline'][\"mixInputs\"][\"lo_frequency\"]/1e9))\n",
    "print(\"IF of fluxline : {} GHz\".format(config['elements']['fluxline']['intermediate_frequency']/1e9))\n",
    "print(\"Fluxline pulse time : {} ns\".format(config[\"pulses\"][\"twoPhoton\"][\"length\"]))\n",
    "print(\"Fluxline amplitude : {} V\".format(config[\"waveforms\"][\"twoPhoton_wf\"]['sample']))"
   ]
  },
  {
   "cell_type": "markdown",
   "id": "ef016d5e-6cc3-4abd-b1ab-d347dd72f31c",
   "metadata": {},
   "source": [
    "# Full Measurement Code for a single 2D Map \n",
    "For each pump amplitude, the frequency of the pump is swept and we collect the traces with the spectrum Analayzer"
   ]
  },
  {
   "cell_type": "code",
   "execution_count": 13,
   "id": "97c61a70-bbeb-4a90-acbe-85c9912abbda",
   "metadata": {},
   "outputs": [
    {
     "name": "stdout",
     "output_type": "stream",
     "text": [
      "There will be 900 points\n",
      "The total tim for 1 average is 17.142857142857142 min\n",
      "The total time for all averages is 34.285714285714285 min\n"
     ]
    }
   ],
   "source": [
    "save_trace=False\n",
    "cooldown_date=Cooldown_Date #top folder \n",
    "device=\"Spectrum\" #second folder \n",
    "name=\"Map\" # third folder \n",
    "meastype=\"filename\" #Final file name \n",
    "\n",
    "\n",
    "#Pump frequency sweep \n",
    "span=1 * u.MHz # Span of the pumping \n",
    "df = 0.01 * u.MHz # Step of the pumping 0.01\n",
    "IF_center=0.1978e9\n",
    "freqs = np.arange(IF_center-span/2, IF_center+span/2, df) #sets of frequencies\n",
    "\n",
    "#Amplitude sweep\n",
    "a_min = 0.3\n",
    "a_max = 0.7\n",
    "da = 0.05#0.005\n",
    "amplitudes = np.arange(a_min, a_max + da / 2, da)  # +da/2 to add a_max to the scan (vector of amplitudes)\n",
    "\n",
    "\n",
    "#Number of average\n",
    "Number_Average=2\n",
    "\n",
    "NumberPoints=freqs.shape[0]*amplitudes.shape[0]\n",
    "TimePerPoint=(4*60)/210\n",
    "print(\"There will be {} points\".format(NumberPoints))\n",
    "print(\"The total tim for 1 average is {} min\".format(NumberPoints*TimePerPoint/60))\n",
    "print(\"The total time for all averages is {} min\".format(NumberPoints*TimePerPoint*Number_Average/60))\n"
   ]
  },
  {
   "cell_type": "code",
   "execution_count": 14,
   "id": "ad56d05a-ebf6-4de8-a80b-345a6b336c13",
   "metadata": {},
   "outputs": [
    {
     "name": "stdout",
     "output_type": "stream",
     "text": [
      "2023-04-19 12:00:12,561 - qm - INFO - Flags: \n",
      "2023-04-19 12:00:12,562 - qm - INFO - Sending program to QOP\n",
      "2023-04-19 12:00:12,802 - qm - INFO - Executing program\n",
      "0.0\n",
      "0.1111111111111111\n",
      "0.2222222222222222\n",
      "0.3333333333333333\n",
      "0.4444444444444444\n",
      "0.5555555555555556\n",
      "0.6666666666666666\n",
      "0.7777777777777778\n",
      "0.8888888888888888\n",
      "Wall time: 15min 40s\n"
     ]
    }
   ],
   "source": [
    "%%time\n",
    "datadict={}\n",
    "datadict[\"Analyzer_center_freq\"]=centerFreq\n",
    "datadict[\"Analyzer_span\"]=spanFreq\n",
    "datadict[\"Numpoints\"]=pointsNum\n",
    "datadict[\"RBW_bandwidth\"]=RBW_bandwidth\n",
    "datadict[\"VBW_bandwidth\"]=VBW_bandwidth\n",
    "datadict[\"amplitudes\"]=amplitudes  \n",
    "datadict[\"octave_gain\"]=octave_output_gain\n",
    "datadict[\"Pump_freq\"]=freqs+LO_fluxline\n",
    "datadict[\"configuration\"]=config\n",
    "datadict[\"Data\"]={}\n",
    "\n",
    "Analyzer_freq_all=np.zeros((len(freqs),pointsNum)) #sets of all frequencies used at the analyzer\n",
    "\n",
    "#defines the program \n",
    "with program() as MultiTriggerTest:\n",
    "    \n",
    "    a = declare(fixed)  # pump amplitude \n",
    "    f = declare(int) # frequency \n",
    "    n = declare(int) #iteration index\n",
    "    n_st = declare_stream()\n",
    "    \n",
    "    with for_(a, a_min, a < a_max + da / 2, a + da):  # Notice it's < a_max + da/2 to include a_max\n",
    "        \n",
    "        with for_(*from_array(f,freqs)):  # Notice it's < a_max + da/2 to include a_max\n",
    "\n",
    "            update_frequency(\"fluxline\",f) # updates the IF frequency to the array \n",
    "            \n",
    "            play(\"pumping\"*amp(a), 'fluxline') #Plays the pump pulse on the flux line \n",
    "\n",
    "            pause() # pause to collect the data from the trigger \n",
    "\n",
    "job = qm.execute(MultiTriggerTest)  # Execute QUA program  \n",
    "\n",
    "    \n",
    "for k in range(len(amplitudes)):\n",
    "    \n",
    "    #Data where each row is a pump frequency (3d matrix to be compatible with following)\n",
    "    Data=np.zeros((len(freqs),pointsNum,1)) \n",
    "    \n",
    "    print(k/len(amplitudes))\n",
    "\n",
    "    for j in range(len(freqs)):\n",
    "\n",
    "        while not job.is_paused():\n",
    "            time.sleep(0.001)\n",
    "\n",
    "        time.sleep(waiting_acquisition_time) #time delay for the acquisition \n",
    "\n",
    "        [Analyzer_freq, Analyzer_value] = sa.collect_spectrum() # Collect the spectrum \n",
    "        \n",
    "        Analyzer_freq_all[j,:]=Analyzer_freq\n",
    "        Data[j,:,0]=Analyzer_value.transpose()\n",
    "       \n",
    "        #Here the center frequency of the next measurement is set\n",
    "        if j<(len(freqs)-1):\n",
    "            sa.set_center_freq((freqs[j+1]+LO_fluxline)/2) #sets the new center frequency on the spectrum analyzer \n",
    "            time.sleep(0.2)\n",
    "        else:\n",
    "            sa.set_center_freq((freqs[0]+LO_fluxline)/2) #sets the new center frequency on the spectrum analyzer \n",
    "            time.sleep(0.2)\n",
    "            \n",
    "        job.resume()  # Resume to the program\n",
    "                  \n",
    "    #Collect the Data matrix for saving \n",
    "    datadict[\"Data\"][amplitudes[k]]=Data\n",
    "                  \n",
    "#only collect one of the full analyzer frequency matrix because it is always the same \n",
    "datadict[\"Analyzer_freq\"]=Analyzer_freq_all \n",
    "    \n",
    "#If save trace is on \n",
    "if save_trace:\n",
    "     an.save_with_numpy(datadict, meastype, name, device, cooldown_date, filepath=r\"\\\\sb1files\\HQC\\Users\\beaulieu\\Data\\Run01\\104\\\\\")"
   ]
  },
  {
   "cell_type": "markdown",
   "id": "0628f680-619e-40fb-b4a4-4ad2469426f3",
   "metadata": {},
   "source": [
    "## Save and load Data"
   ]
  },
  {
   "cell_type": "code",
   "execution_count": null,
   "id": "9ce1616d-f1fa-448a-87ae-d53025dc72f9",
   "metadata": {},
   "outputs": [],
   "source": [
    "#Save datadict  \n",
    "cooldown_date=Cooldown_Date #top folder \n",
    "device=\"Spectrum\" #second folder \n",
    "name=\"Map\" # third folder \n",
    "meastype=\"filename\" #Final file name \n",
    "\n",
    "an.save_with_numpy(datadict, meastype, name, device, cooldown_date, filepath=Saving_Path)  "
   ]
  },
  {
   "cell_type": "code",
   "execution_count": 66,
   "id": "cc9256ba-2fb6-4724-8103-8bf7fd36f46e",
   "metadata": {},
   "outputs": [],
   "source": [
    "#Loading the data \n",
    "\n",
    "filepath=r\"\\\\sb1files\\HQC\\Users\\beaulieu\\Data\\Run01\\104\\2023_04_14\\Spectrum\\Map\\Map_test.npz\"\n",
    "\n",
    "npzfile=np.load(filepath,allow_pickle=True)\n",
    "#npzfile[\"multidata\"][()]\n",
    "\n",
    "amplitudes=npzfile[\"multidata\"][()][\"amplitudes\"]\n",
    "Data=npzfile[\"multidata\"][()][\"Data\"]\n",
    "Pump_freq=npzfile[\"multidata\"][()][\"Pump_freq\"]\n",
    "Analyzer_freq=npzfile[\"multidata\"][()][\"Analyzer_freq\"]"
   ]
  },
  {
   "cell_type": "code",
   "execution_count": 15,
   "id": "c3d2c7f0-d83d-469b-981b-6e3a4cc28866",
   "metadata": {},
   "outputs": [],
   "source": [
    "#If the Data was not saved, we change variables for doing a quick analysis  \n",
    "Data=datadict[\"Data\"]\n",
    "Pump_freq=datadict[\"Pump_freq\"]\n",
    "Analyzer_freq=datadict[\"Analyzer_freq\"]\n",
    "amplitudes=datadict[\"amplitudes\"]"
   ]
  },
  {
   "cell_type": "markdown",
   "id": "8304aafe-0bb4-44fa-b012-587998fc8fbe",
   "metadata": {},
   "source": [
    "## Analysis of a single map"
   ]
  },
  {
   "cell_type": "code",
   "execution_count": 16,
   "id": "2fd3f6f4-efd9-47c4-90c3-8062fcebfe61",
   "metadata": {},
   "outputs": [
    {
     "data": {
      "text/plain": [
       "(<Figure size 708.661x472.441 with 2 Axes>,\n",
       " <Axes:title={'center':'Map_test'}, xlabel='Pump Frequency [GHz]', ylabel='Amplitudes (*125V)'>,\n",
       " <matplotlib.colorbar.Colorbar at 0x2d507ca9848>)"
      ]
     },
     "execution_count": 16,
     "metadata": {},
     "output_type": "execute_result"
    },
    {
     "data": {
      "image/png": "[encoded data removed]",
      "text/plain": [
       "<Figure size 708.661x472.441 with 2 Axes>"
      ]
     },
     "metadata": {},
     "output_type": "display_data"
    }
   ],
   "source": [
    "#Integrate all of the amplitudes \n",
    "integrate=an.average_trace_numpy(Data,amplitudes,Pump_freq,Analyzer_freq)\n",
    "\n",
    "an.plot2D(Pump_freq/1e9,amplitudes,integrate,labels=[\"Pump Frequency [GHz]\",\"Amplitudes (*125V)\",\"Amplitude\"],title=meastype, figsize=(6/2.54, 4/2.54),colormap = \"viridis\", vmin=None, vmax=None, dpi=300, fontsize=4,reversed=False)"
   ]
  },
  {
   "cell_type": "markdown",
   "id": "fc57805b-9853-477d-aeb7-ea7474f3ec1f",
   "metadata": {},
   "source": [
    "# Full measumerent code with averages of the 2D map\n",
    "\n",
    "This allows performing the measurement code N times and each time saving a new matrix data to be averaged later. \n",
    "It takes the parameters defined in the in the blocks before "
   ]
  },
  {
   "cell_type": "code",
   "execution_count": 31,
   "id": "b7b29ab1-1735-4bcf-9f52-6615d1b5dbe0",
   "metadata": {},
   "outputs": [
    {
     "data": {
      "text/plain": [
       "8629840000.0"
      ]
     },
     "execution_count": 31,
     "metadata": {},
     "output_type": "execute_result"
    }
   ],
   "source": [
    "8.5e9+0.129840e9"
   ]
  },
  {
   "cell_type": "code",
   "execution_count": 17,
   "id": "649f069e-f0c2-4958-8df4-43ac139c6510",
   "metadata": {},
   "outputs": [
    {
     "name": "stdout",
     "output_type": "stream",
     "text": [
      "2023-04-19 12:37:55,074 - qm - INFO - Flags: \n",
      "2023-04-19 12:37:55,075 - qm - INFO - Sending program to QOP\n",
      "2023-04-19 12:37:55,110 - qm - INFO - Executing program\n",
      "0.0\n",
      "0.1111111111111111\n",
      "0.2222222222222222\n",
      "0.3333333333333333\n",
      "0.4444444444444444\n",
      "0.5555555555555556\n",
      "0.6666666666666666\n",
      "0.7777777777777778\n",
      "0.8888888888888888\n",
      "2023-04-19 12:53:33,605 - qm - INFO - Flags: \n",
      "2023-04-19 12:53:33,606 - qm - INFO - Sending program to QOP\n",
      "2023-04-19 12:53:33,648 - qm - INFO - Executing program\n",
      "0.0\n",
      "0.1111111111111111\n",
      "0.2222222222222222\n",
      "0.3333333333333333\n",
      "0.4444444444444444\n",
      "0.5555555555555556\n",
      "0.6666666666666666\n",
      "0.7777777777777778\n",
      "0.8888888888888888\n",
      "Wall time: 31min 17s\n"
     ]
    }
   ],
   "source": [
    "%%time\n",
    "\n",
    "datadict={}\n",
    "datadict[\"Analyzer_center_freq\"]=centerFreq\n",
    "datadict[\"Analyzer_span\"]=spanFreq\n",
    "datadict[\"Numpoints\"]=pointsNum\n",
    "datadict[\"RBW_bandwidth\"]=RBW_bandwidth\n",
    "datadict[\"VBW_bandwidth\"]=VBW_bandwidth\n",
    "datadict[\"amplitudes\"]=amplitudes  \n",
    "datadict[\"octave_gain\"]=octave_output_gain\n",
    "datadict[\"Pump_freq\"]=freqs+LO_fluxline\n",
    "datadict[\"configuration\"]=config\n",
    "datadict[\"Data\"]={}\n",
    "datadict[\"octave_gain\"]=octave_output_gain\n",
    "\n",
    "        \n",
    "Analyzer_freq_all=np.zeros((len(freqs),pointsNum)) #sets of all frequencies used at the analyzer\n",
    "\n",
    "#defines the program \n",
    "with program() as MultiTriggerTest:\n",
    "    \n",
    "    a = declare(fixed)  # pump amplitude \n",
    "    f = declare(int) # frequency \n",
    "    n = declare(int) #iteration index\n",
    "    n_st = declare_stream()\n",
    "    \n",
    "   \n",
    "    with for_(a, a_min, a < a_max + da / 2, a + da):  # Notice it's < a_max + da/2 to include a_max\n",
    "        \n",
    "        with for_(*from_array(f,freqs)):  # Notice it's < a_max + da/2 to include a_max\n",
    "\n",
    "            update_frequency(\"fluxline\",f) # updates the IF frequency to the array \n",
    "            \n",
    "            play(\"pumping\"*amp(a), 'fluxline') #Plays the pump pulse on the flux line \n",
    "\n",
    "            pause() # pause to collect the data from the trigger \n",
    "\n",
    "           \n",
    "# Each measurement, we get the full map \n",
    "for i in range(0,Number_Average,1) : \n",
    "    \n",
    "    job = qm.execute(MultiTriggerTest)  # Execute QUA program  \n",
    "\n",
    "    #Data where each row is a pump frequency (3d matrix to be compatible with following). Initialized for each average\n",
    "    Data=np.zeros((len(freqs),pointsNum,1)) #\n",
    "    \n",
    "    for k in range(len(amplitudes)):\n",
    "\n",
    "        print(k/len(amplitudes))\n",
    "\n",
    "        for j in range(len(freqs)):\n",
    "\n",
    "\n",
    "            while not job.is_paused():\n",
    "                time.sleep(0.001)\n",
    "\n",
    "\n",
    "            time.sleep(waiting_acquisition_time) #time delay for the acquisition \n",
    "\n",
    "            [Analyzer_freq, Analyzer_value] = sa.collect_spectrum() # Collect the spectrum \n",
    "\n",
    "            Analyzer_freq_all[j,:]=Analyzer_freq\n",
    "            Data[j,:,0]=Analyzer_value.transpose()\n",
    "\n",
    "            #Here the center frequency of the next measurement is set\n",
    "            if j<(len(freqs)-1):\n",
    "                sa.set_center_freq((freqs[j+1]+LO_fluxline)/2) #sets the new center frequency on the spectrum analyzer \n",
    "                time.sleep(0.2)\n",
    "            else:\n",
    "                sa.set_center_freq((freqs[0]+LO_fluxline)/2) #sets the new center frequency on the spectrum analyzer \n",
    "                time.sleep(0.2)\n",
    "            job.resume()  # Resume to the program\n",
    "\n",
    "  \n",
    "        #concatenate the data of same amplitude for each average \n",
    "        if i>0:\n",
    "            datadict[\"Data\"][amplitudes[k]]=np.concatenate((datadict[\"Data\"][amplitudes[k]],Data),axis=2)\n",
    "        else:     \n",
    "            datadict[\"Data\"][amplitudes[k]]=Data\n",
    "                  \n",
    "#only collect one of the full analyzer frequency matrix because it is always the same \n",
    "datadict[\"Analyzer_freq\"]=Analyzer_freq_all \n",
    "    \n",
    " #Data structure is a 3d matrix (set of 2d matrix stacked on top of each other)"
   ]
  },
  {
   "cell_type": "markdown",
   "id": "27e003db-338a-4ba4-96ff-c9d74ce6a016",
   "metadata": {},
   "source": [
    "## Save and load Data"
   ]
  },
  {
   "cell_type": "code",
   "execution_count": null,
   "id": "29a10723-eabb-45bb-a0e7-fd33778a49a7",
   "metadata": {},
   "outputs": [],
   "source": [
    "#Save datadict  \n",
    "cooldown_date=Cooldown_Date #top folder \n",
    "device=\"Spectrum_av\" #second folder \n",
    "name=\"Map\" # third folder \n",
    "meastype=\"filename\" #Final file name \n",
    "\n",
    "an.save_with_numpy(datadict, meastype, name, device, cooldown_date, filepath=Saving_Path)  "
   ]
  },
  {
   "cell_type": "code",
   "execution_count": null,
   "id": "c74672af-2ed8-46cf-8b35-787cd0c4438a",
   "metadata": {},
   "outputs": [],
   "source": [
    "#Loading the data \n",
    "\n",
    "filepath=r\"\\\\sb1files\\HQC\\Users\\beaulieu\\Data\\Run01\\104\\2023_04_14\\Spectrum\\Map\\Map_test.npz\"\n",
    "\n",
    "npzfile=np.load(filepath,allow_pickle=True)\n",
    "#npzfile[\"multidata\"][()]\n",
    "\n",
    "amplitudes=npzfile[\"multidata\"][()][\"amplitudes\"]\n",
    "Data=npzfile[\"multidata\"][()][\"Data\"]\n",
    "Pump_freq=npzfile[\"multidata\"][()][\"Pump_freq\"]\n",
    "Analyzer_freq=npzfile[\"multidata\"][()][\"Analyzer_freq\"]"
   ]
  },
  {
   "cell_type": "code",
   "execution_count": 18,
   "id": "1f468ecb-9bed-481b-8537-4146f76a4285",
   "metadata": {},
   "outputs": [],
   "source": [
    "#If the Data was not saved, we change variables for doing a quick analysis  \n",
    "Data=datadict[\"Data\"]\n",
    "Pump_freq=datadict[\"Pump_freq\"]\n",
    "Analyzer_freq=datadict[\"Analyzer_freq\"]\n",
    "amplitudes=datadict[\"amplitudes\"]"
   ]
  },
  {
   "cell_type": "markdown",
   "id": "f21fa156-d651-4860-b6cc-efb9b508ba5a",
   "metadata": {},
   "source": [
    "## Analysis of a single map"
   ]
  },
  {
   "cell_type": "code",
   "execution_count": 19,
   "id": "a5303753-c9ea-4288-a160-9a37aaa450b9",
   "metadata": {},
   "outputs": [
    {
     "data": {
      "text/plain": [
       "(<Figure size 708.661x472.441 with 2 Axes>,\n",
       " <Axes:title={'center':'Map_test'}, xlabel='Pump Frequency [GHz]', ylabel='Amplitudes (*125V)'>,\n",
       " <matplotlib.colorbar.Colorbar at 0x2d507d9d408>)"
      ]
     },
     "execution_count": 19,
     "metadata": {},
     "output_type": "execute_result"
    },
    {
     "data": {
      "image/png": "[encoded data removed]",
      "text/plain": [
       "<Figure size 708.661x472.441 with 2 Axes>"
      ]
     },
     "metadata": {},
     "output_type": "display_data"
    }
   ],
   "source": [
    "integrate=an.average_trace_numpy(Data,amplitudes,Pump_freq,Analyzer_freq)\n",
    "\n",
    "an.plot2D(Pump_freq/1e9,amplitudes,integrate,labels=[\"Pump Frequency [GHz]\",\"Amplitudes (*125V)\",\"Amplitude\"],title=meastype, figsize=(6/2.54, 4/2.54),colormap = \"viridis\", vmin=None, vmax=None, dpi=300, fontsize=4,reversed=False)"
   ]
  },
  {
   "cell_type": "markdown",
   "id": "45a43b2c-36e7-4066-b3ca-696f555311c8",
   "metadata": {},
   "source": [
    "# Measurement of amplitude cuts \n",
    "\n",
    "This allows the measurement of a single amplitude cut, n times to get an average"
   ]
  },
  {
   "cell_type": "code",
   "execution_count": 19,
   "id": "90605aaf-375b-42db-be97-ae84ace0f72a",
   "metadata": {},
   "outputs": [
    {
     "name": "stdout",
     "output_type": "stream",
     "text": [
      "[1.961e+08 1.962e+08 1.963e+08 1.964e+08 1.965e+08 1.966e+08 1.967e+08\n",
      " 1.968e+08]\n"
     ]
    }
   ],
   "source": [
    "span=0.8 * u.MHz # Span of the pumping \n",
    "df = 0.1 * u.MHz # Step of the pumping 0.01\n",
    "IF_center=196.5e6   #0.1296e9\n",
    "freqs = np.arange(IF_center-span/2, IF_center+span/2, df) #sets of frequencies\n",
    "print(freqs)\n"
   ]
  },
  {
   "cell_type": "code",
   "execution_count": 20,
   "id": "1e3709d5-c086-4706-b581-19d73fec3d22",
   "metadata": {},
   "outputs": [
    {
     "name": "stdout",
     "output_type": "stream",
     "text": [
      "The number of points (without average) :8\n",
      "The expected time without the average :0.13925925925925928\n",
      "The total expected time (with average) :0.27851851851851855\n"
     ]
    }
   ],
   "source": [
    "save_trace=False\n",
    "#Saving parameters \n",
    "cooldown_date=Cooldown_Date #top folder \n",
    "device=\"Spectrum_av\" #second folder \n",
    "name=\"Amplitude_cut\" # third folder \n",
    "meastype=\"filename\" #Final file name \n",
    "\n",
    "#Amplitude for the sweep\n",
    "amplitudes = [0.6]\n",
    "\n",
    "\n",
    "\n",
    "# a_max=0.65\n",
    "# amplitudes=np.geomspace(a_min, a_max, 10, endpoint = True)f\n",
    "\n",
    "#Number of average\n",
    "n_avg = 2\n",
    "\n",
    "#Expected time \n",
    "NumberPoints=freqs.shape[0]*len(amplitudes)\n",
    "TimePerPoint=(23.5*60)/1350\n",
    "print(\"The number of points (without average) :{}\".format(NumberPoints))\n",
    "print(\"The expected time without the average :{}\".format(NumberPoints*TimePerPoint/60))\n",
    "print(\"The total expected time (with average) :{}\".format(NumberPoints*TimePerPoint*n_avg/60))"
   ]
  },
  {
   "cell_type": "code",
   "execution_count": 21,
   "id": "9aeb184c-95b1-47b3-9db6-2cdeaf3da8de",
   "metadata": {},
   "outputs": [
    {
     "name": "stdout",
     "output_type": "stream",
     "text": [
      "2023-05-01 15:55:41,566 - qm - INFO - Flags: \n",
      "2023-05-01 15:55:41,566 - qm - INFO - Sending program to QOP\n",
      "2023-05-01 15:55:41,607 - qm - INFO - Executing program\n",
      "0.0\n",
      "0.5\n",
      "Wall time: 39.4 s\n"
     ]
    }
   ],
   "source": [
    "%%time\n",
    "\n",
    "datadict={}\n",
    "datadict[\"Analyzer_center_freq\"]=centerFreq\n",
    "datadict[\"Analyzer_span\"]=spanFreq\n",
    "datadict[\"Numpoints\"]=pointsNum\n",
    "datadict[\"RBW_bandwidth\"]=RBW_bandwidth\n",
    "datadict[\"octave_gain\"]=octave_output_gain\n",
    "datadict[\"VBW_bandwidth\"]=VBW_bandwidth\n",
    "datadict[\"amplitudes\"]=np.array(amplitudes)  #convert list to numpy array to be save for all measurements\n",
    "datadict[\"Pump_freq\"]=freqs+LO_fluxline\n",
    "datadict[\"n_avg\"]=n_avg\n",
    "datadict[\"octave_gain\"]=octave_output_gain\n",
    "datadict[\"configuration\"]=config\n",
    "datadict[\"Data\"]={}\n",
    "\n",
    "Analyzer_freq_all=np.zeros((len(freqs),pointsNum)) #sets of all frequencies used at the analyzer\n",
    "\n",
    "#defines the program \n",
    "with program() as MultiTriggerTest:\n",
    "    \n",
    "    a = declare(fixed)  # pump amplitude \n",
    "    f = declare(int) # frequency \n",
    "    n = declare(int) #iteration index\n",
    "    n_st = declare_stream()\n",
    "    \n",
    "    with for_each_(a, amplitudes): # for all the amplitudes \n",
    "\n",
    "        with for_(n, 0, n < n_avg, n + 1):  # Notice it's < a_max + da/2 to include a_max\n",
    "\n",
    "            with for_(*from_array(f,freqs)):  # Notice it's < a_max + da/2 to include a_max\n",
    "\n",
    "                update_frequency(\"fluxline\",f) # updates the IF frequency to the array \n",
    "\n",
    "                play(\"pumping\"*amp(a), 'fluxline') #Plays the pump pulse on the flux line \n",
    "\n",
    "                pause() # pause to collect the data from the trigger \n",
    " \n",
    "    job = qm.execute(MultiTriggerTest)  # Execute QUA program  \n",
    "\n",
    "    \n",
    "#During job on pause     \n",
    "for l in range(len(amplitudes)):\n",
    "    \n",
    "    Data=np.zeros((len(freqs),pointsNum,n_avg)) #data in the format of rows corresponding to each measurement and column from the spectrum analyzer and we get one for each iteration to average       \n",
    "    \n",
    "    for k in range(n_avg):\n",
    "\n",
    "        print(k/n_avg)\n",
    "\n",
    "        for j in range(len(freqs)):\n",
    "\n",
    "            while not job.is_paused():\n",
    "                time.sleep(0.001)\n",
    "\n",
    "\n",
    "            time.sleep(waiting_acquisition_time) #time delay for the acquisition \n",
    "\n",
    "            [Analyzer_freq, Analyzer_value] = sa.collect_spectrum() # Collect the spectrum \n",
    "\n",
    "            Analyzer_freq_all[j,:]=Analyzer_freq #Collect the Analyzer frequency \n",
    "            Data[j,:,k]=Analyzer_value.transpose() #Collect the data where each row is a pump frequency and column is an analyzer frequency \n",
    "\n",
    "            #Here the center frequency of the next measurement is set\n",
    "            if j<(len(freqs)-1):\n",
    "                sa.set_center_freq((freqs[j+1]+LO_fluxline)/2) #sets the new center frequency on the spectrum analyzer \n",
    "                time.sleep(0.2)\n",
    "            else:\n",
    "                sa.set_center_freq((freqs[0]+LO_fluxline)/2) #sets the new center frequency on the spectrum analyzer \n",
    "                time.sleep(0.2)\n",
    "            job.resume()  # Resume to the program\n",
    "\n",
    "    \n",
    "    #Collect the Data matrix for saving \n",
    "    datadict[\"Data\"][amplitudes[l]]=Data\n",
    "\n",
    "    \n",
    "#only collect one of the full analyzer frequency matrix because it is always the same \n",
    "datadict[\"Analyzer_freq\"]=Analyzer_freq_all \n",
    "    \n",
    "#save if save_trace is on \n",
    "if save_trace:\n",
    "    an.save_with_numpy(datadict, meastype, name, device, cooldown_date, filepath=r\"\\\\sb1files\\HQC\\Users\\beaulieu\\Data\\Run01\\104\\\\\")  \n",
    "    \n",
    " #Data structure is a 3d matrix (set of 2d matrix stacked on top of each other)"
   ]
  },
  {
   "cell_type": "code",
   "execution_count": 56,
   "id": "97d62896-c188-41f7-b2b8-93fb3abdc86f",
   "metadata": {},
   "outputs": [
    {
     "name": "stdout",
     "output_type": "stream",
     "text": [
      "2023-05-01 16:13:59,332 - qm - INFO - Flags: \n",
      "2023-05-01 16:13:59,333 - qm - INFO - Sending program to QOP\n",
      "2023-05-01 16:13:59,581 - qm - INFO - Executing program\n",
      "0.0\n",
      "0.5\n",
      "Wall time: 39.5 s\n"
     ]
    }
   ],
   "source": [
    "%%time\n",
    "\n",
    "datadict={}\n",
    "datadict[\"Analyzer_center_freq\"]=centerFreq\n",
    "datadict[\"Analyzer_span\"]=spanFreq\n",
    "datadict[\"Numpoints\"]=pointsNum\n",
    "datadict[\"RBW_bandwidth\"]=RBW_bandwidth\n",
    "datadict[\"octave_gain\"]=octave_output_gain\n",
    "datadict[\"VBW_bandwidth\"]=VBW_bandwidth\n",
    "datadict[\"amplitudes\"]=np.array(amplitudes)  #convert list to numpy array to be save for all measurements\n",
    "datadict[\"Pump_freq\"]=freqs+LO_fluxline\n",
    "datadict[\"n_avg\"]=n_avg\n",
    "datadict[\"octave_gain\"]=octave_output_gain\n",
    "datadict[\"configuration\"]=config\n",
    "datadict[\"Data\"]={}\n",
    "\n",
    "Analyzer_freq_all=np.zeros((len(freqs),pointsNum)) #sets of all frequencies used at the analyzer\n",
    "\n",
    "#defines the program \n",
    "with program() as MultiTriggerTest:\n",
    "    \n",
    "    a = declare(fixed)  # pump amplitude \n",
    "    f = declare(int) # frequency \n",
    "    n = declare(int) #iteration index\n",
    "    n_st = declare_stream()\n",
    "    \n",
    "    with for_each_(a, amplitudes): # for all the amplitudes \n",
    "\n",
    "        with for_(n, 0, n < n_avg, n + 1):  # Notice it's < a_max + da/2 to include a_max\n",
    "\n",
    "            with for_(*from_array(f,freqs)):  # Notice it's < a_max + da/2 to include a_max\n",
    "\n",
    "                update_frequency(\"fluxline\",f) # updates the IF frequency to the array \n",
    "\n",
    "                play(\"pumping\"*amp(a), 'fluxline') #Plays the pump pulse on the flux line \n",
    "\n",
    "                pause() # pause to collect the data from the trigger \n",
    " \n",
    "    job = qm.execute(MultiTriggerTest)  # Execute QUA program  \n",
    "\n",
    "    \n",
    "#During job on pause     \n",
    "for l in range(len(amplitudes)):\n",
    "    fig = plt.figure()\n",
    "    ax = fig.gca()\n",
    "    \n",
    "    Data=np.zeros((len(freqs),pointsNum,n_avg)) #data in the format of rows corresponding to each measurement and column from the spectrum analyzer and we get one for each iteration to average       \n",
    "    \n",
    "    for k in range(n_avg):\n",
    "\n",
    "        print(k/n_avg)\n",
    "\n",
    "        for j in range(len(freqs)):\n",
    "\n",
    "            while not job.is_paused():\n",
    "                time.sleep(0.001)\n",
    "\n",
    "\n",
    "            time.sleep(waiting_acquisition_time) #time delay for the acquisition \n",
    "\n",
    "            [Analyzer_freq, Analyzer_value] = sa.collect_spectrum() # Collect the spectrum \n",
    "\n",
    "            Analyzer_freq_all[j,:]=Analyzer_freq #Collect the Analyzer frequency \n",
    "            Data[j,:,k]=Analyzer_value.transpose() #Collect the data where each row is a pump frequency and column is an analyzer frequency \n",
    "\n",
    "            #Here the center frequency of the next measurement is set\n",
    "            if j<(len(freqs)-1):\n",
    "                sa.set_center_freq((freqs[j+1]+LO_fluxline)/2) #sets the new center frequency on the spectrum analyzer \n",
    "                time.sleep(0.2)\n",
    "            else:\n",
    "                sa.set_center_freq((freqs[0]+LO_fluxline)/2) #sets the new center frequency on the spectrum analyzer \n",
    "                time.sleep(0.2)\n",
    "\n",
    "                \n",
    "                \n",
    "            job.resume()  # Resume to the program\n",
    "            \n",
    "        plt.subplot(111)\n",
    "        plt.cla()\n",
    "        integrate=np.zeros(len(Pump_freq))\n",
    "        \n",
    "        #for j,ampli in enumerate(amplitudes):\n",
    "        mean_Data_watt=10**(Data[:,:,k]/10)\n",
    "        for i in range(len(freqs)):\n",
    "            integrate[i]=np.trapz(mean_Data_watt[i,:], Analyzer_freq_all[i,:])     \n",
    "        fig.canvas.draw()\n",
    "        plt.plot(integrate)\n",
    "        \n",
    "    \n",
    "    #Collect the Data matrix for saving \n",
    "    datadict[\"Data\"][amplitudes[l]]=Data\n",
    "\n",
    "    \n",
    "#only collect one of the full analyzer frequency matrix because it is always the same \n",
    "datadict[\"Analyzer_freq\"]=Analyzer_freq_all \n",
    "    \n",
    "#save if save_trace is on \n",
    "if save_trace:\n",
    "    an.save_with_numpy(datadict, meastype, name, device, cooldown_date, filepath=r\"\\\\sb1files\\HQC\\Users\\beaulieu\\Data\\Run01\\104\\\\\")  \n",
    "    \n",
    " #Data structure is a 3d matrix (set of 2d matrix stacked on top of each other)"
   ]
  },
  {
   "cell_type": "code",
   "execution_count": 54,
   "id": "c91df810-f5c8-4edf-9c6d-3c417bf54ba8",
   "metadata": {},
   "outputs": [
    {
     "data": {
      "text/plain": [
       "array([5.50889245e-07, 9.27186337e-05, 7.53005166e-05, 5.87581474e-05,\n",
       "       1.75873749e-05, 4.43067777e-06, 5.89480344e-07, 5.03656971e-07])"
      ]
     },
     "execution_count": 54,
     "metadata": {},
     "output_type": "execute_result"
    }
   ],
   "source": [
    "integrate"
   ]
  },
  {
   "cell_type": "markdown",
   "id": "d1b8ab4d-741d-4708-8edb-3ef7ffb42b1b",
   "metadata": {},
   "source": [
    "## Save and load data "
   ]
  },
  {
   "cell_type": "code",
   "execution_count": 32,
   "id": "a55d58d1-f23c-4fae-aef6-bd342d880ff6",
   "metadata": {},
   "outputs": [
    {
     "name": "stdout",
     "output_type": "stream",
     "text": [
      "saving\n"
     ]
    }
   ],
   "source": [
    "#Save datadict  \n",
    "cooldown_date=\"2023_04_14\" #top folder \n",
    "device=\"Spectrum\" #second folder \n",
    "name=\"Amplitude_cut\" # third folder \n",
    "meastype=\"Initial_multi_amp_trace\" #Final file name \n",
    "\n",
    "an.save_with_numpy(datadict, meastype, name, device, cooldown_date, filepath=r\"\\\\sb1files\\HQC\\Users\\beaulieu\\Data\\Run01\\104\\\\\")  "
   ]
  },
  {
   "cell_type": "code",
   "execution_count": 3,
   "id": "d34ffd9f-7bf6-4944-90f5-ad63478e0257",
   "metadata": {},
   "outputs": [],
   "source": [
    "#Loading the data \n",
    "\n",
    "filepath=r\"\\\\sb1files\\HQC\\Users\\beaulieu\\Data\\Run01\\104\\2023_04_14\\Spectrum\\Amplitude_cut\\Initial_multi_amp_trace.npz\"\n",
    "\n",
    "npzfile=np.load(filepath,allow_pickle=True)\n",
    "#npzfile[\"multidata\"][()]\n",
    "\n",
    "amplitudes=npzfile[\"multidata\"][()][\"amplitudes\"]\n",
    "Data=npzfile[\"multidata\"][()][\"Data\"]\n",
    "Pump_freq=npzfile[\"multidata\"][()][\"Pump_freq\"]\n",
    "Analyzer_freq=npzfile[\"multidata\"][()][\"Analyzer_freq\"]"
   ]
  },
  {
   "cell_type": "code",
   "execution_count": 22,
   "id": "1b1dca21-f88b-4a9c-85ee-efd58ed1fe11",
   "metadata": {},
   "outputs": [],
   "source": [
    "#If the Data was not saved, we change variables for doing a quick analysis  \n",
    "Data=datadict[\"Data\"]\n",
    "Pump_freq=datadict[\"Pump_freq\"]\n",
    "Analyzer_freq=datadict[\"Analyzer_freq\"]\n",
    "amplitudes=datadict[\"amplitudes\"]"
   ]
  },
  {
   "cell_type": "markdown",
   "id": "d0a7589f-9a56-4be1-9b45-8a091b00a990",
   "metadata": {},
   "source": [
    "## Analisys of single ampltiude cuts"
   ]
  },
  {
   "cell_type": "code",
   "execution_count": 23,
   "id": "0f8bc2e4-07e6-4726-a844-00572801d3e6",
   "metadata": {},
   "outputs": [],
   "source": [
    "#Integrate \n",
    "integrate=an.average_trace_numpy(Data,amplitudes,Pump_freq,Analyzer_freq)"
   ]
  },
  {
   "cell_type": "code",
   "execution_count": 25,
   "id": "f251e3b1-42ff-4556-9e8e-bdec725524dd",
   "metadata": {},
   "outputs": [
    {
     "data": {
      "text/plain": [
       "<matplotlib.legend.Legend at 0x2a18959c608>"
      ]
     },
     "execution_count": 25,
     "metadata": {},
     "output_type": "execute_result"
    }
   ],
   "source": [
    "#Plotting the amplitude cuts and the renormalized data\n",
    "\n",
    "fig, axs = plt.subplots( ncols=2, figsize=(14,6))\n",
    "ax=axs[0]\n",
    "\n",
    "for i in range(len(amplitudes)):\n",
    "     ax.plot(freqs,integrate[i,:],'.-',label=f'amp={amplitudes[i]:1f}', alpha=.9, lw=.5, ms=8)\n",
    "ax.set_xlabel(\"Pump freq\")\n",
    "ax.set_ylabel(\"Amplitudes\")\n",
    "ax.legend()\n",
    "\n",
    "ax=axs[1]\n",
    "Gi=1\n",
    "center_freq=4.35807e9*2  \n",
    "\n",
    "for i in range(len(amplitudes)):\n",
    "    Gx=amplitudes[i]\n",
    "    ax.plot((Pump_freq-center_freq)*Gi/Gx,integrate[i,:]*Gi/Gx, '.-',  label=f'Pump={amplitudes[i]:.1f}', alpha=.9, lw=.5, ms=8)\n",
    "\n",
    "ax.set_title(\"Normalized\")\n",
    "ax.set_xlabel('$\\Delta\\cdot$F')\n",
    "ax.set_ylabel('$n\\cdot F$')\n",
    "ax.set_xlim((-10e5,4e5))\n",
    "ax.legend()"
   ]
  },
  {
   "cell_type": "code",
   "execution_count": 49,
   "id": "f05029aa-4c27-412d-822c-2ebc356f9284",
   "metadata": {},
   "outputs": [
    {
     "ename": "IndexError",
     "evalue": "too many indices for array: array is 1-dimensional, but 2 were indexed",
     "output_type": "error",
     "traceback": [
      "\u001b[1;31m---------------------------------------------------------------------------\u001b[0m",
      "\u001b[1;31mIndexError\u001b[0m                                Traceback (most recent call last)",
      "\u001b[1;32m~\\AppData\\Local\\Temp\\ipykernel_46588\\1066493534.py\u001b[0m in \u001b[0;36m<module>\u001b[1;34m\u001b[0m\n\u001b[0;32m      1\u001b[0m \u001b[1;31m# plot the averaged 2d map of a given amplitudes\u001b[0m\u001b[1;33m\u001b[0m\u001b[1;33m\u001b[0m\u001b[1;33m\u001b[0m\u001b[0m\n\u001b[0;32m      2\u001b[0m \u001b[0mampli\u001b[0m\u001b[1;33m=\u001b[0m\u001b[0mamplitudes\u001b[0m\u001b[1;33m[\u001b[0m\u001b[1;36m0\u001b[0m\u001b[1;33m]\u001b[0m\u001b[1;33m\u001b[0m\u001b[1;33m\u001b[0m\u001b[0m\n\u001b[1;32m----> 3\u001b[1;33m \u001b[0mfig\u001b[0m\u001b[1;33m,\u001b[0m \u001b[0max\u001b[0m\u001b[1;33m,\u001b[0m \u001b[0mcbar\u001b[0m\u001b[1;33m=\u001b[0m\u001b[0man\u001b[0m\u001b[1;33m.\u001b[0m\u001b[0mplot2D\u001b[0m\u001b[1;33m(\u001b[0m\u001b[0mAnalyzer_freq\u001b[0m\u001b[1;33m[\u001b[0m\u001b[1;36m0\u001b[0m\u001b[1;33m,\u001b[0m\u001b[1;33m:\u001b[0m\u001b[1;33m]\u001b[0m\u001b[1;33m/\u001b[0m\u001b[1;36m1e9\u001b[0m\u001b[1;33m,\u001b[0m\u001b[0mPump_freq\u001b[0m\u001b[1;33m/\u001b[0m\u001b[1;36m1e9\u001b[0m\u001b[1;33m,\u001b[0m\u001b[0mnp\u001b[0m\u001b[1;33m.\u001b[0m\u001b[0mmean\u001b[0m\u001b[1;33m(\u001b[0m\u001b[0mData\u001b[0m\u001b[1;33m[\u001b[0m\u001b[0mampli\u001b[0m\u001b[1;33m]\u001b[0m\u001b[1;33m,\u001b[0m\u001b[0maxis\u001b[0m\u001b[1;33m=\u001b[0m\u001b[1;36m2\u001b[0m\u001b[1;33m)\u001b[0m\u001b[1;33m,\u001b[0m\u001b[0mlabels\u001b[0m\u001b[1;33m=\u001b[0m\u001b[1;33m[\u001b[0m\u001b[1;34m\"Analyzer Frequency [GHz]\"\u001b[0m\u001b[1;33m,\u001b[0m\u001b[1;34m\"Pump Frequency\"\u001b[0m\u001b[1;33m,\u001b[0m\u001b[1;34m\"Amplitude [dbm]\"\u001b[0m\u001b[1;33m]\u001b[0m\u001b[1;33m,\u001b[0m\u001b[0mtitle\u001b[0m\u001b[1;33m=\u001b[0m\u001b[1;34m\"Average\"\u001b[0m\u001b[1;33m,\u001b[0m \u001b[0mfigsize\u001b[0m\u001b[1;33m=\u001b[0m\u001b[1;33m(\u001b[0m\u001b[1;36m6\u001b[0m\u001b[1;33m/\u001b[0m\u001b[1;36m2.54\u001b[0m\u001b[1;33m,\u001b[0m \u001b[1;36m4\u001b[0m\u001b[1;33m/\u001b[0m\u001b[1;36m2.54\u001b[0m\u001b[1;33m)\u001b[0m\u001b[1;33m,\u001b[0m\u001b[0mcolormap\u001b[0m \u001b[1;33m=\u001b[0m \u001b[1;34m\"viridis\"\u001b[0m\u001b[1;33m,\u001b[0m \u001b[0mvmin\u001b[0m\u001b[1;33m=\u001b[0m\u001b[1;32mNone\u001b[0m\u001b[1;33m,\u001b[0m \u001b[0mvmax\u001b[0m\u001b[1;33m=\u001b[0m\u001b[1;32mNone\u001b[0m\u001b[1;33m,\u001b[0m \u001b[0mdpi\u001b[0m\u001b[1;33m=\u001b[0m\u001b[1;36m300\u001b[0m\u001b[1;33m,\u001b[0m \u001b[0mfontsize\u001b[0m\u001b[1;33m=\u001b[0m\u001b[1;36m5\u001b[0m\u001b[1;33m,\u001b[0m\u001b[0mreversed\u001b[0m\u001b[1;33m=\u001b[0m\u001b[1;32mFalse\u001b[0m\u001b[1;33m)\u001b[0m\u001b[1;33m\u001b[0m\u001b[1;33m\u001b[0m\u001b[0m\n\u001b[0m",
      "\u001b[1;31mIndexError\u001b[0m: too many indices for array: array is 1-dimensional, but 2 were indexed"
     ]
    }
   ],
   "source": [
    "# plot the averaged 2d map of a given amplitudes  \n",
    "ampli=amplitudes[0]\n",
    "fig, ax, cbar=an.plot2D(Analyzer_freq[0,:]/1e9,Pump_freq/1e9,np.mean(Data[ampli],axis=2),labels=[\"Analyzer Frequency [GHz]\",\"Pump Frequency\",\"Amplitude [dbm]\"],title=\"Average\", figsize=(6/2.54, 4/2.54),colormap = \"viridis\", vmin=None, vmax=None, dpi=300, fontsize=5,reversed=False)"
   ]
  },
  {
   "cell_type": "code",
   "execution_count": 51,
   "id": "73873b7a-7de2-49d3-8585-f142d0b3d161",
   "metadata": {},
   "outputs": [
    {
     "data": {
      "text/plain": [
       "(8, 1001, 2)"
      ]
     },
     "execution_count": 51,
     "metadata": {},
     "output_type": "execute_result"
    }
   ],
   "source": [
    "Data.shape"
   ]
  },
  {
   "cell_type": "markdown",
   "id": "b9585a6d-6a50-4f7e-b020-4fbfe29e3ae8",
   "metadata": {
    "jp-MarkdownHeadingCollapsed": true,
    "tags": []
   },
   "source": [
    "# Sweeping Test"
   ]
  },
  {
   "cell_type": "code",
   "execution_count": 51,
   "id": "ee9b4036-c2d7-40e5-b808-baceb43954ac",
   "metadata": {},
   "outputs": [
    {
     "name": "stdout",
     "output_type": "stream",
     "text": [
      "2023-04-20 14:34:25,751 - qm - INFO - Flags: \n",
      "2023-04-20 14:34:25,751 - qm - INFO - Simulating program\n"
     ]
    }
   ],
   "source": [
    "%matplotlib qt\n",
    "\n",
    "freq = np.arange(100e6, 200e6, 10e6).astype(int)\n",
    "\n",
    "twoPhoton_len=1000  #2_000_000 #Lenght of the pulse \n",
    "config,qm=update_two_photon_lenght(twoPhoton_len,config,qmm)\n",
    "\n",
    "delay=0 #delay time before sending the trigger once the pulse has been sent\n",
    "config,qm=update_delay(delay,config,qmm)\n",
    "\n",
    "\n",
    "with program() as hello_qua:\n",
    "    i = declare(int) \n",
    "    j = declare(int)\n",
    "    f = declare(int, value=freq)\n",
    "\n",
    "    with for_(i, 0, i < len(freqs), i + 1):\n",
    "        \n",
    "        with for_(j, 0, j <= i, j + 1):\n",
    "            \n",
    "            update_frequency(\"fluxline\", f[j])\n",
    "            \n",
    "            play(\"pumping\"*amp(amp_factor), 'fluxline')\n",
    "            \n",
    "simulation = True \n",
    "\n",
    "if simulation:\n",
    "    simulation_config = SimulationConfig(\n",
    "        duration=20000, simulation_interface=LoopbackInterface([(\"con1\", 3, \"con1\", 1)])\n",
    "    )\n",
    "    job = qmm.simulate(config, hello_qua, simulation_config)\n",
    "    job.get_simulated_samples().con1.plot(analog_ports={'3','4' },digital_ports={'1','3'})"
   ]
  },
  {
   "cell_type": "code",
   "execution_count": 33,
   "id": "2454205c-474c-41bc-a759-72441d83afd3",
   "metadata": {},
   "outputs": [
    {
     "name": "stdout",
     "output_type": "stream",
     "text": [
      "2023-04-19 15:41:50,461 - qm - INFO - Flags: \n",
      "2023-04-19 15:41:50,462 - qm - INFO - Simulating program\n"
     ]
    }
   ],
   "source": [
    "#Sweeping of the pump \n",
    "%matplotlib qt\n",
    "twoPhoton_len=1000  #2_000_000 #Lenght of the pulse \n",
    "config,qm=update_two_photon_lenght(twoPhoton_len,config,qmm)\n",
    "\n",
    "delay=0 #delay time before sending the trigger once the pulse has been sent\n",
    "config,qm=update_delay(delay,config,qmm)\n",
    "\n",
    "span=1 * u.MHz # Span of the pumping \n",
    "df = 0.2 * u.MHz # Step of the pumping 0.01\n",
    "IF_center=0.1978e9\n",
    "IF_center_1=0.1977e9\n",
    "freqs = np.arange(IF_center-span/2, IF_center+span/2, df) #sets of frequencies\n",
    "\n",
    "amp_factor=0.4 \n",
    "max_rep=20\n",
    "\n",
    "\n",
    "#Will need to create a new pulse to avoid triggering the spectrum analyzer \n",
    "with program() as Test_pump_sweep:\n",
    "\n",
    "    n = declare(int)\n",
    "    i = declare(int)\n",
    "    f = declare(int) # frequency \n",
    "  \n",
    "    update_frequency(\"fluxline\",IF_center) # updates the IF frequency to the array \n",
    "    with for_(i, 0, i < max_rep, i + 1): # the 300 is added because there is a time delay associated to saving the data in the steam. The *4 is necessary because the waiting time is in clockcycle \n",
    "        play(\"pumping\"*amp(amp_factor), 'fluxline') #Plays the pump pulse on the flux line \n",
    "        \n",
    "        with switch_(i):\n",
    "            with case_(10):\n",
    "                update_frequency(\"fluxline\",IF_center_1)\n",
    "\n",
    "        \n",
    "simulation = True \n",
    "\n",
    "if simulation:\n",
    "    simulation_config = SimulationConfig(\n",
    "        duration=20000, simulation_interface=LoopbackInterface([(\"con1\", 3, \"con1\", 1)])\n",
    "    )\n",
    "    job = qmm.simulate(config, Test_pump_sweep, simulation_config)\n",
    "    job.get_simulated_samples().con1.plot(analog_ports={'3','4' },digital_ports={'1','3'})\n",
    "    \n",
    "else :\n",
    "    \n",
    "    job = qm.execute(Test_pump_sweep) \n",
    "    \n",
    "          "
   ]
  },
  {
   "cell_type": "code",
   "execution_count": 44,
   "id": "07fd3518-327e-4977-bbc2-0790ff43b9de",
   "metadata": {},
   "outputs": [
    {
     "name": "stdout",
     "output_type": "stream",
     "text": [
      "2023-04-19 15:56:40,772 - qm - INFO - Flags: \n",
      "2023-04-19 15:56:40,773 - qm - INFO - Simulating program\n"
     ]
    }
   ],
   "source": [
    "%matplotlib qt\n",
    "twoPhoton_len=1000  #2_000_000 #Lenght of the pulse \n",
    "config,qm=update_two_photon_lenght(twoPhoton_len,config,qmm)\n",
    "\n",
    "delay=0 #delay time before sending the trigger once the pulse has been sent\n",
    "config,qm=update_delay(delay,config,qmm)\n",
    "\n",
    "span=1 * u.MHz # Span of the pumping \n",
    "df = 0.2 * u.MHz # Step of the pumping 0.01\n",
    "IF_center=0.1978e9\n",
    "freqs = np.arange(IF_center-span/2, IF_center+span/2, df) #sets of frequencies\n",
    "\n",
    "amp_factor=0.4 \n",
    "max_rep=20\n",
    "\n",
    "\n",
    "with program() as Test_pump_sweep:\n",
    "\n",
    "    f = declare(int) \n",
    "  \n",
    "    with for_(*from_array(f,freqs)): \n",
    "        update_frequency(\"fluxline\",f) \n",
    "        play(\"pumping\"*amp(amp_factor), 'fluxline')\n",
    "        \n",
    "        \n",
    "        \n",
    "simulation = True \n",
    "\n",
    "if simulation:\n",
    "    simulation_config = SimulationConfig(\n",
    "        duration=20000, simulation_interface=LoopbackInterface([(\"con1\", 3, \"con1\", 1)])\n",
    "    )\n",
    "    job = qmm.simulate(config, Test_pump_sweep, simulation_config)\n",
    "    job.get_simulated_samples().con1.plot(analog_ports={'3','4' },digital_ports={'1','3'})\n",
    "    \n",
    "else :\n",
    "    \n",
    "    job = qm.execute(Test_pump_sweep) "
   ]
  },
  {
   "cell_type": "code",
   "execution_count": null,
   "id": "559ad7d0-007f-4b97-a4ab-a2b98469d1d8",
   "metadata": {},
   "outputs": [],
   "source": []
  },
  {
   "cell_type": "markdown",
   "id": "f384d816-b08c-4c03-9e0b-ac81dbdd6bb7",
   "metadata": {
    "jp-MarkdownHeadingCollapsed": true,
    "tags": []
   },
   "source": [
    "# Other"
   ]
  },
  {
   "cell_type": "markdown",
   "id": "bfb7b26b-e7aa-43cf-8fa9-8aa37230baa0",
   "metadata": {
    "jp-MarkdownHeadingCollapsed": true,
    "tags": []
   },
   "source": [
    "## Program sweeping pump frequency and amplitude\n",
    "\n",
    "The program here sweeps the amplitude of the pump. For each pump amplitude, the frequency is then sweep. \n"
   ]
  },
  {
   "cell_type": "code",
   "execution_count": null,
   "id": "5c0a3f24-e885-4ef6-ada9-980663100d27",
   "metadata": {},
   "outputs": [],
   "source": [
    "       \n",
    "# # Frequency sweep \n",
    "# span=1 * u.MHz # Span of the pumping \n",
    "# df = 0.01 * u.MHz # Step of the pumping \n",
    "# freqs = np.arange(IF_fluxline-span/2, IF_fluxline+span/2, df) #sets of frequencies\n",
    "\n",
    "\n",
    "# Frequency sweep \n",
    "span=10 * u.kHz # Span of the pumping \n",
    "df = 1 * u.kHz # Step of the pumping \n",
    "freqs = np.arange(IF_fluxline-span/2, IF_fluxline+span/2, df) #sets of frequencies\n",
    "\n",
    "#Amplitude sweep\n",
    "a_min = 0\n",
    "a_max = 0.3\n",
    "da = 0.1\n",
    "amplitudes = np.arange(a_min, a_max + da / 2, da)  # +da/2 to add a_max to the scan (vector of amplitudes)\n",
    "\n",
    "\n",
    "Data=np.zeros((len(freqs),pointsNum,len(amplitudes))) #data \n",
    "\n",
    "\n",
    "#defines the program \n",
    "with program() as MultiTriggerTest:\n",
    "    \n",
    "    a = declare(fixed)  # pump amplitude \n",
    "    f = declare(int) # frequency \n",
    "    n = declare(int) #iteration index\n",
    "    n_st = declare_stream()\n",
    "    \n",
    "   \n",
    "    with for_(a, a_min, a < a_max + da / 2, a + da):  # Notice it's < a_max + da/2 to include a_max\n",
    "        \n",
    "        with for_(*from_array(f,freqs)):  # Notice it's < a_max + da/2 to include a_max\n",
    "\n",
    "            update_frequency(\"fluxline\",f) # updates the IF frequency to the array \n",
    "            \n",
    "            play(\"pumping\"*amp(a), 'fluxline') #Plays the pump pulse on the flux line \n",
    "\n",
    "            pause() # pause to collect the data from the trigger \n",
    "\n",
    "           \n",
    "\n",
    "\n",
    "job = qm.execute(MultiTriggerTest)  # Execute QUA program  \n",
    "\n",
    "    \n",
    "\n",
    "\n",
    "for k in range(len(amplitudes)):\n",
    "    \n",
    "    print(k/len(amplitudes))\n",
    "    \n",
    "    \n",
    "    \n",
    "    for j in range(len(freqs)):\n",
    "\n",
    "\n",
    "        while not job.is_paused():\n",
    "            time.sleep(0.001)\n",
    "\n",
    "       \n",
    "\n",
    "        #time.sleep(pointsNum/RBW_bandwidth**2) #time delay for the acquisition \n",
    "        time.sleep(0.1) \n",
    "\n",
    "        [Analyzer_freq, Analyzer_value] = sa.collect_spectrum() # Collect the spectrum \n",
    "        \n",
    "        Data[j,:,k]=Analyzer_value.transpose()\n",
    "       \n",
    "\n",
    "        job.resume()  # Resume to the program\n",
    "        \n",
    " #Data structure is a 3d matrix (set of 2d matrix stacked on top of each other)"
   ]
  },
  {
   "cell_type": "code",
   "execution_count": null,
   "id": "3f2a061a-6b4e-4a1e-be5e-001521216f94",
   "metadata": {},
   "outputs": [],
   "source": [
    "%matplotlib inline\n",
    "#np.zeros((len(freqs),len(freqs),len(freqs)))\n",
    "\n",
    "idx=3\n",
    "\n",
    "fig= plt.figure()\n",
    "ax=fig.add_axes([0.1, 0.1 ,0.9, 0.9])\n",
    "\n",
    "ax.set_xlabel(\"Analyzer Frequency\", fontsize=14)\n",
    "ax.set_ylabel(\"Amplitude\", fontsize=14)\n",
    "\n",
    "\n",
    "ax.pcolormesh(Analyzer_freq,freqs,Data[:,:,idx],cmap= \"viridis\",shading=\"auto\")\n",
    "#ax.plot(freqs+LO_fluxline,freqs,'r',marker=\".\",linestyle = 'None')"
   ]
  },
  {
   "cell_type": "markdown",
   "id": "75cc764e-0426-496b-8a01-6bd316cca95d",
   "metadata": {
    "jp-MarkdownHeadingCollapsed": true,
    "tags": []
   },
   "source": [
    "## Program sweeping pump frequency and amplitude\n",
    "\n",
    "The program here sweeps the frequency of the pump and for each frequency. For each pump frequency, the amplitude is then sweep. "
   ]
  },
  {
   "cell_type": "code",
   "execution_count": null,
   "id": "c0059b2b-9642-4105-9408-189853f94e59",
   "metadata": {},
   "outputs": [],
   "source": [
    "%%time\n",
    "# Same program that sweeps the frequency of the pump source.But now also sweeps the amplitude. \n",
    "\n",
    "# Frequency sweep \n",
    "span=10 * u.kHz # Span of the pumping \n",
    "df = 2 * u.kHz # Step of the pumping \n",
    "freqs = np.arange(IF_fluxline-span/2, IF_fluxline+span/2, df) #sets of frequencies\n",
    "\n",
    "#Amplitude sweep\n",
    "a_min = 0.0\n",
    "a_max = 0.5\n",
    "da = 0.1\n",
    "amplitudes = np.arange(a_min, a_max + da / 2, da)  # +da/2 to add a_max to the scan (vector of amplitudes)\n",
    "\n",
    "\n",
    "Data=np.zeros((len(amplitudes),pointsNum,len(freqs))) #data \n",
    "\n",
    "\n",
    "#defines the program \n",
    "with program() as MultiTriggerTest:\n",
    "    \n",
    "    a = declare(fixed)  # pump amplitude \n",
    "    f = declare(int) # frequency \n",
    "    n = declare(int) #iteration index\n",
    "    n_st = declare_stream()\n",
    "    \n",
    "   \n",
    "    with for_(*from_array(f,freqs)):\n",
    "        \n",
    "        update_frequency(\"fluxline\",f) # updates the IF frequency to the array \n",
    "        \n",
    "        with for_(a, a_min, a < a_max + da / 2, a + da):  # Notice it's < a_max + da/2 to include a_max\n",
    "\n",
    "            play(\"pumping\"*amp(a), 'fluxline') #Plays the pump pulse on the flux line \n",
    "\n",
    "            pause() # pause to collect the data from the trigger \n",
    "\n",
    "           \n",
    "\n",
    "\n",
    "job = qm.execute(MultiTriggerTest)  # Execute QUA program  \n",
    "\n",
    "    \n",
    "\n",
    "for k in range(len(freqs)):\n",
    "    \n",
    "    print(k/len(freqs))\n",
    "    \n",
    "    \n",
    "    \n",
    "    for j in range(len(amplitudes)):\n",
    "\n",
    "\n",
    "        while not job.is_paused():\n",
    "            time.sleep(0.001)\n",
    "\n",
    "       \n",
    "\n",
    "        #time.sleep(pointsNum/RBW_bandwidth**2) #time delay for the acquisition \n",
    "        time.sleep(0.6)\n",
    "\n",
    "        [Analyzer_freq, Analyzer_value] = sa.collect_spectrum() # Collect the spectrum \n",
    "        \n",
    "        Data[j,:,k]=Analyzer_value.transpose()\n",
    "       \n",
    "\n",
    "        job.resume()  # Resume to the program\n",
    "        \n",
    " #Data structure is a 3d matrix (set of 2d matrix stacked on top of each other). Each 2d Matrix is for a given frequency of the pump \n"
   ]
  },
  {
   "cell_type": "code",
   "execution_count": null,
   "id": "c8aaa24d-9019-4446-a5bb-2991c98f08c7",
   "metadata": {},
   "outputs": [],
   "source": [
    "%matplotlib inline\n",
    "#np.zeros((len(freqs),len(freqs),len(freqs)))\n",
    "\n",
    "idx=5\n",
    "\n",
    "fig= plt.figure()\n",
    "ax=fig.add_axes([0.1, 0.1 ,0.9, 0.9])\n",
    "\n",
    "ax.set_xlabel(\"Analyzer Frequency\", fontsize=14)\n",
    "ax.set_ylabel(\"Amplitude\", fontsize=14)\n",
    "\n",
    "ax.pcolormesh(Analyzer_freq,amplitudes,Data[:,:,idx],cmap= \"viridis\",shading=\"auto\")\n",
    "#ax.plot(freqs+LO_fluxline,freqs,'r',marker=\".\",linestyle = 'None')"
   ]
  },
  {
   "cell_type": "markdown",
   "id": "ed7b65a2-ff80-49d7-936e-07336be0e7c4",
   "metadata": {
    "tags": []
   },
   "source": [
    "## Full measumrent with sweeping the amplitude "
   ]
  },
  {
   "cell_type": "code",
   "execution_count": 210,
   "id": "11481f35-8a3c-49c8-b90e-90ab0180232a",
   "metadata": {},
   "outputs": [
    {
     "name": "stdout",
     "output_type": "stream",
     "text": [
      "2023-02-23 19:44:11,142 - qm - INFO - Flags: \n",
      "2023-02-23 19:44:11,142 - qm - INFO - Sending program to QOP\n",
      "2023-02-23 19:44:11,173 - qm - INFO - Executing program\n",
      "0.0\n",
      "0.1\n",
      "0.2\n",
      "0.3\n",
      "0.4\n",
      "0.5\n",
      "0.6\n",
      "0.7\n",
      "0.8\n",
      "0.9\n"
     ]
    }
   ],
   "source": [
    "\n",
    "\n",
    "# Pumping frequency sweep (around the IF+LO that is set in the configuration file)\n",
    "span=1 * u.MHz # Span of the pumping \n",
    "df = 0.1 * u.MHz # Step of the pumping \n",
    "freqs = np.arange(IF_fluxline-span/2, IF_fluxline+span/2, df) #sets of frequencies\n",
    "\n",
    "\n",
    "#Analyzer parameter\n",
    "\n",
    "sa =  FSW('TCPIP0::169.254.209.74::inst0::INSTR')\n",
    "\n",
    "### Tunable parameters\n",
    "centerSpan = True\n",
    "spanFreq = 0.1e6    \n",
    "pointsNum = 1001\n",
    "RBW_bandwidth = 100\n",
    "VBW_bandwidth = 100\n",
    "level=0.5 #trigger level \n",
    "    \n",
    "sa.set_RBW(RBW_bandwidth) # set RBW bandwidth\n",
    "sa.set_VBW(VBW_bandwidth) # set the VBW bandwidth \n",
    "sa.set_center_freq(freqs[0]+LO_fluxline) #First sets the first center frequency based on first frequnecy of sweep\n",
    "sa.set_span(spanFreq) #set the frequency span \n",
    "\n",
    "sa.set_center_freq_up_mode(0.1e6)\n",
    "\n",
    "sa.set_trig(level) # sets the continuous trigger mode \n",
    "sa.set_input_coupling(\"AC\")\n",
    "sa.set_input_impedance(50)\n",
    "sa.set_continuous(\"on\")\n",
    "sa.set_display(0)\n",
    "\n",
    "\n",
    "#Amplitude sweep\n",
    "a_min = 0\n",
    "a_max = 0.3\n",
    "da = 0.1\n",
    "amplitudes = np.arange(a_min, a_max + da / 2, da)  # +da/2 to add a_max to the scan (vector of amplitudes)\n",
    "\n",
    "\n",
    "Data=np.zeros((len(amplitudes),pointsNum,len(freqs))) #data in the format of rows corresponding to all pumping frequencies \n",
    "                         \n",
    "                            # Column to all the points at the analyzer and third dimensions for each amplitude\n",
    "        \n",
    "Analyzer_freq_all=np.zeros((len(freqs),pointsNum)) #sets of all frequencies used at the analyzer\n",
    "\n",
    "#defines the program \n",
    "with program() as MultiTriggerTest:\n",
    "    \n",
    "    a = declare(fixed)  # pump amplitude \n",
    "    f = declare(int) # frequency \n",
    "    n = declare(int) #iteration index\n",
    "    n_st = declare_stream()\n",
    "    \n",
    "   \n",
    "    with for_(*from_array(f,freqs)):  # Notice it's < a_max + da/2 to include a_max\n",
    "        \n",
    "        update_frequency(\"fluxline\",f) # updates the IF frequency to the array \n",
    "        \n",
    "        with for_(a, a_min, a < a_max + da / 2, a + da):  # Notice it's < a_max + da/2 to include a_max\n",
    "            \n",
    "            play(\"pumping\"*amp(a), 'fluxline') #Plays the pump pulse on the flux line \n",
    "\n",
    "            pause() # pause to collect the data from the trigger \n",
    "\n",
    "           \n",
    "\n",
    "\n",
    "job = qm.execute(MultiTriggerTest)  # Execute QUA program  \n",
    "\n",
    "    \n",
    "\n",
    "\n",
    "for k in range(len(freqs)):\n",
    "    \n",
    "    print(k/len(freqs))\n",
    "    \n",
    "    if k>0:\n",
    "        Analyzer_freq_all[k,:]=Analyzer_value.transpose()\n",
    "   \n",
    "      \n",
    "    for j in range(len(amplitudes)):\n",
    "\n",
    "\n",
    "        while not job.is_paused():\n",
    "            time.sleep(0.001)\n",
    "\n",
    "        \n",
    "\n",
    "        time.sleep(pointsNum/RBW_bandwidth**2) #time delay for the acquisition \n",
    "\n",
    "        [Analyzer_freq, Analyzer_value] = sa.collect_spectrum() # Collect the spectrum \n",
    "        \n",
    "        Data[j,:,k]=Analyzer_value.transpose()\n",
    "       \n",
    "        #Here the center frequency of the next measurement is set\n",
    " \n",
    "        job.resume()  # Resume to the program\n",
    "   \n",
    "\n",
    "    if k>0:\n",
    "        time.sleep(0.5)\n",
    "        sa.set_center_freq(freqs[k]+LO_fluxline) #sets the new center frequency on the spectrum analyzer \n",
    "        time.sleep(0.5)\n",
    "    else:\n",
    "        time.sleep(0.5)\n",
    "        sa.set_center_freq(freqs[0]+LO_fluxline) #sets the new center frequency on the spectrum analyzer \n",
    "        time.sleep(0.5)\n"
   ]
  },
  {
   "cell_type": "code",
   "execution_count": 215,
   "id": "933cfcd2-57b1-4f48-888b-615f2eddb0ca",
   "metadata": {},
   "outputs": [
    {
     "data": {
      "text/plain": [
       "<matplotlib.collections.QuadMesh at 0x1d8729c0348>"
      ]
     },
     "execution_count": 215,
     "metadata": {},
     "output_type": "execute_result"
    },
    {
     "data": {
      "image/png": "[encoded data removed]",
      "text/plain": [
       "<Figure size 640x480 with 1 Axes>"
      ]
     },
     "metadata": {},
     "output_type": "display_data"
    }
   ],
   "source": [
    "%matplotlib inline\n",
    "#np.zeros((len(freqs),len(freqs),len(freqs)))\n",
    "\n",
    "idx=0\n",
    "\n",
    "fig= plt.figure()\n",
    "ax=fig.add_axes([0.1, 0.1 ,1, 1])\n",
    "\n",
    "ax.set_xlabel(\"Analyzer Frequency\", fontsize=14)\n",
    "ax.set_ylabel(\"frequency\", fontsize=14)\n",
    "\n",
    "\n",
    "ax.pcolormesh(Analyzer_freq,amplitudes,Data[:,:,idx],cmap= \"viridis\",shading=\"auto\")\n",
    "#ax.plot(freqs+LO_fluxline,freqs,'r',marker=\".\",linestyle = 'None')"
   ]
  },
  {
   "cell_type": "code",
   "execution_count": 209,
   "id": "b873e799-95af-4b41-a796-4b9749066ae1",
   "metadata": {},
   "outputs": [
    {
     "data": {
      "text/plain": [
       "array([[-1.18308884e+02, -1.19411766e+02, -1.18252663e+02, ...,\n",
       "         9.90999953e+37,  9.90999953e+37,  9.90999953e+37],\n",
       "       [-1.21270088e+02, -1.20495392e+02, -1.18441376e+02, ...,\n",
       "        -1.18088547e+02, -1.14885170e+02, -1.17073578e+02],\n",
       "       [-1.21322716e+02, -1.16610374e+02, -1.18893578e+02, ...,\n",
       "        -1.16122261e+02, -1.19471100e+02, -1.19081093e+02],\n",
       "       [-1.16607559e+02, -1.17442352e+02, -1.17747765e+02, ...,\n",
       "        -1.17871376e+02, -1.15722717e+02, -1.18256935e+02]])"
      ]
     },
     "execution_count": 209,
     "metadata": {},
     "output_type": "execute_result"
    }
   ],
   "source": [
    "#Measurement process : check if the delay for acquisition is actually sufficently long given your setup \n",
    "# Setup the autocalibration and the config file \n",
    "#Then, set the parameters and measure -> should probably calculate the number of points that make sense given your RBW "
   ]
  },
  {
   "cell_type": "markdown",
   "id": "59fe42d6-f8b7-4c11-af3e-c7f18dca6fed",
   "metadata": {
    "jp-MarkdownHeadingCollapsed": true,
    "tags": []
   },
   "source": [
    "## Comment : you cannot select a bandwidth too small for some reason \n",
    "\n",
    "Two things to consider : when you lower the bandwidth of the analyzer, the pulse duration might finish before you have collected all the data at the Analyzer. Therefore, you might want to increase the pulse duration  "
   ]
  },
  {
   "cell_type": "code",
   "execution_count": 261,
   "id": "71e3dbb6-03d3-4244-aa20-260d64aa9d7b",
   "metadata": {},
   "outputs": [
    {
     "data": {
      "text/plain": [
       "31"
      ]
     },
     "execution_count": 261,
     "metadata": {},
     "output_type": "execute_result"
    }
   ],
   "source": [
    "len(amplitudes)"
   ]
  },
  {
   "cell_type": "code",
   "execution_count": null,
   "id": "b7aeb3d2-b94e-4c62-8d93-9e81077062a1",
   "metadata": {},
   "outputs": [],
   "source": [
    "#OLD measurement code \n",
    "\n",
    "# Pumping frequency sweep (around the IF+LO that is set in the configuration file)\n",
    "# span=1 * u.MHz # Span of the pumping \n",
    "# df = 0.05 * u.MHz # Step of the pumping \n",
    "# freqs = np.arange(IF_fluxline-span/2, IF_fluxline+span/2, df) #sets of frequencies\n",
    "\n",
    "\n",
    "# Frequency sweep \n",
    "span=10 * u.kHz # Span of the pumping \n",
    "df = 2 * u.kHz # Step of the pumping \n",
    "freqs = np.arange(IF_fluxline-span/2, IF_fluxline+span/2, df) #sets of frequencies\n",
    "\n",
    "\n",
    "\n",
    "#Analyzer parameter\n",
    "\n",
    "sa =  FSW('TCPIP0::169.254.209.74::inst0::INSTR')\n",
    "\n",
    "### Tunable parameters\n",
    "# centerSpan = True\n",
    "# spanFreq = 0.1e6    \n",
    "# pointsNum = 1001\n",
    "# RBW_bandwidth = 50\n",
    "# VBW_bandwidth = 50\n",
    "# level=0.5 #trigger level \n",
    "# waiting_acquisition_time=pointsNum/RBW_bandwidth**2\n",
    "    \n",
    "# sa.set_RBW(RBW_bandwidth) # set RBW bandwidth\n",
    "# sa.set_VBW(VBW_bandwidth) # set the VBW bandwidth \n",
    "# sa.set_center_freq(freqs[0]+LO_fluxline) #First sets the first center frequency based on first frequnecy of sweep\n",
    "# sa.set_span(spanFreq) #set the frequency span \n",
    "\n",
    "# sa.set_center_freq_up_mode(0.1e6)\n",
    "\n",
    "# sa.set_trig(level) # sets the continuous trigger mode \n",
    "# sa.set_input_coupling(\"AC\")\n",
    "# sa.set_input_impedance(50)\n",
    "# sa.set_continuous(\"on\")\n",
    "# sa.set_display(0)\n",
    "\n",
    "\n",
    "#Amplitude sweep\n",
    "a_min = 0\n",
    "a_max = 0.3\n",
    "da = 0.05\n",
    "amplitudes = np.arange(a_min, a_max + da / 2, da)  # +da/2 to add a_max to the scan (vector of amplitudes)\n",
    "\n",
    "\n",
    "Data=np.zeros((len(freqs),pointsNum,len(amplitudes))) #data in the format of rows corresponding to all pumping frequencies \n",
    "                         \n",
    "                            # Column to all the points at the analyzer and third dimensions for each amplitude\n",
    "        \n",
    "Analyzer_freq_all=np.zeros((len(freqs),pointsNum)) #sets of all frequencies used at the analyzer\n",
    "\n",
    "#defines the program \n",
    "with program() as MultiTriggerTest:\n",
    "    \n",
    "    a = declare(fixed)  # pump amplitude \n",
    "    f = declare(int) # frequency \n",
    "    n = declare(int) #iteration index\n",
    "    n_st = declare_stream()\n",
    "    \n",
    "   \n",
    "    with for_(a, a_min, a < a_max + da / 2, a + da):  # Notice it's < a_max + da/2 to include a_max\n",
    "        \n",
    "        with for_(*from_array(f,freqs)):  # Notice it's < a_max + da/2 to include a_max\n",
    "\n",
    "            update_frequency(\"fluxline\",f) # updates the IF frequency to the array \n",
    "            \n",
    "            play(\"pumping\"*amp(a), 'fluxline') #Plays the pump pulse on the flux line \n",
    "\n",
    "            pause() # pause to collect the data from the trigger \n",
    "\n",
    "           \n",
    "\n",
    "\n",
    "job = qm.execute(MultiTriggerTest)  # Execute QUA program  \n",
    "\n",
    "    \n",
    "\n",
    "\n",
    "for k in range(len(amplitudes)):\n",
    "    \n",
    "    print(k/len(amplitudes))\n",
    "\n",
    "    \n",
    "    for j in range(len(freqs)):\n",
    "\n",
    "\n",
    "        while not job.is_paused():\n",
    "            time.sleep(0.001)\n",
    "\n",
    "        \n",
    "\n",
    "        time.sleep(waiting_acquisition_time) #time delay for the acquisition \n",
    "\n",
    "        [Analyzer_freq, Analyzer_value] = sa.collect_spectrum() # Collect the spectrum \n",
    "        \n",
    "        Analyzer_freq_all[j,:]=Analyzer_freq\n",
    "        Data[j,:,k]=Analyzer_value.transpose()\n",
    "       \n",
    "        \n",
    "        #Here the center frequency of the next measurement is set\n",
    "        if j<(len(freqs)-1):\n",
    "            sa.set_center_freq(freqs[j+1]+LO_fluxline) #sets the new center frequency on the spectrum analyzer \n",
    "            time.sleep(0.05)\n",
    "        else:\n",
    "            sa.set_center_freq(freqs[0]+LO_fluxline) #sets the new center frequency on the spectrum analyzer \n",
    "            time.sleep(0.05)\n",
    "        job.resume()  # Resume to the program\n",
    "    \n",
    "\n",
    "    \n",
    " #Data structure is a 3d matrix (set of 2d matrix stacked on top of each other)\n"
   ]
  },
  {
   "cell_type": "code",
   "execution_count": 7,
   "id": "eb97713c-95d4-44bb-9cbb-8c6b825166dc",
   "metadata": {},
   "outputs": [],
   "source": []
  }
 ],
 "metadata": {
  "kernelspec": {
   "display_name": "Python 3 (ipykernel)",
   "language": "python",
   "name": "python3"
  },
  "language_info": {
   "codemirror_mode": {
    "name": "ipython",
    "version": 3
   },
   "file_extension": ".py",
   "mimetype": "text/x-python",
   "name": "python",
   "nbconvert_exporter": "python",
   "pygments_lexer": "ipython3",
   "version": "3.7.16"
  },
  "toc-autonumbering": true
 },
 "nbformat": 4,
 "nbformat_minor": 5
}
